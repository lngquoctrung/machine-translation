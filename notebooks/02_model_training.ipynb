{
 "cells": [
  {
   "cell_type": "code",
   "execution_count": 1,
   "id": "d92e6c75",
   "metadata": {
    "execution": {
     "iopub.execute_input": "2025-10-23T17:52:06.879330Z",
     "iopub.status.busy": "2025-10-23T17:52:06.879113Z",
     "iopub.status.idle": "2025-10-23T17:52:13.403258Z",
     "shell.execute_reply": "2025-10-23T17:52:13.402511Z"
    },
    "papermill": {
     "duration": 6.530751,
     "end_time": "2025-10-23T17:52:13.404759",
     "exception": false,
     "start_time": "2025-10-23T17:52:06.874008",
     "status": "completed"
    },
    "tags": []
   },
   "outputs": [
    {
     "name": "stdout",
     "output_type": "stream",
     "text": [
      "Collecting GPUtil\r\n",
      "  Downloading GPUtil-1.4.0.tar.gz (5.5 kB)\r\n",
      "  Preparing metadata (setup.py) ... \u001b[?25l\u001b[?25hdone\r\n",
      "Collecting contractions\r\n",
      "  Downloading contractions-0.1.73-py2.py3-none-any.whl.metadata (1.2 kB)\r\n",
      "Collecting textsearch>=0.0.21 (from contractions)\r\n",
      "  Downloading textsearch-0.0.24-py2.py3-none-any.whl.metadata (1.2 kB)\r\n",
      "Collecting anyascii (from textsearch>=0.0.21->contractions)\r\n",
      "  Downloading anyascii-0.3.3-py3-none-any.whl.metadata (1.6 kB)\r\n",
      "Collecting pyahocorasick (from textsearch>=0.0.21->contractions)\r\n",
      "  Downloading pyahocorasick-2.2.0-cp311-cp311-manylinux_2_17_x86_64.manylinux2014_x86_64.whl.metadata (13 kB)\r\n",
      "Downloading contractions-0.1.73-py2.py3-none-any.whl (8.7 kB)\r\n",
      "Downloading textsearch-0.0.24-py2.py3-none-any.whl (7.6 kB)\r\n",
      "Downloading anyascii-0.3.3-py3-none-any.whl (345 kB)\r\n",
      "\u001b[2K   \u001b[90m━━━━━━━━━━━━━━━━━━━━━━━━━━━━━━━━━━━━━━━━\u001b[0m \u001b[32m345.1/345.1 kB\u001b[0m \u001b[31m9.5 MB/s\u001b[0m eta \u001b[36m0:00:00\u001b[0m\r\n",
      "\u001b[?25hDownloading pyahocorasick-2.2.0-cp311-cp311-manylinux_2_17_x86_64.manylinux2014_x86_64.whl (113 kB)\r\n",
      "\u001b[2K   \u001b[90m━━━━━━━━━━━━━━━━━━━━━━━━━━━━━━━━━━━━━━━━\u001b[0m \u001b[32m113.9/113.9 kB\u001b[0m \u001b[31m8.9 MB/s\u001b[0m eta \u001b[36m0:00:00\u001b[0m\r\n",
      "\u001b[?25hBuilding wheels for collected packages: GPUtil\r\n",
      "  Building wheel for GPUtil (setup.py) ... \u001b[?25l\u001b[?25hdone\r\n",
      "  Created wheel for GPUtil: filename=GPUtil-1.4.0-py3-none-any.whl size=7392 sha256=800850e8e31eb54c5035bdb49c5bbdec681f1592548dde6fe1ca7ca98ebbceba\r\n",
      "  Stored in directory: /root/.cache/pip/wheels/2b/4d/8f/55fb4f7b9b591891e8d3f72977c4ec6c7763b39c19f0861595\r\n",
      "Successfully built GPUtil\r\n",
      "Installing collected packages: GPUtil, pyahocorasick, anyascii, textsearch, contractions\r\n",
      "Successfully installed GPUtil-1.4.0 anyascii-0.3.3 contractions-0.1.73 pyahocorasick-2.2.0 textsearch-0.0.24\r\n"
     ]
    }
   ],
   "source": [
    "!pip install GPUtil contractions"
   ]
  },
  {
   "cell_type": "code",
   "execution_count": 2,
   "id": "229cf31f",
   "metadata": {
    "execution": {
     "iopub.execute_input": "2025-10-23T17:52:13.414705Z",
     "iopub.status.busy": "2025-10-23T17:52:13.414447Z",
     "iopub.status.idle": "2025-10-23T17:52:14.265649Z",
     "shell.execute_reply": "2025-10-23T17:52:14.264986Z"
    },
    "papermill": {
     "duration": 0.857281,
     "end_time": "2025-10-23T17:52:14.266816",
     "exception": false,
     "start_time": "2025-10-23T17:52:13.409535",
     "status": "completed"
    },
    "tags": []
   },
   "outputs": [
    {
     "data": {
      "text/plain": [
       "'/kaggle/working/machine-learning-resource/'"
      ]
     },
     "execution_count": 2,
     "metadata": {},
     "output_type": "execute_result"
    }
   ],
   "source": [
    "# ===== Set up project ======\n",
    "import os\n",
    "import shutil\n",
    "\n",
    "# Copy source code to working directory\n",
    "src_path = r\"/kaggle/input/machine-learning-resource/\"\n",
    "dst_path = r\"/kaggle/working/machine-learning-resource/\"\n",
    "\n",
    "shutil.copytree(src_path, dst_path, dirs_exist_ok=True)"
   ]
  },
  {
   "cell_type": "code",
   "execution_count": 3,
   "id": "d00a6c33",
   "metadata": {
    "execution": {
     "iopub.execute_input": "2025-10-23T17:52:14.276434Z",
     "iopub.status.busy": "2025-10-23T17:52:14.275988Z",
     "iopub.status.idle": "2025-10-23T17:52:14.279956Z",
     "shell.execute_reply": "2025-10-23T17:52:14.279248Z"
    },
    "papermill": {
     "duration": 0.009716,
     "end_time": "2025-10-23T17:52:14.280981",
     "exception": false,
     "start_time": "2025-10-23T17:52:14.271265",
     "status": "completed"
    },
    "tags": []
   },
   "outputs": [],
   "source": [
    "# Add root directory to PYTHON path\n",
    "import sys\n",
    "from pathlib import Path\n",
    "\n",
    "# === LOCAL ===\n",
    "# root_dir = str(Path.cwd().parent.parent.absolute())\n",
    "# if not root_dir in sys.path:\n",
    "#     sys.path.insert(0, root_dir)\n",
    "\n",
    "# === KAGGLE ===\n",
    "root_dir = \"/kaggle/working/machine-learning-resource\"\n",
    "if not root_dir in sys.path:\n",
    "    sys.path.insert(0, root_dir)"
   ]
  },
  {
   "cell_type": "markdown",
   "id": "af54b323",
   "metadata": {
    "papermill": {
     "duration": 0.003856,
     "end_time": "2025-10-23T17:52:14.289025",
     "exception": false,
     "start_time": "2025-10-23T17:52:14.285169",
     "status": "completed"
    },
    "tags": []
   },
   "source": [
    "# **Model Training - LSTM & BiLSTM**"
   ]
  },
  {
   "cell_type": "code",
   "execution_count": 4,
   "id": "7c4d99a2",
   "metadata": {
    "execution": {
     "iopub.execute_input": "2025-10-23T17:52:14.299404Z",
     "iopub.status.busy": "2025-10-23T17:52:14.298625Z",
     "iopub.status.idle": "2025-10-23T17:52:28.341133Z",
     "shell.execute_reply": "2025-10-23T17:52:28.340284Z"
    },
    "papermill": {
     "duration": 14.049475,
     "end_time": "2025-10-23T17:52:28.342692",
     "exception": false,
     "start_time": "2025-10-23T17:52:14.293217",
     "status": "completed"
    },
    "tags": []
   },
   "outputs": [
    {
     "name": "stderr",
     "output_type": "stream",
     "text": [
      "2025-10-23 17:52:17.105981: E external/local_xla/xla/stream_executor/cuda/cuda_fft.cc:477] Unable to register cuFFT factory: Attempting to register factory for plugin cuFFT when one has already been registered\n",
      "WARNING: All log messages before absl::InitializeLog() is called are written to STDERR\n",
      "E0000 00:00:1761241937.302717      19 cuda_dnn.cc:8310] Unable to register cuDNN factory: Attempting to register factory for plugin cuDNN when one has already been registered\n",
      "E0000 00:00:1761241937.352359      19 cuda_blas.cc:1418] Unable to register cuBLAS factory: Attempting to register factory for plugin cuBLAS when one has already been registered\n"
     ]
    }
   ],
   "source": [
    "import pandas as pd\n",
    "import matplotlib.pyplot as plt\n",
    "\n",
    "from config import Config\n",
    "from src.utils.gpu_utils import GPUMemoryManager\n",
    "from src.data.preprocessing import DataPreprocessor\n",
    "from src.models.bilstm_attention import BiLSTMAttentionModel\n",
    "from src.models.lstm_attention import LSTMAttentionModel\n",
    "from src.training.trainer import ModelTrainer\n",
    "from src.utils.helpers import save_tokenizer"
   ]
  },
  {
   "cell_type": "code",
   "execution_count": 5,
   "id": "9d2958e9",
   "metadata": {
    "execution": {
     "iopub.execute_input": "2025-10-23T17:52:28.353797Z",
     "iopub.status.busy": "2025-10-23T17:52:28.353086Z",
     "iopub.status.idle": "2025-10-23T17:52:56.367474Z",
     "shell.execute_reply": "2025-10-23T17:52:56.366660Z"
    },
    "papermill": {
     "duration": 28.021852,
     "end_time": "2025-10-23T17:52:56.369293",
     "exception": false,
     "start_time": "2025-10-23T17:52:28.347441",
     "status": "completed"
    },
    "tags": []
   },
   "outputs": [
    {
     "name": "stdout",
     "output_type": "stream",
     "text": [
      "Loaded outputs from previous version\n"
     ]
    }
   ],
   "source": [
    "# Copy outputs from previous version to working directory \n",
    "# (Used to continue training the model if the allowed session runs out)\n",
    "input_dirs = [\n",
    "    d for d in os.listdir('/kaggle/input/') if 'machine-translation-project' in d\n",
    "]\n",
    "\n",
    "if input_dirs:\n",
    "    input_dir = f\"/kaggle/input/{input_dirs[0]}/machine-learning-resource/\"\n",
    "    work_dir = \"/kaggle/working/machine-learning-resource/\"\n",
    "    \n",
    "    os.makedirs(input_dir, exist_ok=True)\n",
    "    shutil.copytree(\n",
    "        input_dir, \n",
    "        work_dir, \n",
    "        ignore=shutil.ignore_patterns(\"src\"), \n",
    "        dirs_exist_ok=True\n",
    "    )\n",
    "    \n",
    "    print(\"Loaded outputs from previous version\")\n",
    "else:\n",
    "    print(\"No previous outputs found. Starting fresh.\")"
   ]
  },
  {
   "cell_type": "markdown",
   "id": "d1ec2680",
   "metadata": {
    "papermill": {
     "duration": 0.004071,
     "end_time": "2025-10-23T17:52:56.386020",
     "exception": false,
     "start_time": "2025-10-23T17:52:56.381949",
     "status": "completed"
    },
    "tags": []
   },
   "source": [
    "## **1. GPU Setup**"
   ]
  },
  {
   "cell_type": "code",
   "execution_count": 6,
   "id": "1a4dcf37",
   "metadata": {
    "ExecuteTime": {
     "end_time": "2025-10-19T09:40:54.821626Z",
     "start_time": "2025-10-19T09:40:54.388049Z"
    },
    "execution": {
     "iopub.execute_input": "2025-10-23T17:52:56.395268Z",
     "iopub.status.busy": "2025-10-23T17:52:56.395042Z",
     "iopub.status.idle": "2025-10-23T17:52:57.213787Z",
     "shell.execute_reply": "2025-10-23T17:52:57.213071Z"
    },
    "papermill": {
     "duration": 0.824675,
     "end_time": "2025-10-23T17:52:57.214878",
     "exception": false,
     "start_time": "2025-10-23T17:52:56.390203",
     "status": "completed"
    },
    "tags": []
   },
   "outputs": [
    {
     "name": "stdout",
     "output_type": "stream",
     "text": [
      "Session cleared\n",
      "GPU memory growth enabled\n",
      "GPU memory limited to 15000 MB\n",
      "Found 1 GPU(s)\n",
      "Mixed precision enabled: mixed_float16\n",
      "Compute dtype: float16\n",
      "Variable dtype: float32\n",
      "GPU 0: 3 MB / 16384 MB (0.0%)\n"
     ]
    }
   ],
   "source": [
    "GPUMemoryManager.clear_session()\n",
    "GPUMemoryManager.setup_gpu(\n",
    "    memory_limit_mb=Config.GPU_MEMORY_LIMIT,\n",
    "    allow_growth=Config.GPU_MEMORY_GROWTH\n",
    ")\n",
    "if Config.USE_MIXED_PRECISION:\n",
    "    GPUMemoryManager.enable_mixed_precision()\n",
    "    GPUMemoryManager.get_memory_info()"
   ]
  },
  {
   "cell_type": "markdown",
   "id": "fbdfbc01",
   "metadata": {
    "papermill": {
     "duration": 0.004271,
     "end_time": "2025-10-23T17:52:57.223839",
     "exception": false,
     "start_time": "2025-10-23T17:52:57.219568",
     "status": "completed"
    },
    "tags": []
   },
   "source": [
    "## **2. Configuration**"
   ]
  },
  {
   "cell_type": "code",
   "execution_count": 7,
   "id": "4d50052b",
   "metadata": {
    "ExecuteTime": {
     "end_time": "2025-10-19T09:41:10.849096Z",
     "start_time": "2025-10-19T09:41:10.844406Z"
    },
    "execution": {
     "iopub.execute_input": "2025-10-23T17:52:57.233177Z",
     "iopub.status.busy": "2025-10-23T17:52:57.232903Z",
     "iopub.status.idle": "2025-10-23T17:52:57.238070Z",
     "shell.execute_reply": "2025-10-23T17:52:57.237230Z"
    },
    "papermill": {
     "duration": 0.011073,
     "end_time": "2025-10-23T17:52:57.239153",
     "exception": false,
     "start_time": "2025-10-23T17:52:57.228080",
     "status": "completed"
    },
    "tags": []
   },
   "outputs": [
    {
     "name": "stdout",
     "output_type": "stream",
     "text": [
      "Configuration:\n",
      "   batch_size: 128\n",
      "   epochs: 100\n",
      "   validation_split: 0.1\n",
      "   learning_rate: 0.001\n",
      "   beta_1: 0.9\n",
      "   beta_2: 0.98\n",
      "   optimizer_epsilon: 1e-09\n",
      "   optimizer_dynamic: True\n",
      "   optimizer_initial_scale: 32768\n",
      "   optimizer_dynamic_growth_steps: 2000\n",
      "   use_lr_scheduler: True\n",
      "   warmup_steps: 8000\n",
      "   total_steps: 100000\n",
      "   min_lr: 1e-07\n",
      "   early_stopping_patience: 5\n",
      "   reduce_lr_patience: 3\n",
      "   reduce_lr_factor: 0.5\n",
      "   save_best_only: True\n",
      "   monitor: val_loss\n",
      "   tensorboard_update_freq: epoch\n",
      "   max_vocab_size_src: 30000\n",
      "   max_vocab_size_trg: 25000\n",
      "   min_word_frequency: 1\n",
      "   embedding_dim: 64\n",
      "   lstm_units: 128\n",
      "   attention_heads: 4\n",
      "   layer_dropout: 0.2\n",
      "   lstm_dropout: 0.2\n",
      "   attention_dropout: 0.1\n",
      "   ln_epsilon: 1e-06\n",
      "   max_length_src: 40\n",
      "   max_length_trg: 50\n",
      "   use_mixed_precision: True\n",
      "   gpu_memory_growth: True\n",
      "   gpu_memory_limit: 15000\n",
      "   label_smoothing: 0.05\n",
      "   use_layer_norm: True\n",
      "   beam_width: 5\n",
      "   use_beam_search: True\n",
      "\n",
      "Memory Estimate:\n",
      "   total_params: 10,444,288\n",
      "   model_memory_mb: 59.76 MB\n",
      "   batch_memory_mb: 15625.00 MB\n",
      "   total_memory_gb: 15.32 GB\n"
     ]
    }
   ],
   "source": [
    "config = Config.to_dict()\n",
    "\n",
    "print(\"Configuration:\")\n",
    "for key, value in config.items():\n",
    "    print(f\"   {key}: {value}\")\n",
    "\n",
    "print(\"\\nMemory Estimate:\")\n",
    "for key, value in Config.estimate_memory().items():\n",
    "    print(f\"   {key}: {value}\")"
   ]
  },
  {
   "cell_type": "markdown",
   "id": "1ec5d566",
   "metadata": {
    "papermill": {
     "duration": 0.00414,
     "end_time": "2025-10-23T17:52:57.247881",
     "exception": false,
     "start_time": "2025-10-23T17:52:57.243741",
     "status": "completed"
    },
    "tags": []
   },
   "source": [
    "## **3. Data Preprocessing**"
   ]
  },
  {
   "cell_type": "code",
   "execution_count": 8,
   "id": "0ebc492e",
   "metadata": {
    "ExecuteTime": {
     "end_time": "2025-10-19T10:22:48.978571Z",
     "start_time": "2025-10-19T10:22:48.408884Z"
    },
    "execution": {
     "iopub.execute_input": "2025-10-23T17:52:57.257283Z",
     "iopub.status.busy": "2025-10-23T17:52:57.257069Z",
     "iopub.status.idle": "2025-10-23T17:52:57.797992Z",
     "shell.execute_reply": "2025-10-23T17:52:57.797163Z"
    },
    "papermill": {
     "duration": 0.547673,
     "end_time": "2025-10-23T17:52:57.799789",
     "exception": false,
     "start_time": "2025-10-23T17:52:57.252116",
     "status": "completed"
    },
    "tags": []
   },
   "outputs": [
    {
     "name": "stdout",
     "output_type": "stream",
     "text": [
      "Loading cached processed data...\n",
      "Dataset: (143144, 2)\n"
     ]
    }
   ],
   "source": [
    "# Tokenizer\n",
    "tokenizer_path = f\"{Config.ARTIFACT_PATH}/tokenizers\"\n",
    "processed_data_path = f\"{Config.DATA_PATH}/processed/processed_df.csv\"\n",
    "\n",
    "preprocessor = DataPreprocessor(\n",
    "    max_vocab_src=Config.MAX_VOCAB_SIZE_SRC,\n",
    "    max_vocab_trg=Config.MAX_VOCAB_SIZE_TRG,\n",
    "    min_frequency=Config.MIN_WORD_FREQUENCY,\n",
    "    expand_contractions=True,\n",
    "    remove_punctuation=True,\n",
    "    name_logger='data_preprocessing',\n",
    "    filename_logger=f'{Config.LOG_DIR}/data_preprocessing.log'\n",
    ")\n",
    "\n",
    "if not os.path.exists(processed_data_path):\n",
    "    print(\"Processing data from scratch...\")\n",
    "    \n",
    "    # Load data\n",
    "    df = preprocessor.load_data(\n",
    "        src_path=f\"{Config.DATA_PATH}/raw/en.txt\",\n",
    "        trg_path=f\"{Config.DATA_PATH}/raw/vi.txt\",\n",
    "        max_length_src=Config.MAX_LENGTH_SRC,\n",
    "        max_length_trg=Config.MAX_LENGTH_TRG\n",
    "    )\n",
    "    \n",
    "    # Save processed data\n",
    "    os.makedirs(os.path.dirname(processed_data_path), exist_ok=True)\n",
    "    df.to_csv(processed_data_path, index=False)\n",
    "    print(f\"Saved processed data to {processed_data_path}\")\n",
    "else:\n",
    "    print(\"Loading cached processed data...\")\n",
    "    df = pd.read_csv(processed_data_path, encoding=\"utf-8\")\n",
    "\n",
    "print(f\"Dataset: {df.shape}\")"
   ]
  },
  {
   "cell_type": "code",
   "execution_count": 9,
   "id": "64371417",
   "metadata": {
    "execution": {
     "iopub.execute_input": "2025-10-23T17:52:57.886298Z",
     "iopub.status.busy": "2025-10-23T17:52:57.885429Z",
     "iopub.status.idle": "2025-10-23T17:52:57.949058Z",
     "shell.execute_reply": "2025-10-23T17:52:57.948238Z"
    },
    "papermill": {
     "duration": 0.122857,
     "end_time": "2025-10-23T17:52:57.950446",
     "exception": false,
     "start_time": "2025-10-23T17:52:57.827589",
     "status": "completed"
    },
    "tags": []
   },
   "outputs": [
    {
     "name": "stdout",
     "output_type": "stream",
     "text": [
      "Train: 114515, Val: 14314, Test: 14315\n",
      "Loading cached tokenizers...\n",
      "Tokenizer loaded from .../artifacts/tokenizers/tokenizer_en.pkl\n",
      "Tokenizer loaded from .../artifacts/tokenizers/tokenizer_vi.pkl\n",
      "English vocab size: 36621\n",
      "Vietnamese vocab size: 27045\n"
     ]
    }
   ],
   "source": [
    "# Split\n",
    "train_df, val_df, test_df = preprocessor.split_data(df)\n",
    "print(f\"Train: {len(train_df)}, Val: {len(val_df)}, Test: {len(test_df)}\")\n",
    "\n",
    "tokenizer_en_path = f'{tokenizer_path}/tokenizer_en.pkl'\n",
    "tokenizer_vi_path = f'{tokenizer_path}/tokenizer_vi.pkl'\n",
    "\n",
    "if not os.path.exists(tokenizer_en_path):\n",
    "    print(\"Building tokenizers from scratch...\")\n",
    "    tokenizer_en, tokenizer_vi = preprocessor.build_tokenizers(train_df)\n",
    "    \n",
    "    # Save\n",
    "    os.makedirs(tokenizer_path, exist_ok=True)\n",
    "    save_tokenizer(tokenizer_en, tokenizer_en_path)\n",
    "    save_tokenizer(tokenizer_vi, tokenizer_vi_path)\n",
    "    print(f\"Saved tokenizers to {tokenizer_path}\")\n",
    "else:\n",
    "    print(\"Loading cached tokenizers...\")\n",
    "    from src.utils import load_tokenizer\n",
    "    tokenizer_en = load_tokenizer(tokenizer_en_path)\n",
    "    tokenizer_vi = load_tokenizer(tokenizer_vi_path)\n",
    "    preprocessor.tokenizer_src = tokenizer_en\n",
    "    preprocessor.tokenizer_trg = tokenizer_vi\n",
    "\n",
    "print(f\"English vocab size: {len(tokenizer_en.word_index)}\")\n",
    "print(f\"Vietnamese vocab size: {len(tokenizer_vi.word_index)}\")"
   ]
  },
  {
   "cell_type": "code",
   "execution_count": 10,
   "id": "5cbf03c4",
   "metadata": {
    "execution": {
     "iopub.execute_input": "2025-10-23T17:52:58.003576Z",
     "iopub.status.busy": "2025-10-23T17:52:58.003025Z",
     "iopub.status.idle": "2025-10-23T17:53:02.188419Z",
     "shell.execute_reply": "2025-10-23T17:53:02.187519Z"
    },
    "papermill": {
     "duration": 4.234111,
     "end_time": "2025-10-23T17:53:02.189516",
     "exception": false,
     "start_time": "2025-10-23T17:52:57.955405",
     "status": "completed"
    },
    "tags": []
   },
   "outputs": [
    {
     "name": "stdout",
     "output_type": "stream",
     "text": [
      "2025-10-23 17:53:01 - data_preprocessing - INFO - Sequences memory: 61.16 MB\n",
      "2025-10-23 17:53:02 - data_preprocessing - INFO - Sequences memory: 7.64 MB\n",
      "Training sequences: (114515, 40)\n"
     ]
    }
   ],
   "source": [
    "# Prepare sequences\n",
    "en_train, vi_in_train, vi_out_train = preprocessor.prepare_sequences(\n",
    "    data=train_df,\n",
    "    max_len_src=Config.MAX_LENGTH_SRC,\n",
    "    max_len_trg=Config.MAX_LENGTH_TRG\n",
    ")\n",
    "\n",
    "en_val, vi_in_val, vi_out_val = preprocessor.prepare_sequences(\n",
    "    data=val_df,\n",
    "    max_len_src=Config.MAX_LENGTH_SRC,\n",
    "    max_len_trg=Config.MAX_LENGTH_TRG\n",
    ")\n",
    "\n",
    "print(f\"Training sequences: {en_train.shape}\")"
   ]
  },
  {
   "cell_type": "markdown",
   "id": "5cd05a9d",
   "metadata": {
    "papermill": {
     "duration": 0.00444,
     "end_time": "2025-10-23T17:53:02.198927",
     "exception": false,
     "start_time": "2025-10-23T17:53:02.194487",
     "status": "completed"
    },
    "tags": []
   },
   "source": [
    "## **4. Build BiLSTM Model**"
   ]
  },
  {
   "cell_type": "code",
   "execution_count": 11,
   "id": "f76cc9f7",
   "metadata": {
    "ExecuteTime": {
     "end_time": "2025-10-19T10:29:23.793210Z",
     "start_time": "2025-10-19T10:29:22.497815Z"
    },
    "execution": {
     "iopub.execute_input": "2025-10-23T17:53:02.208893Z",
     "iopub.status.busy": "2025-10-23T17:53:02.208674Z",
     "iopub.status.idle": "2025-10-23T17:53:03.953679Z",
     "shell.execute_reply": "2025-10-23T17:53:03.952918Z"
    },
    "papermill": {
     "duration": 1.751248,
     "end_time": "2025-10-23T17:53:03.954807",
     "exception": false,
     "start_time": "2025-10-23T17:53:02.203559",
     "status": "completed"
    },
    "tags": []
   },
   "outputs": [
    {
     "name": "stderr",
     "output_type": "stream",
     "text": [
      "I0000 00:00:1761241982.380087      19 gpu_device.cc:2022] Created device /job:localhost/replica:0/task:0/device:GPU:0 with 15000 MB memory:  -> device: 0, name: Tesla P100-PCIE-16GB, pci bus id: 0000:00:04.0, compute capability: 6.0\n"
     ]
    },
    {
     "data": {
      "text/html": [
       "<pre style=\"white-space:pre;overflow-x:auto;line-height:normal;font-family:Menlo,'DejaVu Sans Mono',consolas,'Courier New',monospace\"><span style=\"font-weight: bold\">Model: \"bilstm_attention_model\"</span>\n",
       "</pre>\n"
      ],
      "text/plain": [
       "\u001b[1mModel: \"bilstm_attention_model\"\u001b[0m\n"
      ]
     },
     "metadata": {},
     "output_type": "display_data"
    },
    {
     "data": {
      "text/html": [
       "<pre style=\"white-space:pre;overflow-x:auto;line-height:normal;font-family:Menlo,'DejaVu Sans Mono',consolas,'Courier New',monospace\">┏━━━━━━━━━━━━━━━━━━━━━┳━━━━━━━━━━━━━━━━━━━┳━━━━━━━━━━━━┳━━━━━━━━━━━━━━━━━━━┓\n",
       "┃<span style=\"font-weight: bold\"> Layer (type)        </span>┃<span style=\"font-weight: bold\"> Output Shape      </span>┃<span style=\"font-weight: bold\">    Param # </span>┃<span style=\"font-weight: bold\"> Connected to      </span>┃\n",
       "┡━━━━━━━━━━━━━━━━━━━━━╇━━━━━━━━━━━━━━━━━━━╇━━━━━━━━━━━━╇━━━━━━━━━━━━━━━━━━━┩\n",
       "│ encoder_input       │ (<span style=\"color: #00d7ff; text-decoration-color: #00d7ff\">None</span>, <span style=\"color: #00af00; text-decoration-color: #00af00\">40</span>)        │          <span style=\"color: #00af00; text-decoration-color: #00af00\">0</span> │ -                 │\n",
       "│ (<span style=\"color: #0087ff; text-decoration-color: #0087ff\">InputLayer</span>)        │                   │            │                   │\n",
       "├─────────────────────┼───────────────────┼────────────┼───────────────────┤\n",
       "│ encoder_embedding   │ (<span style=\"color: #00d7ff; text-decoration-color: #00d7ff\">None</span>, <span style=\"color: #00af00; text-decoration-color: #00af00\">40</span>, <span style=\"color: #00af00; text-decoration-color: #00af00\">64</span>)    │  <span style=\"color: #00af00; text-decoration-color: #00af00\">1,920,000</span> │ encoder_input[<span style=\"color: #00af00; text-decoration-color: #00af00\">0</span>]… │\n",
       "│ (<span style=\"color: #0087ff; text-decoration-color: #0087ff\">Embedding</span>)         │                   │            │                   │\n",
       "├─────────────────────┼───────────────────┼────────────┼───────────────────┤\n",
       "│ decoder_input       │ (<span style=\"color: #00d7ff; text-decoration-color: #00d7ff\">None</span>, <span style=\"color: #00af00; text-decoration-color: #00af00\">50</span>)        │          <span style=\"color: #00af00; text-decoration-color: #00af00\">0</span> │ -                 │\n",
       "│ (<span style=\"color: #0087ff; text-decoration-color: #0087ff\">InputLayer</span>)        │                   │            │                   │\n",
       "├─────────────────────┼───────────────────┼────────────┼───────────────────┤\n",
       "│ encoder_ln1         │ (<span style=\"color: #00d7ff; text-decoration-color: #00d7ff\">None</span>, <span style=\"color: #00af00; text-decoration-color: #00af00\">40</span>, <span style=\"color: #00af00; text-decoration-color: #00af00\">64</span>)    │        <span style=\"color: #00af00; text-decoration-color: #00af00\">128</span> │ encoder_embeddin… │\n",
       "│ (<span style=\"color: #0087ff; text-decoration-color: #0087ff\">LayerNormalizatio…</span> │                   │            │                   │\n",
       "├─────────────────────┼───────────────────┼────────────┼───────────────────┤\n",
       "│ decoder_embedding   │ (<span style=\"color: #00d7ff; text-decoration-color: #00d7ff\">None</span>, <span style=\"color: #00af00; text-decoration-color: #00af00\">50</span>, <span style=\"color: #00af00; text-decoration-color: #00af00\">64</span>)    │  <span style=\"color: #00af00; text-decoration-color: #00af00\">1,600,000</span> │ decoder_input[<span style=\"color: #00af00; text-decoration-color: #00af00\">0</span>]… │\n",
       "│ (<span style=\"color: #0087ff; text-decoration-color: #0087ff\">Embedding</span>)         │                   │            │                   │\n",
       "├─────────────────────┼───────────────────┼────────────┼───────────────────┤\n",
       "│ encoder_dropout     │ (<span style=\"color: #00d7ff; text-decoration-color: #00d7ff\">None</span>, <span style=\"color: #00af00; text-decoration-color: #00af00\">40</span>, <span style=\"color: #00af00; text-decoration-color: #00af00\">64</span>)    │          <span style=\"color: #00af00; text-decoration-color: #00af00\">0</span> │ encoder_ln1[<span style=\"color: #00af00; text-decoration-color: #00af00\">0</span>][<span style=\"color: #00af00; text-decoration-color: #00af00\">0</span>] │\n",
       "│ (<span style=\"color: #0087ff; text-decoration-color: #0087ff\">Dropout</span>)           │                   │            │                   │\n",
       "├─────────────────────┼───────────────────┼────────────┼───────────────────┤\n",
       "│ not_equal           │ (<span style=\"color: #00d7ff; text-decoration-color: #00d7ff\">None</span>, <span style=\"color: #00af00; text-decoration-color: #00af00\">40</span>)        │          <span style=\"color: #00af00; text-decoration-color: #00af00\">0</span> │ encoder_input[<span style=\"color: #00af00; text-decoration-color: #00af00\">0</span>]… │\n",
       "│ (<span style=\"color: #0087ff; text-decoration-color: #0087ff\">NotEqual</span>)          │                   │            │                   │\n",
       "├─────────────────────┼───────────────────┼────────────┼───────────────────┤\n",
       "│ decoder_ln1         │ (<span style=\"color: #00d7ff; text-decoration-color: #00d7ff\">None</span>, <span style=\"color: #00af00; text-decoration-color: #00af00\">50</span>, <span style=\"color: #00af00; text-decoration-color: #00af00\">64</span>)    │        <span style=\"color: #00af00; text-decoration-color: #00af00\">128</span> │ decoder_embeddin… │\n",
       "│ (<span style=\"color: #0087ff; text-decoration-color: #0087ff\">LayerNormalizatio…</span> │                   │            │                   │\n",
       "├─────────────────────┼───────────────────┼────────────┼───────────────────┤\n",
       "│ encoder_bilstm      │ [(<span style=\"color: #00d7ff; text-decoration-color: #00d7ff\">None</span>, <span style=\"color: #00af00; text-decoration-color: #00af00\">40</span>, <span style=\"color: #00af00; text-decoration-color: #00af00\">256</span>), │    <span style=\"color: #00af00; text-decoration-color: #00af00\">197,632</span> │ encoder_dropout[<span style=\"color: #00af00; text-decoration-color: #00af00\">…</span> │\n",
       "│ (<span style=\"color: #0087ff; text-decoration-color: #0087ff\">Bidirectional</span>)     │ (<span style=\"color: #00d7ff; text-decoration-color: #00d7ff\">None</span>, <span style=\"color: #00af00; text-decoration-color: #00af00\">128</span>),      │            │ not_equal[<span style=\"color: #00af00; text-decoration-color: #00af00\">0</span>][<span style=\"color: #00af00; text-decoration-color: #00af00\">0</span>]   │\n",
       "│                     │ (<span style=\"color: #00d7ff; text-decoration-color: #00d7ff\">None</span>, <span style=\"color: #00af00; text-decoration-color: #00af00\">128</span>),      │            │                   │\n",
       "│                     │ (<span style=\"color: #00d7ff; text-decoration-color: #00d7ff\">None</span>, <span style=\"color: #00af00; text-decoration-color: #00af00\">128</span>),      │            │                   │\n",
       "│                     │ (<span style=\"color: #00d7ff; text-decoration-color: #00d7ff\">None</span>, <span style=\"color: #00af00; text-decoration-color: #00af00\">128</span>)]      │            │                   │\n",
       "├─────────────────────┼───────────────────┼────────────┼───────────────────┤\n",
       "│ decoder_dropout     │ (<span style=\"color: #00d7ff; text-decoration-color: #00d7ff\">None</span>, <span style=\"color: #00af00; text-decoration-color: #00af00\">50</span>, <span style=\"color: #00af00; text-decoration-color: #00af00\">64</span>)    │          <span style=\"color: #00af00; text-decoration-color: #00af00\">0</span> │ decoder_ln1[<span style=\"color: #00af00; text-decoration-color: #00af00\">0</span>][<span style=\"color: #00af00; text-decoration-color: #00af00\">0</span>] │\n",
       "│ (<span style=\"color: #0087ff; text-decoration-color: #0087ff\">Dropout</span>)           │                   │            │                   │\n",
       "├─────────────────────┼───────────────────┼────────────┼───────────────────┤\n",
       "│ concatenate         │ (<span style=\"color: #00d7ff; text-decoration-color: #00d7ff\">None</span>, <span style=\"color: #00af00; text-decoration-color: #00af00\">256</span>)       │          <span style=\"color: #00af00; text-decoration-color: #00af00\">0</span> │ encoder_bilstm[<span style=\"color: #00af00; text-decoration-color: #00af00\">0</span>… │\n",
       "│ (<span style=\"color: #0087ff; text-decoration-color: #0087ff\">Concatenate</span>)       │                   │            │ encoder_bilstm[<span style=\"color: #00af00; text-decoration-color: #00af00\">0</span>… │\n",
       "├─────────────────────┼───────────────────┼────────────┼───────────────────┤\n",
       "│ concatenate_1       │ (<span style=\"color: #00d7ff; text-decoration-color: #00d7ff\">None</span>, <span style=\"color: #00af00; text-decoration-color: #00af00\">256</span>)       │          <span style=\"color: #00af00; text-decoration-color: #00af00\">0</span> │ encoder_bilstm[<span style=\"color: #00af00; text-decoration-color: #00af00\">0</span>… │\n",
       "│ (<span style=\"color: #0087ff; text-decoration-color: #0087ff\">Concatenate</span>)       │                   │            │ encoder_bilstm[<span style=\"color: #00af00; text-decoration-color: #00af00\">0</span>… │\n",
       "├─────────────────────┼───────────────────┼────────────┼───────────────────┤\n",
       "│ decoder_lstm (<span style=\"color: #0087ff; text-decoration-color: #0087ff\">LSTM</span>) │ [(<span style=\"color: #00d7ff; text-decoration-color: #00d7ff\">None</span>, <span style=\"color: #00af00; text-decoration-color: #00af00\">50</span>, <span style=\"color: #00af00; text-decoration-color: #00af00\">256</span>), │    <span style=\"color: #00af00; text-decoration-color: #00af00\">328,704</span> │ decoder_dropout[<span style=\"color: #00af00; text-decoration-color: #00af00\">…</span> │\n",
       "│                     │ (<span style=\"color: #00d7ff; text-decoration-color: #00d7ff\">None</span>, <span style=\"color: #00af00; text-decoration-color: #00af00\">256</span>),      │            │ concatenate[<span style=\"color: #00af00; text-decoration-color: #00af00\">0</span>][<span style=\"color: #00af00; text-decoration-color: #00af00\">0</span>… │\n",
       "│                     │ (<span style=\"color: #00d7ff; text-decoration-color: #00d7ff\">None</span>, <span style=\"color: #00af00; text-decoration-color: #00af00\">256</span>)]      │            │ concatenate_1[<span style=\"color: #00af00; text-decoration-color: #00af00\">0</span>]… │\n",
       "├─────────────────────┼───────────────────┼────────────┼───────────────────┤\n",
       "│ decoder_ln2         │ (<span style=\"color: #00d7ff; text-decoration-color: #00d7ff\">None</span>, <span style=\"color: #00af00; text-decoration-color: #00af00\">50</span>, <span style=\"color: #00af00; text-decoration-color: #00af00\">256</span>)   │        <span style=\"color: #00af00; text-decoration-color: #00af00\">512</span> │ decoder_lstm[<span style=\"color: #00af00; text-decoration-color: #00af00\">0</span>][<span style=\"color: #00af00; text-decoration-color: #00af00\">…</span> │\n",
       "│ (<span style=\"color: #0087ff; text-decoration-color: #0087ff\">LayerNormalizatio…</span> │                   │            │                   │\n",
       "├─────────────────────┼───────────────────┼────────────┼───────────────────┤\n",
       "│ encoder_ln2         │ (<span style=\"color: #00d7ff; text-decoration-color: #00d7ff\">None</span>, <span style=\"color: #00af00; text-decoration-color: #00af00\">40</span>, <span style=\"color: #00af00; text-decoration-color: #00af00\">256</span>)   │        <span style=\"color: #00af00; text-decoration-color: #00af00\">512</span> │ encoder_bilstm[<span style=\"color: #00af00; text-decoration-color: #00af00\">0</span>… │\n",
       "│ (<span style=\"color: #0087ff; text-decoration-color: #0087ff\">LayerNormalizatio…</span> │                   │            │                   │\n",
       "├─────────────────────┼───────────────────┼────────────┼───────────────────┤\n",
       "│ not_equal_1         │ (<span style=\"color: #00d7ff; text-decoration-color: #00d7ff\">None</span>, <span style=\"color: #00af00; text-decoration-color: #00af00\">50</span>)        │          <span style=\"color: #00af00; text-decoration-color: #00af00\">0</span> │ decoder_input[<span style=\"color: #00af00; text-decoration-color: #00af00\">0</span>]… │\n",
       "│ (<span style=\"color: #0087ff; text-decoration-color: #0087ff\">NotEqual</span>)          │                   │            │                   │\n",
       "├─────────────────────┼───────────────────┼────────────┼───────────────────┤\n",
       "│ attention_layer     │ (<span style=\"color: #00d7ff; text-decoration-color: #00d7ff\">None</span>, <span style=\"color: #00af00; text-decoration-color: #00af00\">50</span>, <span style=\"color: #00af00; text-decoration-color: #00af00\">256</span>)   │    <span style=\"color: #00af00; text-decoration-color: #00af00\">526,080</span> │ encoder_ln2[<span style=\"color: #00af00; text-decoration-color: #00af00\">0</span>][<span style=\"color: #00af00; text-decoration-color: #00af00\">0</span>… │\n",
       "│ (<span style=\"color: #0087ff; text-decoration-color: #0087ff\">MultiHeadAttentio…</span> │                   │            │ not_equal[<span style=\"color: #00af00; text-decoration-color: #00af00\">0</span>][<span style=\"color: #00af00; text-decoration-color: #00af00\">0</span>],  │\n",
       "│                     │                   │            │ decoder_ln2[<span style=\"color: #00af00; text-decoration-color: #00af00\">0</span>][<span style=\"color: #00af00; text-decoration-color: #00af00\">0</span>… │\n",
       "│                     │                   │            │ not_equal_1[<span style=\"color: #00af00; text-decoration-color: #00af00\">0</span>][<span style=\"color: #00af00; text-decoration-color: #00af00\">0</span>… │\n",
       "│                     │                   │            │ encoder_ln2[<span style=\"color: #00af00; text-decoration-color: #00af00\">0</span>][<span style=\"color: #00af00; text-decoration-color: #00af00\">0</span>… │\n",
       "│                     │                   │            │ not_equal[<span style=\"color: #00af00; text-decoration-color: #00af00\">0</span>][<span style=\"color: #00af00; text-decoration-color: #00af00\">0</span>]   │\n",
       "├─────────────────────┼───────────────────┼────────────┼───────────────────┤\n",
       "│ attention_ln        │ (<span style=\"color: #00d7ff; text-decoration-color: #00d7ff\">None</span>, <span style=\"color: #00af00; text-decoration-color: #00af00\">50</span>, <span style=\"color: #00af00; text-decoration-color: #00af00\">256</span>)   │        <span style=\"color: #00af00; text-decoration-color: #00af00\">512</span> │ attention_layer[<span style=\"color: #00af00; text-decoration-color: #00af00\">…</span> │\n",
       "│ (<span style=\"color: #0087ff; text-decoration-color: #0087ff\">LayerNormalizatio…</span> │                   │            │                   │\n",
       "├─────────────────────┼───────────────────┼────────────┼───────────────────┤\n",
       "│ residual_add (<span style=\"color: #0087ff; text-decoration-color: #0087ff\">Add</span>)  │ (<span style=\"color: #00d7ff; text-decoration-color: #00d7ff\">None</span>, <span style=\"color: #00af00; text-decoration-color: #00af00\">50</span>, <span style=\"color: #00af00; text-decoration-color: #00af00\">256</span>)   │          <span style=\"color: #00af00; text-decoration-color: #00af00\">0</span> │ decoder_ln2[<span style=\"color: #00af00; text-decoration-color: #00af00\">0</span>][<span style=\"color: #00af00; text-decoration-color: #00af00\">0</span>… │\n",
       "│                     │                   │            │ attention_ln[<span style=\"color: #00af00; text-decoration-color: #00af00\">0</span>][<span style=\"color: #00af00; text-decoration-color: #00af00\">…</span> │\n",
       "├─────────────────────┼───────────────────┼────────────┼───────────────────┤\n",
       "│ residual_ln         │ (<span style=\"color: #00d7ff; text-decoration-color: #00d7ff\">None</span>, <span style=\"color: #00af00; text-decoration-color: #00af00\">50</span>, <span style=\"color: #00af00; text-decoration-color: #00af00\">256</span>)   │        <span style=\"color: #00af00; text-decoration-color: #00af00\">512</span> │ residual_add[<span style=\"color: #00af00; text-decoration-color: #00af00\">0</span>][<span style=\"color: #00af00; text-decoration-color: #00af00\">…</span> │\n",
       "│ (<span style=\"color: #0087ff; text-decoration-color: #0087ff\">LayerNormalizatio…</span> │                   │            │                   │\n",
       "├─────────────────────┼───────────────────┼────────────┼───────────────────┤\n",
       "│ concat_output       │ (<span style=\"color: #00d7ff; text-decoration-color: #00d7ff\">None</span>, <span style=\"color: #00af00; text-decoration-color: #00af00\">50</span>, <span style=\"color: #00af00; text-decoration-color: #00af00\">512</span>)   │          <span style=\"color: #00af00; text-decoration-color: #00af00\">0</span> │ residual_ln[<span style=\"color: #00af00; text-decoration-color: #00af00\">0</span>][<span style=\"color: #00af00; text-decoration-color: #00af00\">0</span>… │\n",
       "│ (<span style=\"color: #0087ff; text-decoration-color: #0087ff\">Concatenate</span>)       │                   │            │ attention_ln[<span style=\"color: #00af00; text-decoration-color: #00af00\">0</span>][<span style=\"color: #00af00; text-decoration-color: #00af00\">…</span> │\n",
       "├─────────────────────┼───────────────────┼────────────┼───────────────────┤\n",
       "│ concat_dropout      │ (<span style=\"color: #00d7ff; text-decoration-color: #00d7ff\">None</span>, <span style=\"color: #00af00; text-decoration-color: #00af00\">50</span>, <span style=\"color: #00af00; text-decoration-color: #00af00\">512</span>)   │          <span style=\"color: #00af00; text-decoration-color: #00af00\">0</span> │ concat_output[<span style=\"color: #00af00; text-decoration-color: #00af00\">0</span>]… │\n",
       "│ (<span style=\"color: #0087ff; text-decoration-color: #0087ff\">Dropout</span>)           │                   │            │                   │\n",
       "├─────────────────────┼───────────────────┼────────────┼───────────────────┤\n",
       "│ cast (<span style=\"color: #0087ff; text-decoration-color: #0087ff\">Cast</span>)         │ (<span style=\"color: #00d7ff; text-decoration-color: #00d7ff\">None</span>, <span style=\"color: #00af00; text-decoration-color: #00af00\">50</span>, <span style=\"color: #00af00; text-decoration-color: #00af00\">512</span>)   │          <span style=\"color: #00af00; text-decoration-color: #00af00\">0</span> │ concat_dropout[<span style=\"color: #00af00; text-decoration-color: #00af00\">0</span>… │\n",
       "├─────────────────────┼───────────────────┼────────────┼───────────────────┤\n",
       "│ decoder_dense       │ (<span style=\"color: #00d7ff; text-decoration-color: #00d7ff\">None</span>, <span style=\"color: #00af00; text-decoration-color: #00af00\">50</span>, <span style=\"color: #00af00; text-decoration-color: #00af00\">25000</span>) │ <span style=\"color: #00af00; text-decoration-color: #00af00\">12,825,000</span> │ cast[<span style=\"color: #00af00; text-decoration-color: #00af00\">0</span>][<span style=\"color: #00af00; text-decoration-color: #00af00\">0</span>]        │\n",
       "│ (<span style=\"color: #0087ff; text-decoration-color: #0087ff\">Dense</span>)             │                   │            │                   │\n",
       "└─────────────────────┴───────────────────┴────────────┴───────────────────┘\n",
       "</pre>\n"
      ],
      "text/plain": [
       "┏━━━━━━━━━━━━━━━━━━━━━┳━━━━━━━━━━━━━━━━━━━┳━━━━━━━━━━━━┳━━━━━━━━━━━━━━━━━━━┓\n",
       "┃\u001b[1m \u001b[0m\u001b[1mLayer (type)       \u001b[0m\u001b[1m \u001b[0m┃\u001b[1m \u001b[0m\u001b[1mOutput Shape     \u001b[0m\u001b[1m \u001b[0m┃\u001b[1m \u001b[0m\u001b[1m   Param #\u001b[0m\u001b[1m \u001b[0m┃\u001b[1m \u001b[0m\u001b[1mConnected to     \u001b[0m\u001b[1m \u001b[0m┃\n",
       "┡━━━━━━━━━━━━━━━━━━━━━╇━━━━━━━━━━━━━━━━━━━╇━━━━━━━━━━━━╇━━━━━━━━━━━━━━━━━━━┩\n",
       "│ encoder_input       │ (\u001b[38;5;45mNone\u001b[0m, \u001b[38;5;34m40\u001b[0m)        │          \u001b[38;5;34m0\u001b[0m │ -                 │\n",
       "│ (\u001b[38;5;33mInputLayer\u001b[0m)        │                   │            │                   │\n",
       "├─────────────────────┼───────────────────┼────────────┼───────────────────┤\n",
       "│ encoder_embedding   │ (\u001b[38;5;45mNone\u001b[0m, \u001b[38;5;34m40\u001b[0m, \u001b[38;5;34m64\u001b[0m)    │  \u001b[38;5;34m1,920,000\u001b[0m │ encoder_input[\u001b[38;5;34m0\u001b[0m]… │\n",
       "│ (\u001b[38;5;33mEmbedding\u001b[0m)         │                   │            │                   │\n",
       "├─────────────────────┼───────────────────┼────────────┼───────────────────┤\n",
       "│ decoder_input       │ (\u001b[38;5;45mNone\u001b[0m, \u001b[38;5;34m50\u001b[0m)        │          \u001b[38;5;34m0\u001b[0m │ -                 │\n",
       "│ (\u001b[38;5;33mInputLayer\u001b[0m)        │                   │            │                   │\n",
       "├─────────────────────┼───────────────────┼────────────┼───────────────────┤\n",
       "│ encoder_ln1         │ (\u001b[38;5;45mNone\u001b[0m, \u001b[38;5;34m40\u001b[0m, \u001b[38;5;34m64\u001b[0m)    │        \u001b[38;5;34m128\u001b[0m │ encoder_embeddin… │\n",
       "│ (\u001b[38;5;33mLayerNormalizatio…\u001b[0m │                   │            │                   │\n",
       "├─────────────────────┼───────────────────┼────────────┼───────────────────┤\n",
       "│ decoder_embedding   │ (\u001b[38;5;45mNone\u001b[0m, \u001b[38;5;34m50\u001b[0m, \u001b[38;5;34m64\u001b[0m)    │  \u001b[38;5;34m1,600,000\u001b[0m │ decoder_input[\u001b[38;5;34m0\u001b[0m]… │\n",
       "│ (\u001b[38;5;33mEmbedding\u001b[0m)         │                   │            │                   │\n",
       "├─────────────────────┼───────────────────┼────────────┼───────────────────┤\n",
       "│ encoder_dropout     │ (\u001b[38;5;45mNone\u001b[0m, \u001b[38;5;34m40\u001b[0m, \u001b[38;5;34m64\u001b[0m)    │          \u001b[38;5;34m0\u001b[0m │ encoder_ln1[\u001b[38;5;34m0\u001b[0m][\u001b[38;5;34m0\u001b[0m] │\n",
       "│ (\u001b[38;5;33mDropout\u001b[0m)           │                   │            │                   │\n",
       "├─────────────────────┼───────────────────┼────────────┼───────────────────┤\n",
       "│ not_equal           │ (\u001b[38;5;45mNone\u001b[0m, \u001b[38;5;34m40\u001b[0m)        │          \u001b[38;5;34m0\u001b[0m │ encoder_input[\u001b[38;5;34m0\u001b[0m]… │\n",
       "│ (\u001b[38;5;33mNotEqual\u001b[0m)          │                   │            │                   │\n",
       "├─────────────────────┼───────────────────┼────────────┼───────────────────┤\n",
       "│ decoder_ln1         │ (\u001b[38;5;45mNone\u001b[0m, \u001b[38;5;34m50\u001b[0m, \u001b[38;5;34m64\u001b[0m)    │        \u001b[38;5;34m128\u001b[0m │ decoder_embeddin… │\n",
       "│ (\u001b[38;5;33mLayerNormalizatio…\u001b[0m │                   │            │                   │\n",
       "├─────────────────────┼───────────────────┼────────────┼───────────────────┤\n",
       "│ encoder_bilstm      │ [(\u001b[38;5;45mNone\u001b[0m, \u001b[38;5;34m40\u001b[0m, \u001b[38;5;34m256\u001b[0m), │    \u001b[38;5;34m197,632\u001b[0m │ encoder_dropout[\u001b[38;5;34m…\u001b[0m │\n",
       "│ (\u001b[38;5;33mBidirectional\u001b[0m)     │ (\u001b[38;5;45mNone\u001b[0m, \u001b[38;5;34m128\u001b[0m),      │            │ not_equal[\u001b[38;5;34m0\u001b[0m][\u001b[38;5;34m0\u001b[0m]   │\n",
       "│                     │ (\u001b[38;5;45mNone\u001b[0m, \u001b[38;5;34m128\u001b[0m),      │            │                   │\n",
       "│                     │ (\u001b[38;5;45mNone\u001b[0m, \u001b[38;5;34m128\u001b[0m),      │            │                   │\n",
       "│                     │ (\u001b[38;5;45mNone\u001b[0m, \u001b[38;5;34m128\u001b[0m)]      │            │                   │\n",
       "├─────────────────────┼───────────────────┼────────────┼───────────────────┤\n",
       "│ decoder_dropout     │ (\u001b[38;5;45mNone\u001b[0m, \u001b[38;5;34m50\u001b[0m, \u001b[38;5;34m64\u001b[0m)    │          \u001b[38;5;34m0\u001b[0m │ decoder_ln1[\u001b[38;5;34m0\u001b[0m][\u001b[38;5;34m0\u001b[0m] │\n",
       "│ (\u001b[38;5;33mDropout\u001b[0m)           │                   │            │                   │\n",
       "├─────────────────────┼───────────────────┼────────────┼───────────────────┤\n",
       "│ concatenate         │ (\u001b[38;5;45mNone\u001b[0m, \u001b[38;5;34m256\u001b[0m)       │          \u001b[38;5;34m0\u001b[0m │ encoder_bilstm[\u001b[38;5;34m0\u001b[0m… │\n",
       "│ (\u001b[38;5;33mConcatenate\u001b[0m)       │                   │            │ encoder_bilstm[\u001b[38;5;34m0\u001b[0m… │\n",
       "├─────────────────────┼───────────────────┼────────────┼───────────────────┤\n",
       "│ concatenate_1       │ (\u001b[38;5;45mNone\u001b[0m, \u001b[38;5;34m256\u001b[0m)       │          \u001b[38;5;34m0\u001b[0m │ encoder_bilstm[\u001b[38;5;34m0\u001b[0m… │\n",
       "│ (\u001b[38;5;33mConcatenate\u001b[0m)       │                   │            │ encoder_bilstm[\u001b[38;5;34m0\u001b[0m… │\n",
       "├─────────────────────┼───────────────────┼────────────┼───────────────────┤\n",
       "│ decoder_lstm (\u001b[38;5;33mLSTM\u001b[0m) │ [(\u001b[38;5;45mNone\u001b[0m, \u001b[38;5;34m50\u001b[0m, \u001b[38;5;34m256\u001b[0m), │    \u001b[38;5;34m328,704\u001b[0m │ decoder_dropout[\u001b[38;5;34m…\u001b[0m │\n",
       "│                     │ (\u001b[38;5;45mNone\u001b[0m, \u001b[38;5;34m256\u001b[0m),      │            │ concatenate[\u001b[38;5;34m0\u001b[0m][\u001b[38;5;34m0\u001b[0m… │\n",
       "│                     │ (\u001b[38;5;45mNone\u001b[0m, \u001b[38;5;34m256\u001b[0m)]      │            │ concatenate_1[\u001b[38;5;34m0\u001b[0m]… │\n",
       "├─────────────────────┼───────────────────┼────────────┼───────────────────┤\n",
       "│ decoder_ln2         │ (\u001b[38;5;45mNone\u001b[0m, \u001b[38;5;34m50\u001b[0m, \u001b[38;5;34m256\u001b[0m)   │        \u001b[38;5;34m512\u001b[0m │ decoder_lstm[\u001b[38;5;34m0\u001b[0m][\u001b[38;5;34m…\u001b[0m │\n",
       "│ (\u001b[38;5;33mLayerNormalizatio…\u001b[0m │                   │            │                   │\n",
       "├─────────────────────┼───────────────────┼────────────┼───────────────────┤\n",
       "│ encoder_ln2         │ (\u001b[38;5;45mNone\u001b[0m, \u001b[38;5;34m40\u001b[0m, \u001b[38;5;34m256\u001b[0m)   │        \u001b[38;5;34m512\u001b[0m │ encoder_bilstm[\u001b[38;5;34m0\u001b[0m… │\n",
       "│ (\u001b[38;5;33mLayerNormalizatio…\u001b[0m │                   │            │                   │\n",
       "├─────────────────────┼───────────────────┼────────────┼───────────────────┤\n",
       "│ not_equal_1         │ (\u001b[38;5;45mNone\u001b[0m, \u001b[38;5;34m50\u001b[0m)        │          \u001b[38;5;34m0\u001b[0m │ decoder_input[\u001b[38;5;34m0\u001b[0m]… │\n",
       "│ (\u001b[38;5;33mNotEqual\u001b[0m)          │                   │            │                   │\n",
       "├─────────────────────┼───────────────────┼────────────┼───────────────────┤\n",
       "│ attention_layer     │ (\u001b[38;5;45mNone\u001b[0m, \u001b[38;5;34m50\u001b[0m, \u001b[38;5;34m256\u001b[0m)   │    \u001b[38;5;34m526,080\u001b[0m │ encoder_ln2[\u001b[38;5;34m0\u001b[0m][\u001b[38;5;34m0\u001b[0m… │\n",
       "│ (\u001b[38;5;33mMultiHeadAttentio…\u001b[0m │                   │            │ not_equal[\u001b[38;5;34m0\u001b[0m][\u001b[38;5;34m0\u001b[0m],  │\n",
       "│                     │                   │            │ decoder_ln2[\u001b[38;5;34m0\u001b[0m][\u001b[38;5;34m0\u001b[0m… │\n",
       "│                     │                   │            │ not_equal_1[\u001b[38;5;34m0\u001b[0m][\u001b[38;5;34m0\u001b[0m… │\n",
       "│                     │                   │            │ encoder_ln2[\u001b[38;5;34m0\u001b[0m][\u001b[38;5;34m0\u001b[0m… │\n",
       "│                     │                   │            │ not_equal[\u001b[38;5;34m0\u001b[0m][\u001b[38;5;34m0\u001b[0m]   │\n",
       "├─────────────────────┼───────────────────┼────────────┼───────────────────┤\n",
       "│ attention_ln        │ (\u001b[38;5;45mNone\u001b[0m, \u001b[38;5;34m50\u001b[0m, \u001b[38;5;34m256\u001b[0m)   │        \u001b[38;5;34m512\u001b[0m │ attention_layer[\u001b[38;5;34m…\u001b[0m │\n",
       "│ (\u001b[38;5;33mLayerNormalizatio…\u001b[0m │                   │            │                   │\n",
       "├─────────────────────┼───────────────────┼────────────┼───────────────────┤\n",
       "│ residual_add (\u001b[38;5;33mAdd\u001b[0m)  │ (\u001b[38;5;45mNone\u001b[0m, \u001b[38;5;34m50\u001b[0m, \u001b[38;5;34m256\u001b[0m)   │          \u001b[38;5;34m0\u001b[0m │ decoder_ln2[\u001b[38;5;34m0\u001b[0m][\u001b[38;5;34m0\u001b[0m… │\n",
       "│                     │                   │            │ attention_ln[\u001b[38;5;34m0\u001b[0m][\u001b[38;5;34m…\u001b[0m │\n",
       "├─────────────────────┼───────────────────┼────────────┼───────────────────┤\n",
       "│ residual_ln         │ (\u001b[38;5;45mNone\u001b[0m, \u001b[38;5;34m50\u001b[0m, \u001b[38;5;34m256\u001b[0m)   │        \u001b[38;5;34m512\u001b[0m │ residual_add[\u001b[38;5;34m0\u001b[0m][\u001b[38;5;34m…\u001b[0m │\n",
       "│ (\u001b[38;5;33mLayerNormalizatio…\u001b[0m │                   │            │                   │\n",
       "├─────────────────────┼───────────────────┼────────────┼───────────────────┤\n",
       "│ concat_output       │ (\u001b[38;5;45mNone\u001b[0m, \u001b[38;5;34m50\u001b[0m, \u001b[38;5;34m512\u001b[0m)   │          \u001b[38;5;34m0\u001b[0m │ residual_ln[\u001b[38;5;34m0\u001b[0m][\u001b[38;5;34m0\u001b[0m… │\n",
       "│ (\u001b[38;5;33mConcatenate\u001b[0m)       │                   │            │ attention_ln[\u001b[38;5;34m0\u001b[0m][\u001b[38;5;34m…\u001b[0m │\n",
       "├─────────────────────┼───────────────────┼────────────┼───────────────────┤\n",
       "│ concat_dropout      │ (\u001b[38;5;45mNone\u001b[0m, \u001b[38;5;34m50\u001b[0m, \u001b[38;5;34m512\u001b[0m)   │          \u001b[38;5;34m0\u001b[0m │ concat_output[\u001b[38;5;34m0\u001b[0m]… │\n",
       "│ (\u001b[38;5;33mDropout\u001b[0m)           │                   │            │                   │\n",
       "├─────────────────────┼───────────────────┼────────────┼───────────────────┤\n",
       "│ cast (\u001b[38;5;33mCast\u001b[0m)         │ (\u001b[38;5;45mNone\u001b[0m, \u001b[38;5;34m50\u001b[0m, \u001b[38;5;34m512\u001b[0m)   │          \u001b[38;5;34m0\u001b[0m │ concat_dropout[\u001b[38;5;34m0\u001b[0m… │\n",
       "├─────────────────────┼───────────────────┼────────────┼───────────────────┤\n",
       "│ decoder_dense       │ (\u001b[38;5;45mNone\u001b[0m, \u001b[38;5;34m50\u001b[0m, \u001b[38;5;34m25000\u001b[0m) │ \u001b[38;5;34m12,825,000\u001b[0m │ cast[\u001b[38;5;34m0\u001b[0m][\u001b[38;5;34m0\u001b[0m]        │\n",
       "│ (\u001b[38;5;33mDense\u001b[0m)             │                   │            │                   │\n",
       "└─────────────────────┴───────────────────┴────────────┴───────────────────┘\n"
      ]
     },
     "metadata": {},
     "output_type": "display_data"
    },
    {
     "data": {
      "text/html": [
       "<pre style=\"white-space:pre;overflow-x:auto;line-height:normal;font-family:Menlo,'DejaVu Sans Mono',consolas,'Courier New',monospace\"><span style=\"font-weight: bold\"> Total params: </span><span style=\"color: #00af00; text-decoration-color: #00af00\">17,399,720</span> (66.37 MB)\n",
       "</pre>\n"
      ],
      "text/plain": [
       "\u001b[1m Total params: \u001b[0m\u001b[38;5;34m17,399,720\u001b[0m (66.37 MB)\n"
      ]
     },
     "metadata": {},
     "output_type": "display_data"
    },
    {
     "data": {
      "text/html": [
       "<pre style=\"white-space:pre;overflow-x:auto;line-height:normal;font-family:Menlo,'DejaVu Sans Mono',consolas,'Courier New',monospace\"><span style=\"font-weight: bold\"> Trainable params: </span><span style=\"color: #00af00; text-decoration-color: #00af00\">17,399,720</span> (66.37 MB)\n",
       "</pre>\n"
      ],
      "text/plain": [
       "\u001b[1m Trainable params: \u001b[0m\u001b[38;5;34m17,399,720\u001b[0m (66.37 MB)\n"
      ]
     },
     "metadata": {},
     "output_type": "display_data"
    },
    {
     "data": {
      "text/html": [
       "<pre style=\"white-space:pre;overflow-x:auto;line-height:normal;font-family:Menlo,'DejaVu Sans Mono',consolas,'Courier New',monospace\"><span style=\"font-weight: bold\"> Non-trainable params: </span><span style=\"color: #00af00; text-decoration-color: #00af00\">0</span> (0.00 B)\n",
       "</pre>\n"
      ],
      "text/plain": [
       "\u001b[1m Non-trainable params: \u001b[0m\u001b[38;5;34m0\u001b[0m (0.00 B)\n"
      ]
     },
     "metadata": {},
     "output_type": "display_data"
    }
   ],
   "source": [
    "model_builder = BiLSTMAttentionModel(\n",
    "    config=Config,\n",
    "    name_logger=\"bilstm_attention\",\n",
    "    filename_logger=f\"{Config.LOG_DIR}/bilstm_attention.log\"\n",
    ")\n",
    "bilstm_model = model_builder.build(\n",
    "    vocab_size_src=Config.MAX_VOCAB_SIZE_SRC,\n",
    "    vocab_size_trg=Config.MAX_VOCAB_SIZE_TRG,\n",
    "    max_len_src=Config.MAX_LENGTH_SRC,\n",
    "    max_len_trg=Config.MAX_LENGTH_TRG\n",
    ")\n",
    "\n",
    "bilstm_model.summary()"
   ]
  },
  {
   "cell_type": "code",
   "execution_count": 12,
   "id": "859450b8",
   "metadata": {
    "execution": {
     "iopub.execute_input": "2025-10-23T17:53:03.967299Z",
     "iopub.status.busy": "2025-10-23T17:53:03.966843Z",
     "iopub.status.idle": "2025-10-23T17:53:03.970636Z",
     "shell.execute_reply": "2025-10-23T17:53:03.969835Z"
    },
    "papermill": {
     "duration": 0.010957,
     "end_time": "2025-10-23T17:53:03.971642",
     "exception": false,
     "start_time": "2025-10-23T17:53:03.960685",
     "status": "completed"
    },
    "tags": []
   },
   "outputs": [
    {
     "name": "stdout",
     "output_type": "stream",
     "text": [
      "encoder_input: dtype=int32, compute_dtype=float16\n",
      "encoder_embedding: dtype=float32, compute_dtype=float32\n",
      "decoder_input: dtype=int32, compute_dtype=float16\n",
      "encoder_ln1: dtype=float32, compute_dtype=float16\n",
      "decoder_embedding: dtype=float32, compute_dtype=float32\n"
     ]
    }
   ],
   "source": [
    "for layer in bilstm_model.layers[:5]:\n",
    "    print(f\"{layer.name}: dtype={layer.dtype}, compute_dtype={layer.compute_dtype}\")"
   ]
  },
  {
   "cell_type": "markdown",
   "id": "4da4ced1",
   "metadata": {
    "papermill": {
     "duration": 0.005294,
     "end_time": "2025-10-23T17:53:03.982355",
     "exception": false,
     "start_time": "2025-10-23T17:53:03.977061",
     "status": "completed"
    },
    "tags": []
   },
   "source": [
    "## **5. Train BiLSTM**"
   ]
  },
  {
   "cell_type": "code",
   "execution_count": 13,
   "id": "84b0cae6",
   "metadata": {
    "execution": {
     "iopub.execute_input": "2025-10-23T17:53:03.994151Z",
     "iopub.status.busy": "2025-10-23T17:53:03.993556Z",
     "iopub.status.idle": "2025-10-23T18:48:37.020023Z",
     "shell.execute_reply": "2025-10-23T18:48:37.019201Z"
    },
    "papermill": {
     "duration": 3333.033605,
     "end_time": "2025-10-23T18:48:37.021316",
     "exception": false,
     "start_time": "2025-10-23T17:53:03.987711",
     "status": "completed"
    },
    "tags": []
   },
   "outputs": [
    {
     "name": "stdout",
     "output_type": "stream",
     "text": [
      "Total training steps: 89400\n",
      "Steps per epoch: 894\n",
      "Batch size (global): 128\n",
      "2025-10-23 17:53:03 - bilstm_attention - INFO - Loading checkpoint: /kaggle/working/machine-learning-resource/artifacts/bilstm/checkpoints/checkpoint_epoch_070.keras\n",
      "2025-10-23 17:53:05 - bilstm_attention - INFO - Resuming from epoch 70\n",
      "2025-10-23 17:53:05 - bilstm_attention - INFO - Mixed precision optimizer enabled with increased stability\n",
      "2025-10-23 17:53:05 - bilstm_attention - INFO - Model compiled:\n",
      "2025-10-23 17:53:05 - bilstm_attention - INFO - Loss: Label Smoothing (α=0.05)\n",
      "2025-10-23 17:53:05 - bilstm_attention - INFO - LR Schedule: True\n",
      "2025-10-23 17:53:05 - bilstm_attention - INFO - Training started:\n",
      "2025-10-23 17:53:05 - bilstm_attention - INFO - Batch size: 128\n",
      "2025-10-23 17:53:05 - bilstm_attention - INFO - Initial epoch: 70\n",
      "2025-10-23 17:53:05 - bilstm_attention - INFO - Total epochs: 100\n",
      "2025-10-23 17:53:05 - src.training.callbacks - INFO - Loaded existing history with 77 epochs\n",
      "Epoch 71/100\n",
      "\u001b[1m895/895\u001b[0m \u001b[32m━━━━━━━━━━━━━━━━━━━━\u001b[0m\u001b[37m\u001b[0m \u001b[1m0s\u001b[0m 589ms/step - accuracy: 0.9266 - loss: 1.0458\n",
      "Epoch 71: val_loss improved from inf to 1.13494, saving model to /kaggle/working/machine-learning-resource/artifacts/bilstm/checkpoints/best_model.keras\n",
      "2025-10-23 18:02:44 - src.training.callbacks - INFO - GPU Memory: 15269/16384 MB (93.2%) | Peak: 15269 MB\n",
      "\u001b[1m895/895\u001b[0m \u001b[32m━━━━━━━━━━━━━━━━━━━━\u001b[0m\u001b[37m\u001b[0m \u001b[1m578s\u001b[0m 617ms/step - accuracy: 0.9266 - loss: 1.0458 - val_accuracy: 0.9161 - val_loss: 1.1349\n",
      "Epoch 72/100\n",
      "\u001b[1m895/895\u001b[0m \u001b[32m━━━━━━━━━━━━━━━━━━━━\u001b[0m\u001b[37m\u001b[0m \u001b[1m0s\u001b[0m 598ms/step - accuracy: 0.9270 - loss: 1.0456\n",
      "Epoch 72: val_loss did not improve from 1.13494\n",
      "2025-10-23 18:12:00 - src.training.callbacks - INFO - GPU Memory: 15269/16384 MB (93.2%) | Peak: 15269 MB\n",
      "\u001b[1m895/895\u001b[0m \u001b[32m━━━━━━━━━━━━━━━━━━━━\u001b[0m\u001b[37m\u001b[0m \u001b[1m556s\u001b[0m 622ms/step - accuracy: 0.9270 - loss: 1.0456 - val_accuracy: 0.9155 - val_loss: 1.1358\n",
      "Epoch 73/100\n",
      "\u001b[1m895/895\u001b[0m \u001b[32m━━━━━━━━━━━━━━━━━━━━\u001b[0m\u001b[37m\u001b[0m \u001b[1m0s\u001b[0m 592ms/step - accuracy: 0.9261 - loss: 1.0491\n",
      "Epoch 73: val_loss did not improve from 1.13494\n",
      "2025-10-23 18:21:11 - src.training.callbacks - INFO - GPU Memory: 15269/16384 MB (93.2%) | Peak: 15269 MB\n",
      "\u001b[1m895/895\u001b[0m \u001b[32m━━━━━━━━━━━━━━━━━━━━\u001b[0m\u001b[37m\u001b[0m \u001b[1m551s\u001b[0m 615ms/step - accuracy: 0.9261 - loss: 1.0491 - val_accuracy: 0.9152 - val_loss: 1.1378\n",
      "Epoch 74/100\n",
      "\u001b[1m895/895\u001b[0m \u001b[32m━━━━━━━━━━━━━━━━━━━━\u001b[0m\u001b[37m\u001b[0m \u001b[1m0s\u001b[0m 591ms/step - accuracy: 0.9248 - loss: 1.0545\n",
      "Epoch 74: val_loss did not improve from 1.13494\n",
      "2025-10-23 18:30:21 - src.training.callbacks - INFO - GPU Memory: 15269/16384 MB (93.2%) | Peak: 15269 MB\n",
      "\u001b[1m895/895\u001b[0m \u001b[32m━━━━━━━━━━━━━━━━━━━━\u001b[0m\u001b[37m\u001b[0m \u001b[1m550s\u001b[0m 614ms/step - accuracy: 0.9248 - loss: 1.0545 - val_accuracy: 0.9147 - val_loss: 1.1420\n",
      "Epoch 75/100\n",
      "\u001b[1m895/895\u001b[0m \u001b[32m━━━━━━━━━━━━━━━━━━━━\u001b[0m\u001b[37m\u001b[0m \u001b[1m0s\u001b[0m 588ms/step - accuracy: 0.9235 - loss: 1.0601\n",
      "Epoch 75: val_loss did not improve from 1.13494\n",
      "2025-10-23 18:39:29 - src.training.callbacks - INFO - GPU Memory: 15269/16384 MB (93.2%) | Peak: 15269 MB\n",
      "\u001b[1m895/895\u001b[0m \u001b[32m━━━━━━━━━━━━━━━━━━━━\u001b[0m\u001b[37m\u001b[0m \u001b[1m548s\u001b[0m 612ms/step - accuracy: 0.9235 - loss: 1.0601 - val_accuracy: 0.9141 - val_loss: 1.1459\n",
      "Epoch 76/100\n",
      "\u001b[1m895/895\u001b[0m \u001b[32m━━━━━━━━━━━━━━━━━━━━\u001b[0m\u001b[37m\u001b[0m \u001b[1m0s\u001b[0m 589ms/step - accuracy: 0.9225 - loss: 1.0650\n",
      "Epoch 76: val_loss did not improve from 1.13494\n",
      "2025-10-23 18:48:36 - src.training.callbacks - INFO - GPU Memory: 15269/16384 MB (93.2%) | Peak: 15269 MB\n",
      "\u001b[1m895/895\u001b[0m \u001b[32m━━━━━━━━━━━━━━━━━━━━\u001b[0m\u001b[37m\u001b[0m \u001b[1m548s\u001b[0m 612ms/step - accuracy: 0.9225 - loss: 1.0650 - val_accuracy: 0.9136 - val_loss: 1.1470\n",
      "Epoch 76: early stopping\n",
      "Restoring model weights from the end of the best epoch: 71.\n",
      "2025-10-23 18:48:37 - bilstm_attention - INFO - Training completed in 0.93 hours\n"
     ]
    }
   ],
   "source": [
    "steps_per_epoch = len(en_train) // Config.BATCH_SIZE\n",
    "Config.TOTAL_STEPS = steps_per_epoch * Config.EPOCHS\n",
    "model_name = \"bilstm\"\n",
    "\n",
    "print(f\"Total training steps: {Config.TOTAL_STEPS}\")\n",
    "print(f\"Steps per epoch: {steps_per_epoch}\")\n",
    "print(f\"Batch size (global): {Config.BATCH_SIZE}\")\n",
    "\n",
    "trainer = ModelTrainer(\n",
    "    model=bilstm_model, \n",
    "    config=Config, \n",
    "    model_name=model_name,\n",
    "    logger_name=\"bilstm_attention\",\n",
    "    logger_file=f\"{Config.LOG_DIR}/bilstm_attention.log\"\n",
    ")\n",
    "\n",
    "bilstm_history = trainer.train(\n",
    "    train_data=(en_train, vi_in_train, vi_out_train),\n",
    "    val_data=(en_val, vi_in_val, vi_out_val),\n",
    "    resume=True\n",
    ")"
   ]
  },
  {
   "cell_type": "code",
   "execution_count": 14,
   "id": "5d0bb568",
   "metadata": {
    "execution": {
     "iopub.execute_input": "2025-10-23T18:48:37.465239Z",
     "iopub.status.busy": "2025-10-23T18:48:37.464659Z",
     "iopub.status.idle": "2025-10-23T18:48:38.975160Z",
     "shell.execute_reply": "2025-10-23T18:48:38.974447Z"
    },
    "papermill": {
     "duration": 1.731939,
     "end_time": "2025-10-23T18:48:38.976319",
     "exception": false,
     "start_time": "2025-10-23T18:48:37.244380",
     "status": "completed"
    },
    "tags": []
   },
   "outputs": [
    {
     "name": "stdout",
     "output_type": "stream",
     "text": [
      "2025-10-23 18:48:38 - bilstm_attention - INFO - Model saved to .../artifacts/bilstm/final_bilstm_model.keras\n"
     ]
    }
   ],
   "source": [
    "# Save model\n",
    "model_path = f\"{Config.ARTIFACT_PATH}/{model_name}\"\n",
    "os.makedirs(model_path, exist_ok=True)\n",
    "trainer.save_model(f\"{model_path}/final_bilstm_model.keras\")"
   ]
  },
  {
   "cell_type": "markdown",
   "id": "5cc2e1f9",
   "metadata": {
    "papermill": {
     "duration": 0.221617,
     "end_time": "2025-10-23T18:48:39.418553",
     "exception": false,
     "start_time": "2025-10-23T18:48:39.196936",
     "status": "completed"
    },
    "tags": []
   },
   "source": [
    "## **6. Build LSTM Model**"
   ]
  },
  {
   "cell_type": "code",
   "execution_count": 15,
   "id": "6bc263dd",
   "metadata": {
    "ExecuteTime": {
     "end_time": "2025-10-19T10:32:10.150869Z",
     "start_time": "2025-10-19T10:32:09.774285Z"
    },
    "execution": {
     "iopub.execute_input": "2025-10-23T18:48:39.857190Z",
     "iopub.status.busy": "2025-10-23T18:48:39.856928Z",
     "iopub.status.idle": "2025-10-23T18:48:40.559712Z",
     "shell.execute_reply": "2025-10-23T18:48:40.559129Z"
    },
    "papermill": {
     "duration": 0.923708,
     "end_time": "2025-10-23T18:48:40.560772",
     "exception": false,
     "start_time": "2025-10-23T18:48:39.637064",
     "status": "completed"
    },
    "tags": []
   },
   "outputs": [
    {
     "name": "stdout",
     "output_type": "stream",
     "text": [
      "Session cleared\n"
     ]
    },
    {
     "data": {
      "text/html": [
       "<pre style=\"white-space:pre;overflow-x:auto;line-height:normal;font-family:Menlo,'DejaVu Sans Mono',consolas,'Courier New',monospace\"><span style=\"font-weight: bold\">Model: \"lstm_attention\"</span>\n",
       "</pre>\n"
      ],
      "text/plain": [
       "\u001b[1mModel: \"lstm_attention\"\u001b[0m\n"
      ]
     },
     "metadata": {},
     "output_type": "display_data"
    },
    {
     "data": {
      "text/html": [
       "<pre style=\"white-space:pre;overflow-x:auto;line-height:normal;font-family:Menlo,'DejaVu Sans Mono',consolas,'Courier New',monospace\">┏━━━━━━━━━━━━━━━━━━━━━┳━━━━━━━━━━━━━━━━━━━┳━━━━━━━━━━━━┳━━━━━━━━━━━━━━━━━━━┓\n",
       "┃<span style=\"font-weight: bold\"> Layer (type)        </span>┃<span style=\"font-weight: bold\"> Output Shape      </span>┃<span style=\"font-weight: bold\">    Param # </span>┃<span style=\"font-weight: bold\"> Connected to      </span>┃\n",
       "┡━━━━━━━━━━━━━━━━━━━━━╇━━━━━━━━━━━━━━━━━━━╇━━━━━━━━━━━━╇━━━━━━━━━━━━━━━━━━━┩\n",
       "│ encoder_input       │ (<span style=\"color: #00d7ff; text-decoration-color: #00d7ff\">None</span>, <span style=\"color: #00af00; text-decoration-color: #00af00\">40</span>)        │          <span style=\"color: #00af00; text-decoration-color: #00af00\">0</span> │ -                 │\n",
       "│ (<span style=\"color: #0087ff; text-decoration-color: #0087ff\">InputLayer</span>)        │                   │            │                   │\n",
       "├─────────────────────┼───────────────────┼────────────┼───────────────────┤\n",
       "│ decoder_input       │ (<span style=\"color: #00d7ff; text-decoration-color: #00d7ff\">None</span>, <span style=\"color: #00af00; text-decoration-color: #00af00\">50</span>)        │          <span style=\"color: #00af00; text-decoration-color: #00af00\">0</span> │ -                 │\n",
       "│ (<span style=\"color: #0087ff; text-decoration-color: #0087ff\">InputLayer</span>)        │                   │            │                   │\n",
       "├─────────────────────┼───────────────────┼────────────┼───────────────────┤\n",
       "│ encoder_embedding   │ (<span style=\"color: #00d7ff; text-decoration-color: #00d7ff\">None</span>, <span style=\"color: #00af00; text-decoration-color: #00af00\">40</span>, <span style=\"color: #00af00; text-decoration-color: #00af00\">64</span>)    │  <span style=\"color: #00af00; text-decoration-color: #00af00\">1,920,000</span> │ encoder_input[<span style=\"color: #00af00; text-decoration-color: #00af00\">0</span>]… │\n",
       "│ (<span style=\"color: #0087ff; text-decoration-color: #0087ff\">Embedding</span>)         │                   │            │                   │\n",
       "├─────────────────────┼───────────────────┼────────────┼───────────────────┤\n",
       "│ decoder_embedding   │ (<span style=\"color: #00d7ff; text-decoration-color: #00d7ff\">None</span>, <span style=\"color: #00af00; text-decoration-color: #00af00\">50</span>, <span style=\"color: #00af00; text-decoration-color: #00af00\">64</span>)    │  <span style=\"color: #00af00; text-decoration-color: #00af00\">1,600,000</span> │ decoder_input[<span style=\"color: #00af00; text-decoration-color: #00af00\">0</span>]… │\n",
       "│ (<span style=\"color: #0087ff; text-decoration-color: #0087ff\">Embedding</span>)         │                   │            │                   │\n",
       "├─────────────────────┼───────────────────┼────────────┼───────────────────┤\n",
       "│ encoder_ln1         │ (<span style=\"color: #00d7ff; text-decoration-color: #00d7ff\">None</span>, <span style=\"color: #00af00; text-decoration-color: #00af00\">40</span>, <span style=\"color: #00af00; text-decoration-color: #00af00\">64</span>)    │        <span style=\"color: #00af00; text-decoration-color: #00af00\">128</span> │ encoder_embeddin… │\n",
       "│ (<span style=\"color: #0087ff; text-decoration-color: #0087ff\">LayerNormalizatio…</span> │                   │            │                   │\n",
       "├─────────────────────┼───────────────────┼────────────┼───────────────────┤\n",
       "│ decoder_ln1         │ (<span style=\"color: #00d7ff; text-decoration-color: #00d7ff\">None</span>, <span style=\"color: #00af00; text-decoration-color: #00af00\">50</span>, <span style=\"color: #00af00; text-decoration-color: #00af00\">64</span>)    │        <span style=\"color: #00af00; text-decoration-color: #00af00\">128</span> │ decoder_embeddin… │\n",
       "│ (<span style=\"color: #0087ff; text-decoration-color: #0087ff\">LayerNormalizatio…</span> │                   │            │                   │\n",
       "├─────────────────────┼───────────────────┼────────────┼───────────────────┤\n",
       "│ encoder_dropout     │ (<span style=\"color: #00d7ff; text-decoration-color: #00d7ff\">None</span>, <span style=\"color: #00af00; text-decoration-color: #00af00\">40</span>, <span style=\"color: #00af00; text-decoration-color: #00af00\">64</span>)    │          <span style=\"color: #00af00; text-decoration-color: #00af00\">0</span> │ encoder_ln1[<span style=\"color: #00af00; text-decoration-color: #00af00\">0</span>][<span style=\"color: #00af00; text-decoration-color: #00af00\">0</span>] │\n",
       "│ (<span style=\"color: #0087ff; text-decoration-color: #0087ff\">Dropout</span>)           │                   │            │                   │\n",
       "├─────────────────────┼───────────────────┼────────────┼───────────────────┤\n",
       "│ not_equal           │ (<span style=\"color: #00d7ff; text-decoration-color: #00d7ff\">None</span>, <span style=\"color: #00af00; text-decoration-color: #00af00\">40</span>)        │          <span style=\"color: #00af00; text-decoration-color: #00af00\">0</span> │ encoder_input[<span style=\"color: #00af00; text-decoration-color: #00af00\">0</span>]… │\n",
       "│ (<span style=\"color: #0087ff; text-decoration-color: #0087ff\">NotEqual</span>)          │                   │            │                   │\n",
       "├─────────────────────┼───────────────────┼────────────┼───────────────────┤\n",
       "│ decoder_dropout     │ (<span style=\"color: #00d7ff; text-decoration-color: #00d7ff\">None</span>, <span style=\"color: #00af00; text-decoration-color: #00af00\">50</span>, <span style=\"color: #00af00; text-decoration-color: #00af00\">64</span>)    │          <span style=\"color: #00af00; text-decoration-color: #00af00\">0</span> │ decoder_ln1[<span style=\"color: #00af00; text-decoration-color: #00af00\">0</span>][<span style=\"color: #00af00; text-decoration-color: #00af00\">0</span>] │\n",
       "│ (<span style=\"color: #0087ff; text-decoration-color: #0087ff\">Dropout</span>)           │                   │            │                   │\n",
       "├─────────────────────┼───────────────────┼────────────┼───────────────────┤\n",
       "│ encoder_lstm (<span style=\"color: #0087ff; text-decoration-color: #0087ff\">LSTM</span>) │ [(<span style=\"color: #00d7ff; text-decoration-color: #00d7ff\">None</span>, <span style=\"color: #00af00; text-decoration-color: #00af00\">40</span>, <span style=\"color: #00af00; text-decoration-color: #00af00\">128</span>), │     <span style=\"color: #00af00; text-decoration-color: #00af00\">98,816</span> │ encoder_dropout[<span style=\"color: #00af00; text-decoration-color: #00af00\">…</span> │\n",
       "│                     │ (<span style=\"color: #00d7ff; text-decoration-color: #00d7ff\">None</span>, <span style=\"color: #00af00; text-decoration-color: #00af00\">128</span>),      │            │ not_equal[<span style=\"color: #00af00; text-decoration-color: #00af00\">0</span>][<span style=\"color: #00af00; text-decoration-color: #00af00\">0</span>]   │\n",
       "│                     │ (<span style=\"color: #00d7ff; text-decoration-color: #00d7ff\">None</span>, <span style=\"color: #00af00; text-decoration-color: #00af00\">128</span>)]      │            │                   │\n",
       "├─────────────────────┼───────────────────┼────────────┼───────────────────┤\n",
       "│ decoder_lstm (<span style=\"color: #0087ff; text-decoration-color: #0087ff\">LSTM</span>) │ [(<span style=\"color: #00d7ff; text-decoration-color: #00d7ff\">None</span>, <span style=\"color: #00af00; text-decoration-color: #00af00\">50</span>, <span style=\"color: #00af00; text-decoration-color: #00af00\">128</span>), │     <span style=\"color: #00af00; text-decoration-color: #00af00\">98,816</span> │ decoder_dropout[<span style=\"color: #00af00; text-decoration-color: #00af00\">…</span> │\n",
       "│                     │ (<span style=\"color: #00d7ff; text-decoration-color: #00d7ff\">None</span>, <span style=\"color: #00af00; text-decoration-color: #00af00\">128</span>),      │            │ encoder_lstm[<span style=\"color: #00af00; text-decoration-color: #00af00\">0</span>][<span style=\"color: #00af00; text-decoration-color: #00af00\">…</span> │\n",
       "│                     │ (<span style=\"color: #00d7ff; text-decoration-color: #00d7ff\">None</span>, <span style=\"color: #00af00; text-decoration-color: #00af00\">128</span>)]      │            │ encoder_lstm[<span style=\"color: #00af00; text-decoration-color: #00af00\">0</span>][<span style=\"color: #00af00; text-decoration-color: #00af00\">…</span> │\n",
       "├─────────────────────┼───────────────────┼────────────┼───────────────────┤\n",
       "│ decoder_ln2         │ (<span style=\"color: #00d7ff; text-decoration-color: #00d7ff\">None</span>, <span style=\"color: #00af00; text-decoration-color: #00af00\">50</span>, <span style=\"color: #00af00; text-decoration-color: #00af00\">128</span>)   │        <span style=\"color: #00af00; text-decoration-color: #00af00\">256</span> │ decoder_lstm[<span style=\"color: #00af00; text-decoration-color: #00af00\">0</span>][<span style=\"color: #00af00; text-decoration-color: #00af00\">…</span> │\n",
       "│ (<span style=\"color: #0087ff; text-decoration-color: #0087ff\">LayerNormalizatio…</span> │                   │            │                   │\n",
       "├─────────────────────┼───────────────────┼────────────┼───────────────────┤\n",
       "│ encoder_ln2         │ (<span style=\"color: #00d7ff; text-decoration-color: #00d7ff\">None</span>, <span style=\"color: #00af00; text-decoration-color: #00af00\">40</span>, <span style=\"color: #00af00; text-decoration-color: #00af00\">128</span>)   │        <span style=\"color: #00af00; text-decoration-color: #00af00\">256</span> │ encoder_lstm[<span style=\"color: #00af00; text-decoration-color: #00af00\">0</span>][<span style=\"color: #00af00; text-decoration-color: #00af00\">…</span> │\n",
       "│ (<span style=\"color: #0087ff; text-decoration-color: #0087ff\">LayerNormalizatio…</span> │                   │            │                   │\n",
       "├─────────────────────┼───────────────────┼────────────┼───────────────────┤\n",
       "│ not_equal_1         │ (<span style=\"color: #00d7ff; text-decoration-color: #00d7ff\">None</span>, <span style=\"color: #00af00; text-decoration-color: #00af00\">50</span>)        │          <span style=\"color: #00af00; text-decoration-color: #00af00\">0</span> │ decoder_input[<span style=\"color: #00af00; text-decoration-color: #00af00\">0</span>]… │\n",
       "│ (<span style=\"color: #0087ff; text-decoration-color: #0087ff\">NotEqual</span>)          │                   │            │                   │\n",
       "├─────────────────────┼───────────────────┼────────────┼───────────────────┤\n",
       "│ attention_layer     │ (<span style=\"color: #00d7ff; text-decoration-color: #00d7ff\">None</span>, <span style=\"color: #00af00; text-decoration-color: #00af00\">50</span>, <span style=\"color: #00af00; text-decoration-color: #00af00\">128</span>)   │    <span style=\"color: #00af00; text-decoration-color: #00af00\">263,808</span> │ encoder_ln2[<span style=\"color: #00af00; text-decoration-color: #00af00\">0</span>][<span style=\"color: #00af00; text-decoration-color: #00af00\">0</span>… │\n",
       "│ (<span style=\"color: #0087ff; text-decoration-color: #0087ff\">MultiHeadAttentio…</span> │                   │            │ not_equal[<span style=\"color: #00af00; text-decoration-color: #00af00\">0</span>][<span style=\"color: #00af00; text-decoration-color: #00af00\">0</span>],  │\n",
       "│                     │                   │            │ decoder_ln2[<span style=\"color: #00af00; text-decoration-color: #00af00\">0</span>][<span style=\"color: #00af00; text-decoration-color: #00af00\">0</span>… │\n",
       "│                     │                   │            │ not_equal_1[<span style=\"color: #00af00; text-decoration-color: #00af00\">0</span>][<span style=\"color: #00af00; text-decoration-color: #00af00\">0</span>… │\n",
       "│                     │                   │            │ encoder_ln2[<span style=\"color: #00af00; text-decoration-color: #00af00\">0</span>][<span style=\"color: #00af00; text-decoration-color: #00af00\">0</span>… │\n",
       "│                     │                   │            │ not_equal[<span style=\"color: #00af00; text-decoration-color: #00af00\">0</span>][<span style=\"color: #00af00; text-decoration-color: #00af00\">0</span>]   │\n",
       "├─────────────────────┼───────────────────┼────────────┼───────────────────┤\n",
       "│ attention_ln        │ (<span style=\"color: #00d7ff; text-decoration-color: #00d7ff\">None</span>, <span style=\"color: #00af00; text-decoration-color: #00af00\">50</span>, <span style=\"color: #00af00; text-decoration-color: #00af00\">128</span>)   │        <span style=\"color: #00af00; text-decoration-color: #00af00\">256</span> │ attention_layer[<span style=\"color: #00af00; text-decoration-color: #00af00\">…</span> │\n",
       "│ (<span style=\"color: #0087ff; text-decoration-color: #0087ff\">LayerNormalizatio…</span> │                   │            │                   │\n",
       "├─────────────────────┼───────────────────┼────────────┼───────────────────┤\n",
       "│ residual_add (<span style=\"color: #0087ff; text-decoration-color: #0087ff\">Add</span>)  │ (<span style=\"color: #00d7ff; text-decoration-color: #00d7ff\">None</span>, <span style=\"color: #00af00; text-decoration-color: #00af00\">50</span>, <span style=\"color: #00af00; text-decoration-color: #00af00\">128</span>)   │          <span style=\"color: #00af00; text-decoration-color: #00af00\">0</span> │ decoder_ln2[<span style=\"color: #00af00; text-decoration-color: #00af00\">0</span>][<span style=\"color: #00af00; text-decoration-color: #00af00\">0</span>… │\n",
       "│                     │                   │            │ attention_ln[<span style=\"color: #00af00; text-decoration-color: #00af00\">0</span>][<span style=\"color: #00af00; text-decoration-color: #00af00\">…</span> │\n",
       "├─────────────────────┼───────────────────┼────────────┼───────────────────┤\n",
       "│ residual_ln         │ (<span style=\"color: #00d7ff; text-decoration-color: #00d7ff\">None</span>, <span style=\"color: #00af00; text-decoration-color: #00af00\">50</span>, <span style=\"color: #00af00; text-decoration-color: #00af00\">128</span>)   │        <span style=\"color: #00af00; text-decoration-color: #00af00\">256</span> │ residual_add[<span style=\"color: #00af00; text-decoration-color: #00af00\">0</span>][<span style=\"color: #00af00; text-decoration-color: #00af00\">…</span> │\n",
       "│ (<span style=\"color: #0087ff; text-decoration-color: #0087ff\">LayerNormalizatio…</span> │                   │            │                   │\n",
       "├─────────────────────┼───────────────────┼────────────┼───────────────────┤\n",
       "│ concat_output       │ (<span style=\"color: #00d7ff; text-decoration-color: #00d7ff\">None</span>, <span style=\"color: #00af00; text-decoration-color: #00af00\">50</span>, <span style=\"color: #00af00; text-decoration-color: #00af00\">256</span>)   │          <span style=\"color: #00af00; text-decoration-color: #00af00\">0</span> │ residual_ln[<span style=\"color: #00af00; text-decoration-color: #00af00\">0</span>][<span style=\"color: #00af00; text-decoration-color: #00af00\">0</span>… │\n",
       "│ (<span style=\"color: #0087ff; text-decoration-color: #0087ff\">Concatenate</span>)       │                   │            │ attention_ln[<span style=\"color: #00af00; text-decoration-color: #00af00\">0</span>][<span style=\"color: #00af00; text-decoration-color: #00af00\">…</span> │\n",
       "├─────────────────────┼───────────────────┼────────────┼───────────────────┤\n",
       "│ concat_dropout      │ (<span style=\"color: #00d7ff; text-decoration-color: #00d7ff\">None</span>, <span style=\"color: #00af00; text-decoration-color: #00af00\">50</span>, <span style=\"color: #00af00; text-decoration-color: #00af00\">256</span>)   │          <span style=\"color: #00af00; text-decoration-color: #00af00\">0</span> │ concat_output[<span style=\"color: #00af00; text-decoration-color: #00af00\">0</span>]… │\n",
       "│ (<span style=\"color: #0087ff; text-decoration-color: #0087ff\">Dropout</span>)           │                   │            │                   │\n",
       "├─────────────────────┼───────────────────┼────────────┼───────────────────┤\n",
       "│ decoder_dense       │ (<span style=\"color: #00d7ff; text-decoration-color: #00d7ff\">None</span>, <span style=\"color: #00af00; text-decoration-color: #00af00\">50</span>, <span style=\"color: #00af00; text-decoration-color: #00af00\">25000</span>) │  <span style=\"color: #00af00; text-decoration-color: #00af00\">6,425,000</span> │ concat_dropout[<span style=\"color: #00af00; text-decoration-color: #00af00\">0</span>… │\n",
       "│ (<span style=\"color: #0087ff; text-decoration-color: #0087ff\">Dense</span>)             │                   │            │                   │\n",
       "└─────────────────────┴───────────────────┴────────────┴───────────────────┘\n",
       "</pre>\n"
      ],
      "text/plain": [
       "┏━━━━━━━━━━━━━━━━━━━━━┳━━━━━━━━━━━━━━━━━━━┳━━━━━━━━━━━━┳━━━━━━━━━━━━━━━━━━━┓\n",
       "┃\u001b[1m \u001b[0m\u001b[1mLayer (type)       \u001b[0m\u001b[1m \u001b[0m┃\u001b[1m \u001b[0m\u001b[1mOutput Shape     \u001b[0m\u001b[1m \u001b[0m┃\u001b[1m \u001b[0m\u001b[1m   Param #\u001b[0m\u001b[1m \u001b[0m┃\u001b[1m \u001b[0m\u001b[1mConnected to     \u001b[0m\u001b[1m \u001b[0m┃\n",
       "┡━━━━━━━━━━━━━━━━━━━━━╇━━━━━━━━━━━━━━━━━━━╇━━━━━━━━━━━━╇━━━━━━━━━━━━━━━━━━━┩\n",
       "│ encoder_input       │ (\u001b[38;5;45mNone\u001b[0m, \u001b[38;5;34m40\u001b[0m)        │          \u001b[38;5;34m0\u001b[0m │ -                 │\n",
       "│ (\u001b[38;5;33mInputLayer\u001b[0m)        │                   │            │                   │\n",
       "├─────────────────────┼───────────────────┼────────────┼───────────────────┤\n",
       "│ decoder_input       │ (\u001b[38;5;45mNone\u001b[0m, \u001b[38;5;34m50\u001b[0m)        │          \u001b[38;5;34m0\u001b[0m │ -                 │\n",
       "│ (\u001b[38;5;33mInputLayer\u001b[0m)        │                   │            │                   │\n",
       "├─────────────────────┼───────────────────┼────────────┼───────────────────┤\n",
       "│ encoder_embedding   │ (\u001b[38;5;45mNone\u001b[0m, \u001b[38;5;34m40\u001b[0m, \u001b[38;5;34m64\u001b[0m)    │  \u001b[38;5;34m1,920,000\u001b[0m │ encoder_input[\u001b[38;5;34m0\u001b[0m]… │\n",
       "│ (\u001b[38;5;33mEmbedding\u001b[0m)         │                   │            │                   │\n",
       "├─────────────────────┼───────────────────┼────────────┼───────────────────┤\n",
       "│ decoder_embedding   │ (\u001b[38;5;45mNone\u001b[0m, \u001b[38;5;34m50\u001b[0m, \u001b[38;5;34m64\u001b[0m)    │  \u001b[38;5;34m1,600,000\u001b[0m │ decoder_input[\u001b[38;5;34m0\u001b[0m]… │\n",
       "│ (\u001b[38;5;33mEmbedding\u001b[0m)         │                   │            │                   │\n",
       "├─────────────────────┼───────────────────┼────────────┼───────────────────┤\n",
       "│ encoder_ln1         │ (\u001b[38;5;45mNone\u001b[0m, \u001b[38;5;34m40\u001b[0m, \u001b[38;5;34m64\u001b[0m)    │        \u001b[38;5;34m128\u001b[0m │ encoder_embeddin… │\n",
       "│ (\u001b[38;5;33mLayerNormalizatio…\u001b[0m │                   │            │                   │\n",
       "├─────────────────────┼───────────────────┼────────────┼───────────────────┤\n",
       "│ decoder_ln1         │ (\u001b[38;5;45mNone\u001b[0m, \u001b[38;5;34m50\u001b[0m, \u001b[38;5;34m64\u001b[0m)    │        \u001b[38;5;34m128\u001b[0m │ decoder_embeddin… │\n",
       "│ (\u001b[38;5;33mLayerNormalizatio…\u001b[0m │                   │            │                   │\n",
       "├─────────────────────┼───────────────────┼────────────┼───────────────────┤\n",
       "│ encoder_dropout     │ (\u001b[38;5;45mNone\u001b[0m, \u001b[38;5;34m40\u001b[0m, \u001b[38;5;34m64\u001b[0m)    │          \u001b[38;5;34m0\u001b[0m │ encoder_ln1[\u001b[38;5;34m0\u001b[0m][\u001b[38;5;34m0\u001b[0m] │\n",
       "│ (\u001b[38;5;33mDropout\u001b[0m)           │                   │            │                   │\n",
       "├─────────────────────┼───────────────────┼────────────┼───────────────────┤\n",
       "│ not_equal           │ (\u001b[38;5;45mNone\u001b[0m, \u001b[38;5;34m40\u001b[0m)        │          \u001b[38;5;34m0\u001b[0m │ encoder_input[\u001b[38;5;34m0\u001b[0m]… │\n",
       "│ (\u001b[38;5;33mNotEqual\u001b[0m)          │                   │            │                   │\n",
       "├─────────────────────┼───────────────────┼────────────┼───────────────────┤\n",
       "│ decoder_dropout     │ (\u001b[38;5;45mNone\u001b[0m, \u001b[38;5;34m50\u001b[0m, \u001b[38;5;34m64\u001b[0m)    │          \u001b[38;5;34m0\u001b[0m │ decoder_ln1[\u001b[38;5;34m0\u001b[0m][\u001b[38;5;34m0\u001b[0m] │\n",
       "│ (\u001b[38;5;33mDropout\u001b[0m)           │                   │            │                   │\n",
       "├─────────────────────┼───────────────────┼────────────┼───────────────────┤\n",
       "│ encoder_lstm (\u001b[38;5;33mLSTM\u001b[0m) │ [(\u001b[38;5;45mNone\u001b[0m, \u001b[38;5;34m40\u001b[0m, \u001b[38;5;34m128\u001b[0m), │     \u001b[38;5;34m98,816\u001b[0m │ encoder_dropout[\u001b[38;5;34m…\u001b[0m │\n",
       "│                     │ (\u001b[38;5;45mNone\u001b[0m, \u001b[38;5;34m128\u001b[0m),      │            │ not_equal[\u001b[38;5;34m0\u001b[0m][\u001b[38;5;34m0\u001b[0m]   │\n",
       "│                     │ (\u001b[38;5;45mNone\u001b[0m, \u001b[38;5;34m128\u001b[0m)]      │            │                   │\n",
       "├─────────────────────┼───────────────────┼────────────┼───────────────────┤\n",
       "│ decoder_lstm (\u001b[38;5;33mLSTM\u001b[0m) │ [(\u001b[38;5;45mNone\u001b[0m, \u001b[38;5;34m50\u001b[0m, \u001b[38;5;34m128\u001b[0m), │     \u001b[38;5;34m98,816\u001b[0m │ decoder_dropout[\u001b[38;5;34m…\u001b[0m │\n",
       "│                     │ (\u001b[38;5;45mNone\u001b[0m, \u001b[38;5;34m128\u001b[0m),      │            │ encoder_lstm[\u001b[38;5;34m0\u001b[0m][\u001b[38;5;34m…\u001b[0m │\n",
       "│                     │ (\u001b[38;5;45mNone\u001b[0m, \u001b[38;5;34m128\u001b[0m)]      │            │ encoder_lstm[\u001b[38;5;34m0\u001b[0m][\u001b[38;5;34m…\u001b[0m │\n",
       "├─────────────────────┼───────────────────┼────────────┼───────────────────┤\n",
       "│ decoder_ln2         │ (\u001b[38;5;45mNone\u001b[0m, \u001b[38;5;34m50\u001b[0m, \u001b[38;5;34m128\u001b[0m)   │        \u001b[38;5;34m256\u001b[0m │ decoder_lstm[\u001b[38;5;34m0\u001b[0m][\u001b[38;5;34m…\u001b[0m │\n",
       "│ (\u001b[38;5;33mLayerNormalizatio…\u001b[0m │                   │            │                   │\n",
       "├─────────────────────┼───────────────────┼────────────┼───────────────────┤\n",
       "│ encoder_ln2         │ (\u001b[38;5;45mNone\u001b[0m, \u001b[38;5;34m40\u001b[0m, \u001b[38;5;34m128\u001b[0m)   │        \u001b[38;5;34m256\u001b[0m │ encoder_lstm[\u001b[38;5;34m0\u001b[0m][\u001b[38;5;34m…\u001b[0m │\n",
       "│ (\u001b[38;5;33mLayerNormalizatio…\u001b[0m │                   │            │                   │\n",
       "├─────────────────────┼───────────────────┼────────────┼───────────────────┤\n",
       "│ not_equal_1         │ (\u001b[38;5;45mNone\u001b[0m, \u001b[38;5;34m50\u001b[0m)        │          \u001b[38;5;34m0\u001b[0m │ decoder_input[\u001b[38;5;34m0\u001b[0m]… │\n",
       "│ (\u001b[38;5;33mNotEqual\u001b[0m)          │                   │            │                   │\n",
       "├─────────────────────┼───────────────────┼────────────┼───────────────────┤\n",
       "│ attention_layer     │ (\u001b[38;5;45mNone\u001b[0m, \u001b[38;5;34m50\u001b[0m, \u001b[38;5;34m128\u001b[0m)   │    \u001b[38;5;34m263,808\u001b[0m │ encoder_ln2[\u001b[38;5;34m0\u001b[0m][\u001b[38;5;34m0\u001b[0m… │\n",
       "│ (\u001b[38;5;33mMultiHeadAttentio…\u001b[0m │                   │            │ not_equal[\u001b[38;5;34m0\u001b[0m][\u001b[38;5;34m0\u001b[0m],  │\n",
       "│                     │                   │            │ decoder_ln2[\u001b[38;5;34m0\u001b[0m][\u001b[38;5;34m0\u001b[0m… │\n",
       "│                     │                   │            │ not_equal_1[\u001b[38;5;34m0\u001b[0m][\u001b[38;5;34m0\u001b[0m… │\n",
       "│                     │                   │            │ encoder_ln2[\u001b[38;5;34m0\u001b[0m][\u001b[38;5;34m0\u001b[0m… │\n",
       "│                     │                   │            │ not_equal[\u001b[38;5;34m0\u001b[0m][\u001b[38;5;34m0\u001b[0m]   │\n",
       "├─────────────────────┼───────────────────┼────────────┼───────────────────┤\n",
       "│ attention_ln        │ (\u001b[38;5;45mNone\u001b[0m, \u001b[38;5;34m50\u001b[0m, \u001b[38;5;34m128\u001b[0m)   │        \u001b[38;5;34m256\u001b[0m │ attention_layer[\u001b[38;5;34m…\u001b[0m │\n",
       "│ (\u001b[38;5;33mLayerNormalizatio…\u001b[0m │                   │            │                   │\n",
       "├─────────────────────┼───────────────────┼────────────┼───────────────────┤\n",
       "│ residual_add (\u001b[38;5;33mAdd\u001b[0m)  │ (\u001b[38;5;45mNone\u001b[0m, \u001b[38;5;34m50\u001b[0m, \u001b[38;5;34m128\u001b[0m)   │          \u001b[38;5;34m0\u001b[0m │ decoder_ln2[\u001b[38;5;34m0\u001b[0m][\u001b[38;5;34m0\u001b[0m… │\n",
       "│                     │                   │            │ attention_ln[\u001b[38;5;34m0\u001b[0m][\u001b[38;5;34m…\u001b[0m │\n",
       "├─────────────────────┼───────────────────┼────────────┼───────────────────┤\n",
       "│ residual_ln         │ (\u001b[38;5;45mNone\u001b[0m, \u001b[38;5;34m50\u001b[0m, \u001b[38;5;34m128\u001b[0m)   │        \u001b[38;5;34m256\u001b[0m │ residual_add[\u001b[38;5;34m0\u001b[0m][\u001b[38;5;34m…\u001b[0m │\n",
       "│ (\u001b[38;5;33mLayerNormalizatio…\u001b[0m │                   │            │                   │\n",
       "├─────────────────────┼───────────────────┼────────────┼───────────────────┤\n",
       "│ concat_output       │ (\u001b[38;5;45mNone\u001b[0m, \u001b[38;5;34m50\u001b[0m, \u001b[38;5;34m256\u001b[0m)   │          \u001b[38;5;34m0\u001b[0m │ residual_ln[\u001b[38;5;34m0\u001b[0m][\u001b[38;5;34m0\u001b[0m… │\n",
       "│ (\u001b[38;5;33mConcatenate\u001b[0m)       │                   │            │ attention_ln[\u001b[38;5;34m0\u001b[0m][\u001b[38;5;34m…\u001b[0m │\n",
       "├─────────────────────┼───────────────────┼────────────┼───────────────────┤\n",
       "│ concat_dropout      │ (\u001b[38;5;45mNone\u001b[0m, \u001b[38;5;34m50\u001b[0m, \u001b[38;5;34m256\u001b[0m)   │          \u001b[38;5;34m0\u001b[0m │ concat_output[\u001b[38;5;34m0\u001b[0m]… │\n",
       "│ (\u001b[38;5;33mDropout\u001b[0m)           │                   │            │                   │\n",
       "├─────────────────────┼───────────────────┼────────────┼───────────────────┤\n",
       "│ decoder_dense       │ (\u001b[38;5;45mNone\u001b[0m, \u001b[38;5;34m50\u001b[0m, \u001b[38;5;34m25000\u001b[0m) │  \u001b[38;5;34m6,425,000\u001b[0m │ concat_dropout[\u001b[38;5;34m0\u001b[0m… │\n",
       "│ (\u001b[38;5;33mDense\u001b[0m)             │                   │            │                   │\n",
       "└─────────────────────┴───────────────────┴────────────┴───────────────────┘\n"
      ]
     },
     "metadata": {},
     "output_type": "display_data"
    },
    {
     "data": {
      "text/html": [
       "<pre style=\"white-space:pre;overflow-x:auto;line-height:normal;font-family:Menlo,'DejaVu Sans Mono',consolas,'Courier New',monospace\"><span style=\"font-weight: bold\"> Total params: </span><span style=\"color: #00af00; text-decoration-color: #00af00\">10,407,720</span> (39.70 MB)\n",
       "</pre>\n"
      ],
      "text/plain": [
       "\u001b[1m Total params: \u001b[0m\u001b[38;5;34m10,407,720\u001b[0m (39.70 MB)\n"
      ]
     },
     "metadata": {},
     "output_type": "display_data"
    },
    {
     "data": {
      "text/html": [
       "<pre style=\"white-space:pre;overflow-x:auto;line-height:normal;font-family:Menlo,'DejaVu Sans Mono',consolas,'Courier New',monospace\"><span style=\"font-weight: bold\"> Trainable params: </span><span style=\"color: #00af00; text-decoration-color: #00af00\">10,407,720</span> (39.70 MB)\n",
       "</pre>\n"
      ],
      "text/plain": [
       "\u001b[1m Trainable params: \u001b[0m\u001b[38;5;34m10,407,720\u001b[0m (39.70 MB)\n"
      ]
     },
     "metadata": {},
     "output_type": "display_data"
    },
    {
     "data": {
      "text/html": [
       "<pre style=\"white-space:pre;overflow-x:auto;line-height:normal;font-family:Menlo,'DejaVu Sans Mono',consolas,'Courier New',monospace\"><span style=\"font-weight: bold\"> Non-trainable params: </span><span style=\"color: #00af00; text-decoration-color: #00af00\">0</span> (0.00 B)\n",
       "</pre>\n"
      ],
      "text/plain": [
       "\u001b[1m Non-trainable params: \u001b[0m\u001b[38;5;34m0\u001b[0m (0.00 B)\n"
      ]
     },
     "metadata": {},
     "output_type": "display_data"
    }
   ],
   "source": [
    "GPUMemoryManager.clear_session()\n",
    "\n",
    "lstm_builder = LSTMAttentionModel(\n",
    "    config=Config,\n",
    "    name_logger=\"lstm_attention\",\n",
    "    filename_logger=f\"{Config.LOG_DIR}/lstm_attention.log\"\n",
    ")\n",
    "lstm_model = lstm_builder.build(\n",
    "    vocab_size_src=Config.MAX_VOCAB_SIZE_SRC,\n",
    "    vocab_size_trg=Config.MAX_VOCAB_SIZE_TRG,\n",
    "    max_len_src=Config.MAX_LENGTH_SRC,\n",
    "    max_len_trg=Config.MAX_LENGTH_TRG\n",
    ")\n",
    "\n",
    "lstm_model.summary()"
   ]
  },
  {
   "cell_type": "markdown",
   "id": "d2a25f19",
   "metadata": {
    "papermill": {
     "duration": 0.221703,
     "end_time": "2025-10-23T18:48:41.005635",
     "exception": false,
     "start_time": "2025-10-23T18:48:40.783932",
     "status": "completed"
    },
    "tags": []
   },
   "source": [
    "## **7. Train LSTM**"
   ]
  },
  {
   "cell_type": "code",
   "execution_count": 16,
   "id": "1019312b",
   "metadata": {
    "execution": {
     "iopub.execute_input": "2025-10-23T18:48:41.524274Z",
     "iopub.status.busy": "2025-10-23T18:48:41.523985Z",
     "iopub.status.idle": "2025-10-24T05:01:33.823332Z",
     "shell.execute_reply": "2025-10-24T05:01:33.822738Z"
    },
    "papermill": {
     "duration": 36772.599933,
     "end_time": "2025-10-24T05:01:33.824527",
     "exception": false,
     "start_time": "2025-10-23T18:48:41.224594",
     "status": "completed"
    },
    "tags": []
   },
   "outputs": [
    {
     "name": "stdout",
     "output_type": "stream",
     "text": [
      "2025-10-23 18:48:41 - lstm_attention - INFO - No checkpoint directory found. Starting from scratch.\n",
      "2025-10-23 18:48:41 - lstm_attention - INFO - Mixed precision optimizer enabled with increased stability\n",
      "2025-10-23 18:48:41 - lstm_attention - INFO - Model compiled:\n",
      "2025-10-23 18:48:41 - lstm_attention - INFO - Loss: Label Smoothing (α=0.05)\n",
      "2025-10-23 18:48:41 - lstm_attention - INFO - LR Schedule: True\n",
      "2025-10-23 18:48:41 - lstm_attention - INFO - Training started:\n",
      "2025-10-23 18:48:41 - lstm_attention - INFO - Batch size: 128\n",
      "2025-10-23 18:48:41 - lstm_attention - INFO - Initial epoch: 0\n",
      "2025-10-23 18:48:41 - lstm_attention - INFO - Total epochs: 100\n",
      "Epoch 1/100\n",
      "\u001b[1m895/895\u001b[0m \u001b[32m━━━━━━━━━━━━━━━━━━━━\u001b[0m\u001b[37m\u001b[0m \u001b[1m0s\u001b[0m 388ms/step - accuracy: 0.5073 - loss: 7.6140\n",
      "Epoch 1: val_loss improved from inf to 2.50783, saving model to /kaggle/working/machine-learning-resource/artifacts/lstm/checkpoints/best_model.keras\n",
      "2025-10-23 18:55:02 - src.training.callbacks - INFO - GPU Memory: 15269/16384 MB (93.2%) | Peak: 15269 MB\n",
      "\u001b[1m895/895\u001b[0m \u001b[32m━━━━━━━━━━━━━━━━━━━━\u001b[0m\u001b[37m\u001b[0m \u001b[1m381s\u001b[0m 409ms/step - accuracy: 0.5075 - loss: 7.6113 - val_accuracy: 0.7143 - val_loss: 2.5078\n",
      "Epoch 2/100\n",
      "\u001b[1m895/895\u001b[0m \u001b[32m━━━━━━━━━━━━━━━━━━━━\u001b[0m\u001b[37m\u001b[0m \u001b[1m0s\u001b[0m 387ms/step - accuracy: 0.7280 - loss: 2.4225\n",
      "Epoch 2: val_loss improved from 2.50783 to 2.03052, saving model to /kaggle/working/machine-learning-resource/artifacts/lstm/checkpoints/best_model.keras\n",
      "2025-10-23 19:01:05 - src.training.callbacks - INFO - GPU Memory: 15269/16384 MB (93.2%) | Peak: 15269 MB\n",
      "\u001b[1m895/895\u001b[0m \u001b[32m━━━━━━━━━━━━━━━━━━━━\u001b[0m\u001b[37m\u001b[0m \u001b[1m363s\u001b[0m 405ms/step - accuracy: 0.7280 - loss: 2.4224 - val_accuracy: 0.7826 - val_loss: 2.0305\n",
      "Epoch 3/100\n",
      "\u001b[1m895/895\u001b[0m \u001b[32m━━━━━━━━━━━━━━━━━━━━\u001b[0m\u001b[37m\u001b[0m \u001b[1m0s\u001b[0m 388ms/step - accuracy: 0.7837 - loss: 2.0286\n",
      "Epoch 3: val_loss improved from 2.03052 to 1.71270, saving model to /kaggle/working/machine-learning-resource/artifacts/lstm/checkpoints/best_model.keras\n",
      "2025-10-23 19:07:09 - src.training.callbacks - INFO - GPU Memory: 15269/16384 MB (93.2%) | Peak: 15269 MB\n",
      "\u001b[1m895/895\u001b[0m \u001b[32m━━━━━━━━━━━━━━━━━━━━\u001b[0m\u001b[37m\u001b[0m \u001b[1m364s\u001b[0m 407ms/step - accuracy: 0.7837 - loss: 2.0285 - val_accuracy: 0.8266 - val_loss: 1.7127\n",
      "Epoch 4/100\n",
      "\u001b[1m895/895\u001b[0m \u001b[32m━━━━━━━━━━━━━━━━━━━━\u001b[0m\u001b[37m\u001b[0m \u001b[1m0s\u001b[0m 388ms/step - accuracy: 0.8179 - loss: 1.7698\n",
      "Epoch 4: val_loss improved from 1.71270 to 1.52958, saving model to /kaggle/working/machine-learning-resource/artifacts/lstm/checkpoints/best_model.keras\n",
      "2025-10-23 19:13:13 - src.training.callbacks - INFO - GPU Memory: 15269/16384 MB (93.2%) | Peak: 15269 MB\n",
      "\u001b[1m895/895\u001b[0m \u001b[32m━━━━━━━━━━━━━━━━━━━━\u001b[0m\u001b[37m\u001b[0m \u001b[1m364s\u001b[0m 407ms/step - accuracy: 0.8179 - loss: 1.7697 - val_accuracy: 0.8513 - val_loss: 1.5296\n",
      "Epoch 5/100\n",
      "\u001b[1m895/895\u001b[0m \u001b[32m━━━━━━━━━━━━━━━━━━━━\u001b[0m\u001b[37m\u001b[0m \u001b[1m0s\u001b[0m 389ms/step - accuracy: 0.8385 - loss: 1.6117\n",
      "Epoch 5: val_loss improved from 1.52958 to 1.44338, saving model to /kaggle/working/machine-learning-resource/artifacts/lstm/checkpoints/best_model.keras\n",
      "2025-10-23 19:19:18 - src.training.callbacks - INFO - GPU Memory: 15269/16384 MB (93.2%) | Peak: 15269 MB\n",
      "\u001b[1m895/895\u001b[0m \u001b[32m━━━━━━━━━━━━━━━━━━━━\u001b[0m\u001b[37m\u001b[0m \u001b[1m365s\u001b[0m 408ms/step - accuracy: 0.8385 - loss: 1.6117 - val_accuracy: 0.8635 - val_loss: 1.4434\n",
      "Epoch 6/100\n",
      "\u001b[1m895/895\u001b[0m \u001b[32m━━━━━━━━━━━━━━━━━━━━\u001b[0m\u001b[37m\u001b[0m \u001b[1m0s\u001b[0m 386ms/step - accuracy: 0.8509 - loss: 1.5160\n",
      "Epoch 6: val_loss improved from 1.44338 to 1.37789, saving model to /kaggle/working/machine-learning-resource/artifacts/lstm/checkpoints/best_model.keras\n",
      "2025-10-23 19:25:20 - src.training.callbacks - INFO - GPU Memory: 15269/16384 MB (93.2%) | Peak: 15269 MB\n",
      "\u001b[1m895/895\u001b[0m \u001b[32m━━━━━━━━━━━━━━━━━━━━\u001b[0m\u001b[37m\u001b[0m \u001b[1m362s\u001b[0m 405ms/step - accuracy: 0.8509 - loss: 1.5160 - val_accuracy: 0.8721 - val_loss: 1.3779\n",
      "Epoch 7/100\n",
      "\u001b[1m895/895\u001b[0m \u001b[32m━━━━━━━━━━━━━━━━━━━━\u001b[0m\u001b[37m\u001b[0m \u001b[1m0s\u001b[0m 387ms/step - accuracy: 0.8591 - loss: 1.4556\n",
      "Epoch 7: val_loss improved from 1.37789 to 1.34537, saving model to /kaggle/working/machine-learning-resource/artifacts/lstm/checkpoints/best_model.keras\n",
      "2025-10-23 19:31:24 - src.training.callbacks - INFO - GPU Memory: 15269/16384 MB (93.2%) | Peak: 15269 MB\n",
      "\u001b[1m895/895\u001b[0m \u001b[32m━━━━━━━━━━━━━━━━━━━━\u001b[0m\u001b[37m\u001b[0m \u001b[1m363s\u001b[0m 406ms/step - accuracy: 0.8591 - loss: 1.4556 - val_accuracy: 0.8772 - val_loss: 1.3454\n",
      "Epoch 8/100\n",
      "\u001b[1m895/895\u001b[0m \u001b[32m━━━━━━━━━━━━━━━━━━━━\u001b[0m\u001b[37m\u001b[0m \u001b[1m0s\u001b[0m 387ms/step - accuracy: 0.8652 - loss: 1.4119\n",
      "Epoch 8: val_loss improved from 1.34537 to 1.31662, saving model to /kaggle/working/machine-learning-resource/artifacts/lstm/checkpoints/best_model.keras\n",
      "2025-10-23 19:37:27 - src.training.callbacks - INFO - GPU Memory: 15269/16384 MB (93.2%) | Peak: 15269 MB\n",
      "\u001b[1m895/895\u001b[0m \u001b[32m━━━━━━━━━━━━━━━━━━━━\u001b[0m\u001b[37m\u001b[0m \u001b[1m363s\u001b[0m 406ms/step - accuracy: 0.8652 - loss: 1.4119 - val_accuracy: 0.8816 - val_loss: 1.3166\n",
      "Epoch 9/100\n",
      "\u001b[1m895/895\u001b[0m \u001b[32m━━━━━━━━━━━━━━━━━━━━\u001b[0m\u001b[37m\u001b[0m \u001b[1m0s\u001b[0m 389ms/step - accuracy: 0.8697 - loss: 1.3792\n",
      "Epoch 9: val_loss improved from 1.31662 to 1.30040, saving model to /kaggle/working/machine-learning-resource/artifacts/lstm/checkpoints/best_model.keras\n",
      "2025-10-23 19:43:32 - src.training.callbacks - INFO - GPU Memory: 15269/16384 MB (93.2%) | Peak: 15269 MB\n",
      "\u001b[1m895/895\u001b[0m \u001b[32m━━━━━━━━━━━━━━━━━━━━\u001b[0m\u001b[37m\u001b[0m \u001b[1m365s\u001b[0m 408ms/step - accuracy: 0.8697 - loss: 1.3792 - val_accuracy: 0.8838 - val_loss: 1.3004\n",
      "Epoch 10/100\n",
      "\u001b[1m895/895\u001b[0m \u001b[32m━━━━━━━━━━━━━━━━━━━━\u001b[0m\u001b[37m\u001b[0m \u001b[1m0s\u001b[0m 389ms/step - accuracy: 0.8730 - loss: 1.3565\n",
      "Epoch 10: val_loss improved from 1.30040 to 1.28057, saving model to /kaggle/working/machine-learning-resource/artifacts/lstm/checkpoints/best_model.keras\n",
      "2025-10-23 19:49:36 - src.training.callbacks - INFO - Saved checkpoint at epoch 10: /kaggle/working/machine-learning-resource/artifacts/lstm/checkpoints/checkpoint_epoch_010.keras\n",
      "2025-10-23 19:49:38 - src.training.callbacks - INFO - GPU Memory: 15269/16384 MB (93.2%) | Peak: 15269 MB\n",
      "\u001b[1m895/895\u001b[0m \u001b[32m━━━━━━━━━━━━━━━━━━━━\u001b[0m\u001b[37m\u001b[0m \u001b[1m366s\u001b[0m 409ms/step - accuracy: 0.8730 - loss: 1.3565 - val_accuracy: 0.8869 - val_loss: 1.2806\n",
      "Epoch 11/100\n",
      "\u001b[1m895/895\u001b[0m \u001b[32m━━━━━━━━━━━━━━━━━━━━\u001b[0m\u001b[37m\u001b[0m \u001b[1m0s\u001b[0m 389ms/step - accuracy: 0.8772 - loss: 1.3290\n",
      "Epoch 11: val_loss improved from 1.28057 to 1.26916, saving model to /kaggle/working/machine-learning-resource/artifacts/lstm/checkpoints/best_model.keras\n",
      "2025-10-23 19:55:43 - src.training.callbacks - INFO - GPU Memory: 15269/16384 MB (93.2%) | Peak: 15269 MB\n",
      "\u001b[1m895/895\u001b[0m \u001b[32m━━━━━━━━━━━━━━━━━━━━\u001b[0m\u001b[37m\u001b[0m \u001b[1m366s\u001b[0m 408ms/step - accuracy: 0.8772 - loss: 1.3290 - val_accuracy: 0.8889 - val_loss: 1.2692\n",
      "Epoch 12/100\n",
      "\u001b[1m895/895\u001b[0m \u001b[32m━━━━━━━━━━━━━━━━━━━━\u001b[0m\u001b[37m\u001b[0m \u001b[1m0s\u001b[0m 388ms/step - accuracy: 0.8795 - loss: 1.3133\n",
      "Epoch 12: val_loss improved from 1.26916 to 1.25877, saving model to /kaggle/working/machine-learning-resource/artifacts/lstm/checkpoints/best_model.keras\n",
      "2025-10-23 20:01:48 - src.training.callbacks - INFO - GPU Memory: 15269/16384 MB (93.2%) | Peak: 15269 MB\n",
      "\u001b[1m895/895\u001b[0m \u001b[32m━━━━━━━━━━━━━━━━━━━━\u001b[0m\u001b[37m\u001b[0m \u001b[1m364s\u001b[0m 407ms/step - accuracy: 0.8795 - loss: 1.3133 - val_accuracy: 0.8908 - val_loss: 1.2588\n",
      "Epoch 13/100\n",
      "\u001b[1m895/895\u001b[0m \u001b[32m━━━━━━━━━━━━━━━━━━━━\u001b[0m\u001b[37m\u001b[0m \u001b[1m0s\u001b[0m 390ms/step - accuracy: 0.8821 - loss: 1.2971\n",
      "Epoch 13: val_loss improved from 1.25877 to 1.25353, saving model to /kaggle/working/machine-learning-resource/artifacts/lstm/checkpoints/best_model.keras\n",
      "2025-10-23 20:07:54 - src.training.callbacks - INFO - GPU Memory: 15269/16384 MB (93.2%) | Peak: 15269 MB\n",
      "\u001b[1m895/895\u001b[0m \u001b[32m━━━━━━━━━━━━━━━━━━━━\u001b[0m\u001b[37m\u001b[0m \u001b[1m366s\u001b[0m 409ms/step - accuracy: 0.8821 - loss: 1.2971 - val_accuracy: 0.8920 - val_loss: 1.2535\n",
      "Epoch 14/100\n",
      "\u001b[1m895/895\u001b[0m \u001b[32m━━━━━━━━━━━━━━━━━━━━\u001b[0m\u001b[37m\u001b[0m \u001b[1m0s\u001b[0m 392ms/step - accuracy: 0.8838 - loss: 1.2853\n",
      "Epoch 14: val_loss improved from 1.25353 to 1.24509, saving model to /kaggle/working/machine-learning-resource/artifacts/lstm/checkpoints/best_model.keras\n",
      "2025-10-23 20:14:01 - src.training.callbacks - INFO - GPU Memory: 15269/16384 MB (93.2%) | Peak: 15269 MB\n",
      "\u001b[1m895/895\u001b[0m \u001b[32m━━━━━━━━━━━━━━━━━━━━\u001b[0m\u001b[37m\u001b[0m \u001b[1m367s\u001b[0m 411ms/step - accuracy: 0.8838 - loss: 1.2852 - val_accuracy: 0.8931 - val_loss: 1.2451\n",
      "Epoch 15/100\n",
      "\u001b[1m895/895\u001b[0m \u001b[32m━━━━━━━━━━━━━━━━━━━━\u001b[0m\u001b[37m\u001b[0m \u001b[1m0s\u001b[0m 390ms/step - accuracy: 0.8856 - loss: 1.2740\n",
      "Epoch 15: val_loss improved from 1.24509 to 1.24039, saving model to /kaggle/working/machine-learning-resource/artifacts/lstm/checkpoints/best_model.keras\n",
      "2025-10-23 20:20:07 - src.training.callbacks - INFO - GPU Memory: 15269/16384 MB (93.2%) | Peak: 15269 MB\n",
      "\u001b[1m895/895\u001b[0m \u001b[32m━━━━━━━━━━━━━━━━━━━━\u001b[0m\u001b[37m\u001b[0m \u001b[1m366s\u001b[0m 409ms/step - accuracy: 0.8856 - loss: 1.2740 - val_accuracy: 0.8940 - val_loss: 1.2404\n",
      "Epoch 16/100\n",
      "\u001b[1m895/895\u001b[0m \u001b[32m━━━━━━━━━━━━━━━━━━━━\u001b[0m\u001b[37m\u001b[0m \u001b[1m0s\u001b[0m 392ms/step - accuracy: 0.8867 - loss: 1.2656\n",
      "Epoch 16: val_loss improved from 1.24039 to 1.23788, saving model to /kaggle/working/machine-learning-resource/artifacts/lstm/checkpoints/best_model.keras\n",
      "2025-10-23 20:26:15 - src.training.callbacks - INFO - GPU Memory: 15269/16384 MB (93.2%) | Peak: 15269 MB\n",
      "\u001b[1m895/895\u001b[0m \u001b[32m━━━━━━━━━━━━━━━━━━━━\u001b[0m\u001b[37m\u001b[0m \u001b[1m367s\u001b[0m 411ms/step - accuracy: 0.8867 - loss: 1.2656 - val_accuracy: 0.8949 - val_loss: 1.2379\n",
      "Epoch 17/100\n",
      "\u001b[1m895/895\u001b[0m \u001b[32m━━━━━━━━━━━━━━━━━━━━\u001b[0m\u001b[37m\u001b[0m \u001b[1m0s\u001b[0m 391ms/step - accuracy: 0.8882 - loss: 1.2571\n",
      "Epoch 17: val_loss improved from 1.23788 to 1.23227, saving model to /kaggle/working/machine-learning-resource/artifacts/lstm/checkpoints/best_model.keras\n",
      "2025-10-23 20:32:22 - src.training.callbacks - INFO - GPU Memory: 15269/16384 MB (93.2%) | Peak: 15269 MB\n",
      "\u001b[1m895/895\u001b[0m \u001b[32m━━━━━━━━━━━━━━━━━━━━\u001b[0m\u001b[37m\u001b[0m \u001b[1m367s\u001b[0m 410ms/step - accuracy: 0.8882 - loss: 1.2571 - val_accuracy: 0.8957 - val_loss: 1.2323\n",
      "Epoch 18/100\n",
      "\u001b[1m895/895\u001b[0m \u001b[32m━━━━━━━━━━━━━━━━━━━━\u001b[0m\u001b[37m\u001b[0m \u001b[1m0s\u001b[0m 391ms/step - accuracy: 0.8893 - loss: 1.2514\n",
      "Epoch 18: val_loss did not improve from 1.23227\n",
      "2025-10-23 20:38:28 - src.training.callbacks - INFO - GPU Memory: 15269/16384 MB (93.2%) | Peak: 15269 MB\n",
      "\u001b[1m895/895\u001b[0m \u001b[32m━━━━━━━━━━━━━━━━━━━━\u001b[0m\u001b[37m\u001b[0m \u001b[1m366s\u001b[0m 409ms/step - accuracy: 0.8893 - loss: 1.2514 - val_accuracy: 0.8957 - val_loss: 1.2324\n",
      "Epoch 19/100\n",
      "\u001b[1m895/895\u001b[0m \u001b[32m━━━━━━━━━━━━━━━━━━━━\u001b[0m\u001b[37m\u001b[0m \u001b[1m0s\u001b[0m 391ms/step - accuracy: 0.8901 - loss: 1.2455\n",
      "Epoch 19: val_loss improved from 1.23227 to 1.22595, saving model to /kaggle/working/machine-learning-resource/artifacts/lstm/checkpoints/best_model.keras\n",
      "2025-10-23 20:44:35 - src.training.callbacks - INFO - GPU Memory: 15269/16384 MB (93.2%) | Peak: 15269 MB\n",
      "\u001b[1m895/895\u001b[0m \u001b[32m━━━━━━━━━━━━━━━━━━━━\u001b[0m\u001b[37m\u001b[0m \u001b[1m367s\u001b[0m 410ms/step - accuracy: 0.8901 - loss: 1.2455 - val_accuracy: 0.8967 - val_loss: 1.2260\n",
      "Epoch 20/100\n",
      "\u001b[1m895/895\u001b[0m \u001b[32m━━━━━━━━━━━━━━━━━━━━\u001b[0m\u001b[37m\u001b[0m \u001b[1m0s\u001b[0m 392ms/step - accuracy: 0.8908 - loss: 1.2404\n",
      "Epoch 20: val_loss did not improve from 1.22595\n",
      "2025-10-23 20:50:41 - src.training.callbacks - INFO - Saved checkpoint at epoch 20: /kaggle/working/machine-learning-resource/artifacts/lstm/checkpoints/checkpoint_epoch_020.keras\n",
      "2025-10-23 20:50:43 - src.training.callbacks - INFO - GPU Memory: 15269/16384 MB (93.2%) | Peak: 15269 MB\n",
      "\u001b[1m895/895\u001b[0m \u001b[32m━━━━━━━━━━━━━━━━━━━━\u001b[0m\u001b[37m\u001b[0m \u001b[1m368s\u001b[0m 411ms/step - accuracy: 0.8908 - loss: 1.2404 - val_accuracy: 0.8968 - val_loss: 1.2269\n",
      "Epoch 21/100\n",
      "\u001b[1m895/895\u001b[0m \u001b[32m━━━━━━━━━━━━━━━━━━━━\u001b[0m\u001b[37m\u001b[0m \u001b[1m0s\u001b[0m 391ms/step - accuracy: 0.8917 - loss: 1.2360\n",
      "Epoch 21: val_loss improved from 1.22595 to 1.22243, saving model to /kaggle/working/machine-learning-resource/artifacts/lstm/checkpoints/best_model.keras\n",
      "2025-10-23 20:56:49 - src.training.callbacks - INFO - GPU Memory: 15269/16384 MB (93.2%) | Peak: 15269 MB\n",
      "\u001b[1m895/895\u001b[0m \u001b[32m━━━━━━━━━━━━━━━━━━━━\u001b[0m\u001b[37m\u001b[0m \u001b[1m367s\u001b[0m 410ms/step - accuracy: 0.8917 - loss: 1.2360 - val_accuracy: 0.8973 - val_loss: 1.2224\n",
      "Epoch 22/100\n",
      "\u001b[1m895/895\u001b[0m \u001b[32m━━━━━━━━━━━━━━━━━━━━\u001b[0m\u001b[37m\u001b[0m \u001b[1m0s\u001b[0m 391ms/step - accuracy: 0.8922 - loss: 1.2322\n",
      "Epoch 22: val_loss improved from 1.22243 to 1.22067, saving model to /kaggle/working/machine-learning-resource/artifacts/lstm/checkpoints/best_model.keras\n",
      "2025-10-23 21:02:57 - src.training.callbacks - INFO - GPU Memory: 15269/16384 MB (93.2%) | Peak: 15269 MB\n",
      "\u001b[1m895/895\u001b[0m \u001b[32m━━━━━━━━━━━━━━━━━━━━\u001b[0m\u001b[37m\u001b[0m \u001b[1m367s\u001b[0m 410ms/step - accuracy: 0.8922 - loss: 1.2322 - val_accuracy: 0.8981 - val_loss: 1.2207\n",
      "Epoch 23/100\n",
      "\u001b[1m895/895\u001b[0m \u001b[32m━━━━━━━━━━━━━━━━━━━━\u001b[0m\u001b[37m\u001b[0m \u001b[1m0s\u001b[0m 390ms/step - accuracy: 0.8932 - loss: 1.2267\n",
      "Epoch 23: val_loss improved from 1.22067 to 1.21913, saving model to /kaggle/working/machine-learning-resource/artifacts/lstm/checkpoints/best_model.keras\n",
      "2025-10-23 21:09:02 - src.training.callbacks - INFO - GPU Memory: 15269/16384 MB (93.2%) | Peak: 15269 MB\n",
      "\u001b[1m895/895\u001b[0m \u001b[32m━━━━━━━━━━━━━━━━━━━━\u001b[0m\u001b[37m\u001b[0m \u001b[1m366s\u001b[0m 409ms/step - accuracy: 0.8932 - loss: 1.2267 - val_accuracy: 0.8982 - val_loss: 1.2191\n",
      "Epoch 24/100\n",
      "\u001b[1m895/895\u001b[0m \u001b[32m━━━━━━━━━━━━━━━━━━━━\u001b[0m\u001b[37m\u001b[0m \u001b[1m0s\u001b[0m 390ms/step - accuracy: 0.8937 - loss: 1.2231\n",
      "Epoch 24: val_loss improved from 1.21913 to 1.21700, saving model to /kaggle/working/machine-learning-resource/artifacts/lstm/checkpoints/best_model.keras\n",
      "2025-10-23 21:15:08 - src.training.callbacks - INFO - GPU Memory: 15269/16384 MB (93.2%) | Peak: 15269 MB\n",
      "\u001b[1m895/895\u001b[0m \u001b[32m━━━━━━━━━━━━━━━━━━━━\u001b[0m\u001b[37m\u001b[0m \u001b[1m366s\u001b[0m 409ms/step - accuracy: 0.8937 - loss: 1.2231 - val_accuracy: 0.8991 - val_loss: 1.2170\n",
      "Epoch 25/100\n",
      "\u001b[1m895/895\u001b[0m \u001b[32m━━━━━━━━━━━━━━━━━━━━\u001b[0m\u001b[37m\u001b[0m \u001b[1m0s\u001b[0m 390ms/step - accuracy: 0.8942 - loss: 1.2207\n",
      "Epoch 25: val_loss improved from 1.21700 to 1.21580, saving model to /kaggle/working/machine-learning-resource/artifacts/lstm/checkpoints/best_model.keras\n",
      "2025-10-23 21:21:14 - src.training.callbacks - INFO - GPU Memory: 15269/16384 MB (93.2%) | Peak: 15269 MB\n",
      "\u001b[1m895/895\u001b[0m \u001b[32m━━━━━━━━━━━━━━━━━━━━\u001b[0m\u001b[37m\u001b[0m \u001b[1m366s\u001b[0m 408ms/step - accuracy: 0.8942 - loss: 1.2207 - val_accuracy: 0.8985 - val_loss: 1.2158\n",
      "Epoch 26/100\n",
      "\u001b[1m895/895\u001b[0m \u001b[32m━━━━━━━━━━━━━━━━━━━━\u001b[0m\u001b[37m\u001b[0m \u001b[1m0s\u001b[0m 390ms/step - accuracy: 0.8949 - loss: 1.2168\n",
      "Epoch 26: val_loss did not improve from 1.21580\n",
      "2025-10-23 21:27:19 - src.training.callbacks - INFO - GPU Memory: 15269/16384 MB (93.2%) | Peak: 15269 MB\n",
      "\u001b[1m895/895\u001b[0m \u001b[32m━━━━━━━━━━━━━━━━━━━━\u001b[0m\u001b[37m\u001b[0m \u001b[1m365s\u001b[0m 408ms/step - accuracy: 0.8949 - loss: 1.2168 - val_accuracy: 0.8988 - val_loss: 1.2171\n",
      "Epoch 27/100\n",
      "\u001b[1m895/895\u001b[0m \u001b[32m━━━━━━━━━━━━━━━━━━━━\u001b[0m\u001b[37m\u001b[0m \u001b[1m0s\u001b[0m 391ms/step - accuracy: 0.8954 - loss: 1.2141\n",
      "Epoch 27: val_loss improved from 1.21580 to 1.21275, saving model to /kaggle/working/machine-learning-resource/artifacts/lstm/checkpoints/best_model.keras\n",
      "2025-10-23 21:33:26 - src.training.callbacks - INFO - GPU Memory: 15269/16384 MB (93.2%) | Peak: 15269 MB\n",
      "\u001b[1m895/895\u001b[0m \u001b[32m━━━━━━━━━━━━━━━━━━━━\u001b[0m\u001b[37m\u001b[0m \u001b[1m367s\u001b[0m 410ms/step - accuracy: 0.8954 - loss: 1.2141 - val_accuracy: 0.8999 - val_loss: 1.2128\n",
      "Epoch 28/100\n",
      "\u001b[1m895/895\u001b[0m \u001b[32m━━━━━━━━━━━━━━━━━━━━\u001b[0m\u001b[37m\u001b[0m \u001b[1m0s\u001b[0m 392ms/step - accuracy: 0.8958 - loss: 1.2110\n",
      "Epoch 28: val_loss improved from 1.21275 to 1.21149, saving model to /kaggle/working/machine-learning-resource/artifacts/lstm/checkpoints/best_model.keras\n",
      "2025-10-23 21:39:34 - src.training.callbacks - INFO - GPU Memory: 15269/16384 MB (93.2%) | Peak: 15269 MB\n",
      "\u001b[1m895/895\u001b[0m \u001b[32m━━━━━━━━━━━━━━━━━━━━\u001b[0m\u001b[37m\u001b[0m \u001b[1m368s\u001b[0m 411ms/step - accuracy: 0.8958 - loss: 1.2110 - val_accuracy: 0.8995 - val_loss: 1.2115\n",
      "Epoch 29/100\n",
      "\u001b[1m895/895\u001b[0m \u001b[32m━━━━━━━━━━━━━━━━━━━━\u001b[0m\u001b[37m\u001b[0m \u001b[1m0s\u001b[0m 394ms/step - accuracy: 0.8959 - loss: 1.2097\n",
      "Epoch 29: val_loss improved from 1.21149 to 1.21107, saving model to /kaggle/working/machine-learning-resource/artifacts/lstm/checkpoints/best_model.keras\n",
      "2025-10-23 21:45:43 - src.training.callbacks - INFO - GPU Memory: 15269/16384 MB (93.2%) | Peak: 15269 MB\n",
      "\u001b[1m895/895\u001b[0m \u001b[32m━━━━━━━━━━━━━━━━━━━━\u001b[0m\u001b[37m\u001b[0m \u001b[1m370s\u001b[0m 413ms/step - accuracy: 0.8959 - loss: 1.2097 - val_accuracy: 0.9002 - val_loss: 1.2111\n",
      "Epoch 30/100\n",
      "\u001b[1m895/895\u001b[0m \u001b[32m━━━━━━━━━━━━━━━━━━━━\u001b[0m\u001b[37m\u001b[0m \u001b[1m0s\u001b[0m 392ms/step - accuracy: 0.8967 - loss: 1.2059\n",
      "Epoch 30: val_loss improved from 1.21107 to 1.20955, saving model to /kaggle/working/machine-learning-resource/artifacts/lstm/checkpoints/best_model.keras\n",
      "2025-10-23 21:51:50 - src.training.callbacks - INFO - Saved checkpoint at epoch 30: /kaggle/working/machine-learning-resource/artifacts/lstm/checkpoints/checkpoint_epoch_030.keras\n",
      "2025-10-23 21:51:52 - src.training.callbacks - INFO - GPU Memory: 15269/16384 MB (93.2%) | Peak: 15269 MB\n",
      "\u001b[1m895/895\u001b[0m \u001b[32m━━━━━━━━━━━━━━━━━━━━\u001b[0m\u001b[37m\u001b[0m \u001b[1m368s\u001b[0m 412ms/step - accuracy: 0.8967 - loss: 1.2059 - val_accuracy: 0.9004 - val_loss: 1.2095\n",
      "Epoch 31/100\n",
      "\u001b[1m895/895\u001b[0m \u001b[32m━━━━━━━━━━━━━━━━━━━━\u001b[0m\u001b[37m\u001b[0m \u001b[1m0s\u001b[0m 389ms/step - accuracy: 0.8970 - loss: 1.2030\n",
      "Epoch 31: val_loss improved from 1.20955 to 1.20883, saving model to /kaggle/working/machine-learning-resource/artifacts/lstm/checkpoints/best_model.keras\n",
      "2025-10-23 21:57:57 - src.training.callbacks - INFO - GPU Memory: 15269/16384 MB (93.2%) | Peak: 15269 MB\n",
      "\u001b[1m895/895\u001b[0m \u001b[32m━━━━━━━━━━━━━━━━━━━━\u001b[0m\u001b[37m\u001b[0m \u001b[1m366s\u001b[0m 408ms/step - accuracy: 0.8970 - loss: 1.2030 - val_accuracy: 0.9003 - val_loss: 1.2088\n",
      "Epoch 32/100\n",
      "\u001b[1m895/895\u001b[0m \u001b[32m━━━━━━━━━━━━━━━━━━━━\u001b[0m\u001b[37m\u001b[0m \u001b[1m0s\u001b[0m 391ms/step - accuracy: 0.8974 - loss: 1.2018\n",
      "Epoch 32: val_loss improved from 1.20883 to 1.20605, saving model to /kaggle/working/machine-learning-resource/artifacts/lstm/checkpoints/best_model.keras\n",
      "2025-10-23 22:04:05 - src.training.callbacks - INFO - GPU Memory: 15269/16384 MB (93.2%) | Peak: 15269 MB\n",
      "\u001b[1m895/895\u001b[0m \u001b[32m━━━━━━━━━━━━━━━━━━━━\u001b[0m\u001b[37m\u001b[0m \u001b[1m367s\u001b[0m 410ms/step - accuracy: 0.8974 - loss: 1.2018 - val_accuracy: 0.9007 - val_loss: 1.2061\n",
      "Epoch 33/100\n",
      "\u001b[1m895/895\u001b[0m \u001b[32m━━━━━━━━━━━━━━━━━━━━\u001b[0m\u001b[37m\u001b[0m \u001b[1m0s\u001b[0m 391ms/step - accuracy: 0.8977 - loss: 1.1992\n",
      "Epoch 33: val_loss improved from 1.20605 to 1.20528, saving model to /kaggle/working/machine-learning-resource/artifacts/lstm/checkpoints/best_model.keras\n",
      "2025-10-23 22:10:12 - src.training.callbacks - INFO - GPU Memory: 15269/16384 MB (93.2%) | Peak: 15269 MB\n",
      "\u001b[1m895/895\u001b[0m \u001b[32m━━━━━━━━━━━━━━━━━━━━\u001b[0m\u001b[37m\u001b[0m \u001b[1m368s\u001b[0m 411ms/step - accuracy: 0.8977 - loss: 1.1992 - val_accuracy: 0.9010 - val_loss: 1.2053\n",
      "Epoch 34/100\n",
      "\u001b[1m895/895\u001b[0m \u001b[32m━━━━━━━━━━━━━━━━━━━━\u001b[0m\u001b[37m\u001b[0m \u001b[1m0s\u001b[0m 390ms/step - accuracy: 0.8981 - loss: 1.1970\n",
      "Epoch 34: val_loss did not improve from 1.20528\n",
      "2025-10-23 22:16:18 - src.training.callbacks - INFO - GPU Memory: 15269/16384 MB (93.2%) | Peak: 15269 MB\n",
      "\u001b[1m895/895\u001b[0m \u001b[32m━━━━━━━━━━━━━━━━━━━━\u001b[0m\u001b[37m\u001b[0m \u001b[1m365s\u001b[0m 408ms/step - accuracy: 0.8981 - loss: 1.1970 - val_accuracy: 0.9009 - val_loss: 1.2070\n",
      "Epoch 35/100\n",
      "\u001b[1m895/895\u001b[0m \u001b[32m━━━━━━━━━━━━━━━━━━━━\u001b[0m\u001b[37m\u001b[0m \u001b[1m0s\u001b[0m 390ms/step - accuracy: 0.8985 - loss: 1.1949\n",
      "Epoch 35: val_loss did not improve from 1.20528\n",
      "2025-10-23 22:22:23 - src.training.callbacks - INFO - GPU Memory: 15269/16384 MB (93.2%) | Peak: 15269 MB\n",
      "\u001b[1m895/895\u001b[0m \u001b[32m━━━━━━━━━━━━━━━━━━━━\u001b[0m\u001b[37m\u001b[0m \u001b[1m366s\u001b[0m 408ms/step - accuracy: 0.8985 - loss: 1.1949 - val_accuracy: 0.9011 - val_loss: 1.2056\n",
      "Epoch 36/100\n",
      "\u001b[1m895/895\u001b[0m \u001b[32m━━━━━━━━━━━━━━━━━━━━\u001b[0m\u001b[37m\u001b[0m \u001b[1m0s\u001b[0m 390ms/step - accuracy: 0.8987 - loss: 1.1940\n",
      "Epoch 36: val_loss improved from 1.20528 to 1.20394, saving model to /kaggle/working/machine-learning-resource/artifacts/lstm/checkpoints/best_model.keras\n",
      "2025-10-23 22:28:30 - src.training.callbacks - INFO - GPU Memory: 15269/16384 MB (93.2%) | Peak: 15269 MB\n",
      "\u001b[1m895/895\u001b[0m \u001b[32m━━━━━━━━━━━━━━━━━━━━\u001b[0m\u001b[37m\u001b[0m \u001b[1m366s\u001b[0m 409ms/step - accuracy: 0.8987 - loss: 1.1940 - val_accuracy: 0.9015 - val_loss: 1.2039\n",
      "Epoch 37/100\n",
      "\u001b[1m895/895\u001b[0m \u001b[32m━━━━━━━━━━━━━━━━━━━━\u001b[0m\u001b[37m\u001b[0m \u001b[1m0s\u001b[0m 390ms/step - accuracy: 0.8988 - loss: 1.1925\n",
      "Epoch 37: val_loss improved from 1.20394 to 1.20299, saving model to /kaggle/working/machine-learning-resource/artifacts/lstm/checkpoints/best_model.keras\n",
      "2025-10-23 22:34:36 - src.training.callbacks - INFO - GPU Memory: 15269/16384 MB (93.2%) | Peak: 15269 MB\n",
      "\u001b[1m895/895\u001b[0m \u001b[32m━━━━━━━━━━━━━━━━━━━━\u001b[0m\u001b[37m\u001b[0m \u001b[1m366s\u001b[0m 409ms/step - accuracy: 0.8988 - loss: 1.1925 - val_accuracy: 0.9017 - val_loss: 1.2030\n",
      "Epoch 38/100\n",
      "\u001b[1m895/895\u001b[0m \u001b[32m━━━━━━━━━━━━━━━━━━━━\u001b[0m\u001b[37m\u001b[0m \u001b[1m0s\u001b[0m 390ms/step - accuracy: 0.8994 - loss: 1.1902\n",
      "Epoch 38: val_loss did not improve from 1.20299\n",
      "2025-10-23 22:40:41 - src.training.callbacks - INFO - GPU Memory: 15269/16384 MB (93.2%) | Peak: 15269 MB\n",
      "\u001b[1m895/895\u001b[0m \u001b[32m━━━━━━━━━━━━━━━━━━━━\u001b[0m\u001b[37m\u001b[0m \u001b[1m366s\u001b[0m 408ms/step - accuracy: 0.8994 - loss: 1.1902 - val_accuracy: 0.9014 - val_loss: 1.2047\n",
      "Epoch 39/100\n",
      "\u001b[1m895/895\u001b[0m \u001b[32m━━━━━━━━━━━━━━━━━━━━\u001b[0m\u001b[37m\u001b[0m \u001b[1m0s\u001b[0m 390ms/step - accuracy: 0.8996 - loss: 1.1886\n",
      "Epoch 39: val_loss improved from 1.20299 to 1.20020, saving model to /kaggle/working/machine-learning-resource/artifacts/lstm/checkpoints/best_model.keras\n",
      "2025-10-23 22:46:48 - src.training.callbacks - INFO - GPU Memory: 15269/16384 MB (93.2%) | Peak: 15269 MB\n",
      "\u001b[1m895/895\u001b[0m \u001b[32m━━━━━━━━━━━━━━━━━━━━\u001b[0m\u001b[37m\u001b[0m \u001b[1m366s\u001b[0m 409ms/step - accuracy: 0.8996 - loss: 1.1886 - val_accuracy: 0.9016 - val_loss: 1.2002\n",
      "Epoch 40/100\n",
      "\u001b[1m895/895\u001b[0m \u001b[32m━━━━━━━━━━━━━━━━━━━━\u001b[0m\u001b[37m\u001b[0m \u001b[1m0s\u001b[0m 390ms/step - accuracy: 0.8998 - loss: 1.1866\n",
      "Epoch 40: val_loss did not improve from 1.20020\n",
      "2025-10-23 22:52:52 - src.training.callbacks - INFO - Saved checkpoint at epoch 40: /kaggle/working/machine-learning-resource/artifacts/lstm/checkpoints/checkpoint_epoch_040.keras\n",
      "2025-10-23 22:52:54 - src.training.callbacks - INFO - GPU Memory: 15269/16384 MB (93.2%) | Peak: 15269 MB\n",
      "\u001b[1m895/895\u001b[0m \u001b[32m━━━━━━━━━━━━━━━━━━━━\u001b[0m\u001b[37m\u001b[0m \u001b[1m366s\u001b[0m 409ms/step - accuracy: 0.8998 - loss: 1.1866 - val_accuracy: 0.9016 - val_loss: 1.2023\n",
      "Epoch 41/100\n",
      "\u001b[1m895/895\u001b[0m \u001b[32m━━━━━━━━━━━━━━━━━━━━\u001b[0m\u001b[37m\u001b[0m \u001b[1m0s\u001b[0m 507ms/step - accuracy: 0.9005 - loss: 1.1829\n",
      "Epoch 41: val_loss did not improve from 1.20020\n",
      "2025-10-23 23:01:11 - src.training.callbacks - INFO - GPU Memory: 15269/16384 MB (93.2%) | Peak: 15269 MB\n",
      "\u001b[1m895/895\u001b[0m \u001b[32m━━━━━━━━━━━━━━━━━━━━\u001b[0m\u001b[37m\u001b[0m \u001b[1m497s\u001b[0m 556ms/step - accuracy: 0.9005 - loss: 1.1829 - val_accuracy: 0.9022 - val_loss: 1.2004\n",
      "Epoch 42/100\n",
      "\u001b[1m895/895\u001b[0m \u001b[32m━━━━━━━━━━━━━━━━━━━━\u001b[0m\u001b[37m\u001b[0m \u001b[1m0s\u001b[0m 980ms/step - accuracy: 0.9007 - loss: 1.1823\n",
      "Epoch 42: val_loss did not improve from 1.20020\n",
      "2025-10-23 23:16:34 - src.training.callbacks - INFO - GPU Memory: 15269/16384 MB (93.2%) | Peak: 15269 MB\n",
      "\u001b[1m895/895\u001b[0m \u001b[32m━━━━━━━━━━━━━━━━━━━━\u001b[0m\u001b[37m\u001b[0m \u001b[1m922s\u001b[0m 1s/step - accuracy: 0.9007 - loss: 1.1823 - val_accuracy: 0.9021 - val_loss: 1.2009\n",
      "Epoch 43/100\n",
      "\u001b[1m895/895\u001b[0m \u001b[32m━━━━━━━━━━━━━━━━━━━━\u001b[0m\u001b[37m\u001b[0m \u001b[1m0s\u001b[0m 996ms/step - accuracy: 0.9010 - loss: 1.1805\n",
      "Epoch 43: val_loss did not improve from 1.20020\n",
      "2025-10-23 23:32:13 - src.training.callbacks - INFO - GPU Memory: 15269/16384 MB (93.2%) | Peak: 15269 MB\n",
      "\u001b[1m895/895\u001b[0m \u001b[32m━━━━━━━━━━━━━━━━━━━━\u001b[0m\u001b[37m\u001b[0m \u001b[1m939s\u001b[0m 1s/step - accuracy: 0.9010 - loss: 1.1805 - val_accuracy: 0.9020 - val_loss: 1.2003\n",
      "Epoch 44/100\n",
      "\u001b[1m895/895\u001b[0m \u001b[32m━━━━━━━━━━━━━━━━━━━━\u001b[0m\u001b[37m\u001b[0m \u001b[1m0s\u001b[0m 1s/step - accuracy: 0.9010 - loss: 1.1801\n",
      "Epoch 44: val_loss improved from 1.20020 to 1.19936, saving model to /kaggle/working/machine-learning-resource/artifacts/lstm/checkpoints/best_model.keras\n",
      "2025-10-23 23:48:14 - src.training.callbacks - INFO - GPU Memory: 15269/16384 MB (93.2%) | Peak: 15269 MB\n",
      "\u001b[1m895/895\u001b[0m \u001b[32m━━━━━━━━━━━━━━━━━━━━\u001b[0m\u001b[37m\u001b[0m \u001b[1m961s\u001b[0m 1s/step - accuracy: 0.9010 - loss: 1.1801 - val_accuracy: 0.9024 - val_loss: 1.1994\n",
      "Epoch 45/100\n",
      "\u001b[1m895/895\u001b[0m \u001b[32m━━━━━━━━━━━━━━━━━━━━\u001b[0m\u001b[37m\u001b[0m \u001b[1m0s\u001b[0m 1s/step - accuracy: 0.9013 - loss: 1.1788\n",
      "Epoch 45: val_loss improved from 1.19936 to 1.19714, saving model to /kaggle/working/machine-learning-resource/artifacts/lstm/checkpoints/best_model.keras\n",
      "2025-10-24 00:04:16 - src.training.callbacks - INFO - GPU Memory: 15269/16384 MB (93.2%) | Peak: 15269 MB\n",
      "\u001b[1m895/895\u001b[0m \u001b[32m━━━━━━━━━━━━━━━━━━━━\u001b[0m\u001b[37m\u001b[0m \u001b[1m963s\u001b[0m 1s/step - accuracy: 0.9013 - loss: 1.1788 - val_accuracy: 0.9029 - val_loss: 1.1971\n",
      "Epoch 46/100\n",
      "\u001b[1m895/895\u001b[0m \u001b[32m━━━━━━━━━━━━━━━━━━━━\u001b[0m\u001b[37m\u001b[0m \u001b[1m0s\u001b[0m 995ms/step - accuracy: 0.9015 - loss: 1.1772\n",
      "Epoch 46: val_loss did not improve from 1.19714\n",
      "2025-10-24 00:19:54 - src.training.callbacks - INFO - GPU Memory: 15269/16384 MB (93.2%) | Peak: 15269 MB\n",
      "\u001b[1m895/895\u001b[0m \u001b[32m━━━━━━━━━━━━━━━━━━━━\u001b[0m\u001b[37m\u001b[0m \u001b[1m938s\u001b[0m 1s/step - accuracy: 0.9015 - loss: 1.1772 - val_accuracy: 0.9025 - val_loss: 1.1975\n",
      "Epoch 47/100\n",
      "\u001b[1m895/895\u001b[0m \u001b[32m━━━━━━━━━━━━━━━━━━━━\u001b[0m\u001b[37m\u001b[0m \u001b[1m0s\u001b[0m 1s/step - accuracy: 0.9018 - loss: 1.1754\n",
      "Epoch 47: val_loss improved from 1.19714 to 1.19523, saving model to /kaggle/working/machine-learning-resource/artifacts/lstm/checkpoints/best_model.keras\n",
      "2025-10-24 00:35:58 - src.training.callbacks - INFO - GPU Memory: 15269/16384 MB (93.2%) | Peak: 15269 MB\n",
      "\u001b[1m895/895\u001b[0m \u001b[32m━━━━━━━━━━━━━━━━━━━━\u001b[0m\u001b[37m\u001b[0m \u001b[1m964s\u001b[0m 1s/step - accuracy: 0.9018 - loss: 1.1754 - val_accuracy: 0.9030 - val_loss: 1.1952\n",
      "Epoch 48/100\n",
      "\u001b[1m895/895\u001b[0m \u001b[32m━━━━━━━━━━━━━━━━━━━━\u001b[0m\u001b[37m\u001b[0m \u001b[1m0s\u001b[0m 975ms/step - accuracy: 0.9021 - loss: 1.1741\n",
      "Epoch 48: val_loss did not improve from 1.19523\n",
      "2025-10-24 00:51:14 - src.training.callbacks - INFO - GPU Memory: 15269/16384 MB (93.2%) | Peak: 15269 MB\n",
      "\u001b[1m895/895\u001b[0m \u001b[32m━━━━━━━━━━━━━━━━━━━━\u001b[0m\u001b[37m\u001b[0m \u001b[1m916s\u001b[0m 1s/step - accuracy: 0.9021 - loss: 1.1741 - val_accuracy: 0.9029 - val_loss: 1.1958\n",
      "Epoch 49/100\n",
      "\u001b[1m895/895\u001b[0m \u001b[32m━━━━━━━━━━━━━━━━━━━━\u001b[0m\u001b[37m\u001b[0m \u001b[1m0s\u001b[0m 883ms/step - accuracy: 0.9023 - loss: 1.1725\n",
      "Epoch 49: val_loss improved from 1.19523 to 1.19503, saving model to /kaggle/working/machine-learning-resource/artifacts/lstm/checkpoints/best_model.keras\n",
      "2025-10-24 01:04:56 - src.training.callbacks - INFO - GPU Memory: 15269/16384 MB (93.2%) | Peak: 15269 MB\n",
      "\u001b[1m895/895\u001b[0m \u001b[32m━━━━━━━━━━━━━━━━━━━━\u001b[0m\u001b[37m\u001b[0m \u001b[1m822s\u001b[0m 918ms/step - accuracy: 0.9023 - loss: 1.1725 - val_accuracy: 0.9030 - val_loss: 1.1950\n",
      "Epoch 50/100\n",
      "\u001b[1m895/895\u001b[0m \u001b[32m━━━━━━━━━━━━━━━━━━━━\u001b[0m\u001b[37m\u001b[0m \u001b[1m0s\u001b[0m 505ms/step - accuracy: 0.9027 - loss: 1.1717\n",
      "Epoch 50: val_loss did not improve from 1.19503\n",
      "2025-10-24 01:12:44 - src.training.callbacks - INFO - Saved checkpoint at epoch 50: /kaggle/working/machine-learning-resource/artifacts/lstm/checkpoints/checkpoint_epoch_050.keras\n",
      "2025-10-24 01:12:45 - src.training.callbacks - INFO - GPU Memory: 15269/16384 MB (93.2%) | Peak: 15269 MB\n",
      "\u001b[1m895/895\u001b[0m \u001b[32m━━━━━━━━━━━━━━━━━━━━\u001b[0m\u001b[37m\u001b[0m \u001b[1m469s\u001b[0m 524ms/step - accuracy: 0.9027 - loss: 1.1717 - val_accuracy: 0.9029 - val_loss: 1.1952\n",
      "Epoch 51/100\n",
      "\u001b[1m895/895\u001b[0m \u001b[32m━━━━━━━━━━━━━━━━━━━━\u001b[0m\u001b[37m\u001b[0m \u001b[1m0s\u001b[0m 395ms/step - accuracy: 0.9029 - loss: 1.1697\n",
      "Epoch 51: val_loss improved from 1.19503 to 1.19326, saving model to /kaggle/working/machine-learning-resource/artifacts/lstm/checkpoints/best_model.keras\n",
      "2025-10-24 01:18:56 - src.training.callbacks - INFO - GPU Memory: 15269/16384 MB (93.2%) | Peak: 15269 MB\n",
      "\u001b[1m895/895\u001b[0m \u001b[32m━━━━━━━━━━━━━━━━━━━━\u001b[0m\u001b[37m\u001b[0m \u001b[1m371s\u001b[0m 414ms/step - accuracy: 0.9029 - loss: 1.1697 - val_accuracy: 0.9033 - val_loss: 1.1933\n",
      "Epoch 52/100\n",
      "\u001b[1m895/895\u001b[0m \u001b[32m━━━━━━━━━━━━━━━━━━━━\u001b[0m\u001b[37m\u001b[0m \u001b[1m0s\u001b[0m 394ms/step - accuracy: 0.9030 - loss: 1.1689\n",
      "Epoch 52: val_loss did not improve from 1.19326\n",
      "2025-10-24 01:25:05 - src.training.callbacks - INFO - GPU Memory: 15269/16384 MB (93.2%) | Peak: 15269 MB\n",
      "\u001b[1m895/895\u001b[0m \u001b[32m━━━━━━━━━━━━━━━━━━━━\u001b[0m\u001b[37m\u001b[0m \u001b[1m369s\u001b[0m 412ms/step - accuracy: 0.9030 - loss: 1.1689 - val_accuracy: 0.9036 - val_loss: 1.1944\n",
      "Epoch 53/100\n",
      "\u001b[1m895/895\u001b[0m \u001b[32m━━━━━━━━━━━━━━━━━━━━\u001b[0m\u001b[37m\u001b[0m \u001b[1m0s\u001b[0m 394ms/step - accuracy: 0.9034 - loss: 1.1676\n",
      "Epoch 53: val_loss improved from 1.19326 to 1.19323, saving model to /kaggle/working/machine-learning-resource/artifacts/lstm/checkpoints/best_model.keras\n",
      "2025-10-24 01:31:15 - src.training.callbacks - INFO - GPU Memory: 15269/16384 MB (93.2%) | Peak: 15269 MB\n",
      "\u001b[1m895/895\u001b[0m \u001b[32m━━━━━━━━━━━━━━━━━━━━\u001b[0m\u001b[37m\u001b[0m \u001b[1m370s\u001b[0m 413ms/step - accuracy: 0.9034 - loss: 1.1676 - val_accuracy: 0.9036 - val_loss: 1.1932\n",
      "Epoch 54/100\n",
      "\u001b[1m895/895\u001b[0m \u001b[32m━━━━━━━━━━━━━━━━━━━━\u001b[0m\u001b[37m\u001b[0m \u001b[1m0s\u001b[0m 395ms/step - accuracy: 0.9034 - loss: 1.1673\n",
      "Epoch 54: val_loss did not improve from 1.19323\n",
      "2025-10-24 01:37:25 - src.training.callbacks - INFO - GPU Memory: 15269/16384 MB (93.2%) | Peak: 15269 MB\n",
      "\u001b[1m895/895\u001b[0m \u001b[32m━━━━━━━━━━━━━━━━━━━━\u001b[0m\u001b[37m\u001b[0m \u001b[1m370s\u001b[0m 413ms/step - accuracy: 0.9034 - loss: 1.1673 - val_accuracy: 0.9034 - val_loss: 1.1933\n",
      "Epoch 55/100\n",
      "\u001b[1m895/895\u001b[0m \u001b[32m━━━━━━━━━━━━━━━━━━━━\u001b[0m\u001b[37m\u001b[0m \u001b[1m0s\u001b[0m 403ms/step - accuracy: 0.9039 - loss: 1.1651\n",
      "Epoch 55: val_loss improved from 1.19323 to 1.19232, saving model to /kaggle/working/machine-learning-resource/artifacts/lstm/checkpoints/best_model.keras\n",
      "2025-10-24 01:43:43 - src.training.callbacks - INFO - GPU Memory: 15269/16384 MB (93.2%) | Peak: 15269 MB\n",
      "\u001b[1m895/895\u001b[0m \u001b[32m━━━━━━━━━━━━━━━━━━━━\u001b[0m\u001b[37m\u001b[0m \u001b[1m378s\u001b[0m 423ms/step - accuracy: 0.9039 - loss: 1.1651 - val_accuracy: 0.9038 - val_loss: 1.1923\n",
      "Epoch 56/100\n",
      "\u001b[1m895/895\u001b[0m \u001b[32m━━━━━━━━━━━━━━━━━━━━\u001b[0m\u001b[37m\u001b[0m \u001b[1m0s\u001b[0m 396ms/step - accuracy: 0.9039 - loss: 1.1642\n",
      "Epoch 56: val_loss did not improve from 1.19232\n",
      "2025-10-24 01:49:54 - src.training.callbacks - INFO - GPU Memory: 15269/16384 MB (93.2%) | Peak: 15269 MB\n",
      "\u001b[1m895/895\u001b[0m \u001b[32m━━━━━━━━━━━━━━━━━━━━\u001b[0m\u001b[37m\u001b[0m \u001b[1m371s\u001b[0m 414ms/step - accuracy: 0.9039 - loss: 1.1642 - val_accuracy: 0.9037 - val_loss: 1.1926\n",
      "Epoch 57/100\n",
      "\u001b[1m895/895\u001b[0m \u001b[32m━━━━━━━━━━━━━━━━━━━━\u001b[0m\u001b[37m\u001b[0m \u001b[1m0s\u001b[0m 394ms/step - accuracy: 0.9039 - loss: 1.1645\n",
      "Epoch 57: val_loss did not improve from 1.19232\n",
      "2025-10-24 01:56:03 - src.training.callbacks - INFO - GPU Memory: 15269/16384 MB (93.2%) | Peak: 15269 MB\n",
      "\u001b[1m895/895\u001b[0m \u001b[32m━━━━━━━━━━━━━━━━━━━━\u001b[0m\u001b[37m\u001b[0m \u001b[1m369s\u001b[0m 412ms/step - accuracy: 0.9039 - loss: 1.1645 - val_accuracy: 0.9038 - val_loss: 1.1934\n",
      "Epoch 58/100\n",
      "\u001b[1m895/895\u001b[0m \u001b[32m━━━━━━━━━━━━━━━━━━━━\u001b[0m\u001b[37m\u001b[0m \u001b[1m0s\u001b[0m 394ms/step - accuracy: 0.9044 - loss: 1.1613\n",
      "Epoch 58: val_loss improved from 1.19232 to 1.19144, saving model to /kaggle/working/machine-learning-resource/artifacts/lstm/checkpoints/best_model.keras\n",
      "2025-10-24 02:02:13 - src.training.callbacks - INFO - GPU Memory: 15269/16384 MB (93.2%) | Peak: 15269 MB\n",
      "\u001b[1m895/895\u001b[0m \u001b[32m━━━━━━━━━━━━━━━━━━━━\u001b[0m\u001b[37m\u001b[0m \u001b[1m370s\u001b[0m 413ms/step - accuracy: 0.9044 - loss: 1.1613 - val_accuracy: 0.9038 - val_loss: 1.1914\n",
      "Epoch 59/100\n",
      "\u001b[1m895/895\u001b[0m \u001b[32m━━━━━━━━━━━━━━━━━━━━\u001b[0m\u001b[37m\u001b[0m \u001b[1m0s\u001b[0m 394ms/step - accuracy: 0.9044 - loss: 1.1615\n",
      "Epoch 59: val_loss did not improve from 1.19144\n",
      "2025-10-24 02:08:22 - src.training.callbacks - INFO - GPU Memory: 15269/16384 MB (93.2%) | Peak: 15269 MB\n",
      "\u001b[1m895/895\u001b[0m \u001b[32m━━━━━━━━━━━━━━━━━━━━\u001b[0m\u001b[37m\u001b[0m \u001b[1m369s\u001b[0m 412ms/step - accuracy: 0.9044 - loss: 1.1615 - val_accuracy: 0.9038 - val_loss: 1.1918\n",
      "Epoch 60/100\n",
      "\u001b[1m895/895\u001b[0m \u001b[32m━━━━━━━━━━━━━━━━━━━━\u001b[0m\u001b[37m\u001b[0m \u001b[1m0s\u001b[0m 394ms/step - accuracy: 0.9049 - loss: 1.1595\n",
      "Epoch 60: val_loss did not improve from 1.19144\n",
      "2025-10-24 02:14:30 - src.training.callbacks - INFO - Saved checkpoint at epoch 60: /kaggle/working/machine-learning-resource/artifacts/lstm/checkpoints/checkpoint_epoch_060.keras\n",
      "2025-10-24 02:14:32 - src.training.callbacks - INFO - GPU Memory: 15269/16384 MB (93.2%) | Peak: 15269 MB\n",
      "\u001b[1m895/895\u001b[0m \u001b[32m━━━━━━━━━━━━━━━━━━━━\u001b[0m\u001b[37m\u001b[0m \u001b[1m370s\u001b[0m 413ms/step - accuracy: 0.9049 - loss: 1.1595 - val_accuracy: 0.9039 - val_loss: 1.1916\n",
      "Epoch 61/100\n",
      "\u001b[1m895/895\u001b[0m \u001b[32m━━━━━━━━━━━━━━━━━━━━\u001b[0m\u001b[37m\u001b[0m \u001b[1m0s\u001b[0m 396ms/step - accuracy: 0.9050 - loss: 1.1585\n",
      "Epoch 61: val_loss improved from 1.19144 to 1.18986, saving model to /kaggle/working/machine-learning-resource/artifacts/lstm/checkpoints/best_model.keras\n",
      "2025-10-24 02:20:44 - src.training.callbacks - INFO - GPU Memory: 15269/16384 MB (93.2%) | Peak: 15269 MB\n",
      "\u001b[1m895/895\u001b[0m \u001b[32m━━━━━━━━━━━━━━━━━━━━\u001b[0m\u001b[37m\u001b[0m \u001b[1m372s\u001b[0m 416ms/step - accuracy: 0.9050 - loss: 1.1585 - val_accuracy: 0.9043 - val_loss: 1.1899\n",
      "Epoch 62/100\n",
      "\u001b[1m895/895\u001b[0m \u001b[32m━━━━━━━━━━━━━━━━━━━━\u001b[0m\u001b[37m\u001b[0m \u001b[1m0s\u001b[0m 415ms/step - accuracy: 0.9051 - loss: 1.1581\n",
      "Epoch 62: val_loss did not improve from 1.18986\n",
      "2025-10-24 02:27:11 - src.training.callbacks - INFO - GPU Memory: 15269/16384 MB (93.2%) | Peak: 15269 MB\n",
      "\u001b[1m895/895\u001b[0m \u001b[32m━━━━━━━━━━━━━━━━━━━━\u001b[0m\u001b[37m\u001b[0m \u001b[1m387s\u001b[0m 432ms/step - accuracy: 0.9051 - loss: 1.1581 - val_accuracy: 0.9042 - val_loss: 1.1902\n",
      "Epoch 63/100\n",
      "\u001b[1m895/895\u001b[0m \u001b[32m━━━━━━━━━━━━━━━━━━━━\u001b[0m\u001b[37m\u001b[0m \u001b[1m0s\u001b[0m 395ms/step - accuracy: 0.9053 - loss: 1.1571\n",
      "Epoch 63: val_loss improved from 1.18986 to 1.18859, saving model to /kaggle/working/machine-learning-resource/artifacts/lstm/checkpoints/best_model.keras\n",
      "2025-10-24 02:33:21 - src.training.callbacks - INFO - GPU Memory: 15269/16384 MB (93.2%) | Peak: 15269 MB\n",
      "\u001b[1m895/895\u001b[0m \u001b[32m━━━━━━━━━━━━━━━━━━━━\u001b[0m\u001b[37m\u001b[0m \u001b[1m370s\u001b[0m 414ms/step - accuracy: 0.9053 - loss: 1.1571 - val_accuracy: 0.9045 - val_loss: 1.1886\n",
      "Epoch 64/100\n",
      "\u001b[1m895/895\u001b[0m \u001b[32m━━━━━━━━━━━━━━━━━━━━\u001b[0m\u001b[37m\u001b[0m \u001b[1m0s\u001b[0m 392ms/step - accuracy: 0.9056 - loss: 1.1554\n",
      "Epoch 64: val_loss did not improve from 1.18859\n",
      "2025-10-24 02:39:28 - src.training.callbacks - INFO - GPU Memory: 15269/16384 MB (93.2%) | Peak: 15269 MB\n",
      "\u001b[1m895/895\u001b[0m \u001b[32m━━━━━━━━━━━━━━━━━━━━\u001b[0m\u001b[37m\u001b[0m \u001b[1m367s\u001b[0m 410ms/step - accuracy: 0.9056 - loss: 1.1554 - val_accuracy: 0.9045 - val_loss: 1.1896\n",
      "Epoch 65/100\n",
      "\u001b[1m895/895\u001b[0m \u001b[32m━━━━━━━━━━━━━━━━━━━━\u001b[0m\u001b[37m\u001b[0m \u001b[1m0s\u001b[0m 391ms/step - accuracy: 0.9059 - loss: 1.1540\n",
      "Epoch 65: val_loss did not improve from 1.18859\n",
      "2025-10-24 02:45:34 - src.training.callbacks - INFO - GPU Memory: 15269/16384 MB (93.2%) | Peak: 15269 MB\n",
      "\u001b[1m895/895\u001b[0m \u001b[32m━━━━━━━━━━━━━━━━━━━━\u001b[0m\u001b[37m\u001b[0m \u001b[1m366s\u001b[0m 409ms/step - accuracy: 0.9059 - loss: 1.1540 - val_accuracy: 0.9044 - val_loss: 1.1889\n",
      "Epoch 66/100\n",
      "\u001b[1m895/895\u001b[0m \u001b[32m━━━━━━━━━━━━━━━━━━━━\u001b[0m\u001b[37m\u001b[0m \u001b[1m0s\u001b[0m 390ms/step - accuracy: 0.9059 - loss: 1.1542\n",
      "Epoch 66: val_loss improved from 1.18859 to 1.18796, saving model to /kaggle/working/machine-learning-resource/artifacts/lstm/checkpoints/best_model.keras\n",
      "2025-10-24 02:51:40 - src.training.callbacks - INFO - GPU Memory: 15269/16384 MB (93.2%) | Peak: 15269 MB\n",
      "\u001b[1m895/895\u001b[0m \u001b[32m━━━━━━━━━━━━━━━━━━━━\u001b[0m\u001b[37m\u001b[0m \u001b[1m366s\u001b[0m 409ms/step - accuracy: 0.9059 - loss: 1.1542 - val_accuracy: 0.9045 - val_loss: 1.1880\n",
      "Epoch 67/100\n",
      "\u001b[1m895/895\u001b[0m \u001b[32m━━━━━━━━━━━━━━━━━━━━\u001b[0m\u001b[37m\u001b[0m \u001b[1m0s\u001b[0m 392ms/step - accuracy: 0.9062 - loss: 1.1525\n",
      "Epoch 67: val_loss improved from 1.18796 to 1.18712, saving model to /kaggle/working/machine-learning-resource/artifacts/lstm/checkpoints/best_model.keras\n",
      "2025-10-24 02:57:48 - src.training.callbacks - INFO - GPU Memory: 15269/16384 MB (93.2%) | Peak: 15269 MB\n",
      "\u001b[1m895/895\u001b[0m \u001b[32m━━━━━━━━━━━━━━━━━━━━\u001b[0m\u001b[37m\u001b[0m \u001b[1m368s\u001b[0m 411ms/step - accuracy: 0.9062 - loss: 1.1525 - val_accuracy: 0.9046 - val_loss: 1.1871\n",
      "Epoch 68/100\n",
      "\u001b[1m895/895\u001b[0m \u001b[32m━━━━━━━━━━━━━━━━━━━━\u001b[0m\u001b[37m\u001b[0m \u001b[1m0s\u001b[0m 392ms/step - accuracy: 0.9064 - loss: 1.1519\n",
      "Epoch 68: val_loss did not improve from 1.18712\n",
      "2025-10-24 03:03:55 - src.training.callbacks - INFO - GPU Memory: 15269/16384 MB (93.2%) | Peak: 15269 MB\n",
      "\u001b[1m895/895\u001b[0m \u001b[32m━━━━━━━━━━━━━━━━━━━━\u001b[0m\u001b[37m\u001b[0m \u001b[1m367s\u001b[0m 410ms/step - accuracy: 0.9064 - loss: 1.1519 - val_accuracy: 0.9048 - val_loss: 1.1872\n",
      "Epoch 69/100\n",
      "\u001b[1m895/895\u001b[0m \u001b[32m━━━━━━━━━━━━━━━━━━━━\u001b[0m\u001b[37m\u001b[0m \u001b[1m0s\u001b[0m 392ms/step - accuracy: 0.9065 - loss: 1.1512\n",
      "Epoch 69: val_loss improved from 1.18712 to 1.18622, saving model to /kaggle/working/machine-learning-resource/artifacts/lstm/checkpoints/best_model.keras\n",
      "2025-10-24 03:10:02 - src.training.callbacks - INFO - GPU Memory: 15269/16384 MB (93.2%) | Peak: 15269 MB\n",
      "\u001b[1m895/895\u001b[0m \u001b[32m━━━━━━━━━━━━━━━━━━━━\u001b[0m\u001b[37m\u001b[0m \u001b[1m367s\u001b[0m 410ms/step - accuracy: 0.9065 - loss: 1.1512 - val_accuracy: 0.9048 - val_loss: 1.1862\n",
      "Epoch 70/100\n",
      "\u001b[1m895/895\u001b[0m \u001b[32m━━━━━━━━━━━━━━━━━━━━\u001b[0m\u001b[37m\u001b[0m \u001b[1m0s\u001b[0m 392ms/step - accuracy: 0.9066 - loss: 1.1505\n",
      "Epoch 70: val_loss did not improve from 1.18622\n",
      "2025-10-24 03:16:08 - src.training.callbacks - INFO - Saved checkpoint at epoch 70: /kaggle/working/machine-learning-resource/artifacts/lstm/checkpoints/checkpoint_epoch_070.keras\n",
      "2025-10-24 03:16:10 - src.training.callbacks - INFO - GPU Memory: 15269/16384 MB (93.2%) | Peak: 15269 MB\n",
      "\u001b[1m895/895\u001b[0m \u001b[32m━━━━━━━━━━━━━━━━━━━━\u001b[0m\u001b[37m\u001b[0m \u001b[1m368s\u001b[0m 411ms/step - accuracy: 0.9066 - loss: 1.1505 - val_accuracy: 0.9048 - val_loss: 1.1869\n",
      "Epoch 71/100\n",
      "\u001b[1m895/895\u001b[0m \u001b[32m━━━━━━━━━━━━━━━━━━━━\u001b[0m\u001b[37m\u001b[0m \u001b[1m0s\u001b[0m 392ms/step - accuracy: 0.9066 - loss: 1.1496\n",
      "Epoch 71: val_loss did not improve from 1.18622\n",
      "2025-10-24 03:22:18 - src.training.callbacks - INFO - GPU Memory: 15269/16384 MB (93.2%) | Peak: 15269 MB\n",
      "\u001b[1m895/895\u001b[0m \u001b[32m━━━━━━━━━━━━━━━━━━━━\u001b[0m\u001b[37m\u001b[0m \u001b[1m367s\u001b[0m 411ms/step - accuracy: 0.9066 - loss: 1.1496 - val_accuracy: 0.9049 - val_loss: 1.1865\n",
      "Epoch 72/100\n",
      "\u001b[1m895/895\u001b[0m \u001b[32m━━━━━━━━━━━━━━━━━━━━\u001b[0m\u001b[37m\u001b[0m \u001b[1m0s\u001b[0m 392ms/step - accuracy: 0.9071 - loss: 1.1476\n",
      "Epoch 72: val_loss improved from 1.18622 to 1.18583, saving model to /kaggle/working/machine-learning-resource/artifacts/lstm/checkpoints/best_model.keras\n",
      "2025-10-24 03:28:25 - src.training.callbacks - INFO - GPU Memory: 15269/16384 MB (93.2%) | Peak: 15269 MB\n",
      "\u001b[1m895/895\u001b[0m \u001b[32m━━━━━━━━━━━━━━━━━━━━\u001b[0m\u001b[37m\u001b[0m \u001b[1m368s\u001b[0m 411ms/step - accuracy: 0.9071 - loss: 1.1476 - val_accuracy: 0.9050 - val_loss: 1.1858\n",
      "Epoch 73/100\n",
      "\u001b[1m895/895\u001b[0m \u001b[32m━━━━━━━━━━━━━━━━━━━━\u001b[0m\u001b[37m\u001b[0m \u001b[1m0s\u001b[0m 397ms/step - accuracy: 0.9073 - loss: 1.1475\n",
      "Epoch 73: val_loss did not improve from 1.18583\n",
      "2025-10-24 03:34:37 - src.training.callbacks - INFO - GPU Memory: 15269/16384 MB (93.2%) | Peak: 15269 MB\n",
      "\u001b[1m895/895\u001b[0m \u001b[32m━━━━━━━━━━━━━━━━━━━━\u001b[0m\u001b[37m\u001b[0m \u001b[1m371s\u001b[0m 415ms/step - accuracy: 0.9073 - loss: 1.1475 - val_accuracy: 0.9049 - val_loss: 1.1865\n",
      "Epoch 74/100\n",
      "\u001b[1m895/895\u001b[0m \u001b[32m━━━━━━━━━━━━━━━━━━━━\u001b[0m\u001b[37m\u001b[0m \u001b[1m0s\u001b[0m 393ms/step - accuracy: 0.9073 - loss: 1.1466\n",
      "Epoch 74: val_loss did not improve from 1.18583\n",
      "2025-10-24 03:40:45 - src.training.callbacks - INFO - GPU Memory: 15269/16384 MB (93.2%) | Peak: 15269 MB\n",
      "\u001b[1m895/895\u001b[0m \u001b[32m━━━━━━━━━━━━━━━━━━━━\u001b[0m\u001b[37m\u001b[0m \u001b[1m368s\u001b[0m 412ms/step - accuracy: 0.9073 - loss: 1.1466 - val_accuracy: 0.9052 - val_loss: 1.1863\n",
      "Epoch 75/100\n",
      "\u001b[1m895/895\u001b[0m \u001b[32m━━━━━━━━━━━━━━━━━━━━\u001b[0m\u001b[37m\u001b[0m \u001b[1m0s\u001b[0m 398ms/step - accuracy: 0.9074 - loss: 1.1464\n",
      "Epoch 75: val_loss did not improve from 1.18583\n",
      "2025-10-24 03:46:57 - src.training.callbacks - INFO - GPU Memory: 15269/16384 MB (93.2%) | Peak: 15269 MB\n",
      "\u001b[1m895/895\u001b[0m \u001b[32m━━━━━━━━━━━━━━━━━━━━\u001b[0m\u001b[37m\u001b[0m \u001b[1m372s\u001b[0m 416ms/step - accuracy: 0.9074 - loss: 1.1464 - val_accuracy: 0.9052 - val_loss: 1.1859\n",
      "Epoch 76/100\n",
      "\u001b[1m895/895\u001b[0m \u001b[32m━━━━━━━━━━━━━━━━━━━━\u001b[0m\u001b[37m\u001b[0m \u001b[1m0s\u001b[0m 399ms/step - accuracy: 0.9078 - loss: 1.1446\n",
      "Epoch 76: val_loss improved from 1.18583 to 1.18539, saving model to /kaggle/working/machine-learning-resource/artifacts/lstm/checkpoints/best_model.keras\n",
      "2025-10-24 03:53:11 - src.training.callbacks - INFO - GPU Memory: 15269/16384 MB (93.2%) | Peak: 15269 MB\n",
      "\u001b[1m895/895\u001b[0m \u001b[32m━━━━━━━━━━━━━━━━━━━━\u001b[0m\u001b[37m\u001b[0m \u001b[1m374s\u001b[0m 418ms/step - accuracy: 0.9078 - loss: 1.1446 - val_accuracy: 0.9054 - val_loss: 1.1854\n",
      "Epoch 77/100\n",
      "\u001b[1m895/895\u001b[0m \u001b[32m━━━━━━━━━━━━━━━━━━━━\u001b[0m\u001b[37m\u001b[0m \u001b[1m0s\u001b[0m 395ms/step - accuracy: 0.9080 - loss: 1.1446\n",
      "Epoch 77: val_loss did not improve from 1.18539\n",
      "2025-10-24 03:59:21 - src.training.callbacks - INFO - GPU Memory: 15269/16384 MB (93.2%) | Peak: 15269 MB\n",
      "\u001b[1m895/895\u001b[0m \u001b[32m━━━━━━━━━━━━━━━━━━━━\u001b[0m\u001b[37m\u001b[0m \u001b[1m370s\u001b[0m 413ms/step - accuracy: 0.9080 - loss: 1.1446 - val_accuracy: 0.9053 - val_loss: 1.1863\n",
      "Epoch 78/100\n",
      "\u001b[1m895/895\u001b[0m \u001b[32m━━━━━━━━━━━━━━━━━━━━\u001b[0m\u001b[37m\u001b[0m \u001b[1m0s\u001b[0m 398ms/step - accuracy: 0.9083 - loss: 1.1431\n",
      "Epoch 78: val_loss improved from 1.18539 to 1.18528, saving model to /kaggle/working/machine-learning-resource/artifacts/lstm/checkpoints/best_model.keras\n",
      "2025-10-24 04:05:34 - src.training.callbacks - INFO - GPU Memory: 15269/16384 MB (93.2%) | Peak: 15269 MB\n",
      "\u001b[1m895/895\u001b[0m \u001b[32m━━━━━━━━━━━━━━━━━━━━\u001b[0m\u001b[37m\u001b[0m \u001b[1m373s\u001b[0m 417ms/step - accuracy: 0.9083 - loss: 1.1431 - val_accuracy: 0.9053 - val_loss: 1.1853\n",
      "Epoch 79/100\n",
      "\u001b[1m895/895\u001b[0m \u001b[32m━━━━━━━━━━━━━━━━━━━━\u001b[0m\u001b[37m\u001b[0m \u001b[1m0s\u001b[0m 396ms/step - accuracy: 0.9082 - loss: 1.1431\n",
      "Epoch 79: val_loss improved from 1.18528 to 1.18457, saving model to /kaggle/working/machine-learning-resource/artifacts/lstm/checkpoints/best_model.keras\n",
      "2025-10-24 04:11:46 - src.training.callbacks - INFO - GPU Memory: 15269/16384 MB (93.2%) | Peak: 15269 MB\n",
      "\u001b[1m895/895\u001b[0m \u001b[32m━━━━━━━━━━━━━━━━━━━━\u001b[0m\u001b[37m\u001b[0m \u001b[1m372s\u001b[0m 415ms/step - accuracy: 0.9082 - loss: 1.1431 - val_accuracy: 0.9054 - val_loss: 1.1846\n",
      "Epoch 80/100\n",
      "\u001b[1m895/895\u001b[0m \u001b[32m━━━━━━━━━━━━━━━━━━━━\u001b[0m\u001b[37m\u001b[0m \u001b[1m0s\u001b[0m 398ms/step - accuracy: 0.9086 - loss: 1.1414\n",
      "Epoch 80: val_loss improved from 1.18457 to 1.18443, saving model to /kaggle/working/machine-learning-resource/artifacts/lstm/checkpoints/best_model.keras\n",
      "2025-10-24 04:17:58 - src.training.callbacks - INFO - Saved checkpoint at epoch 80: /kaggle/working/machine-learning-resource/artifacts/lstm/checkpoints/checkpoint_epoch_080.keras\n",
      "2025-10-24 04:18:00 - src.training.callbacks - INFO - GPU Memory: 15269/16384 MB (93.2%) | Peak: 15269 MB\n",
      "\u001b[1m895/895\u001b[0m \u001b[32m━━━━━━━━━━━━━━━━━━━━\u001b[0m\u001b[37m\u001b[0m \u001b[1m374s\u001b[0m 418ms/step - accuracy: 0.9086 - loss: 1.1414 - val_accuracy: 0.9054 - val_loss: 1.1844\n",
      "Epoch 81/100\n",
      "\u001b[1m895/895\u001b[0m \u001b[32m━━━━━━━━━━━━━━━━━━━━\u001b[0m\u001b[37m\u001b[0m \u001b[1m0s\u001b[0m 397ms/step - accuracy: 0.9085 - loss: 1.1408\n",
      "Epoch 81: val_loss improved from 1.18443 to 1.18430, saving model to /kaggle/working/machine-learning-resource/artifacts/lstm/checkpoints/best_model.keras\n",
      "2025-10-24 04:24:12 - src.training.callbacks - INFO - GPU Memory: 15269/16384 MB (93.2%) | Peak: 15269 MB\n",
      "\u001b[1m895/895\u001b[0m \u001b[32m━━━━━━━━━━━━━━━━━━━━\u001b[0m\u001b[37m\u001b[0m \u001b[1m372s\u001b[0m 416ms/step - accuracy: 0.9085 - loss: 1.1408 - val_accuracy: 0.9057 - val_loss: 1.1843\n",
      "Epoch 82/100\n",
      "\u001b[1m895/895\u001b[0m \u001b[32m━━━━━━━━━━━━━━━━━━━━\u001b[0m\u001b[37m\u001b[0m \u001b[1m0s\u001b[0m 397ms/step - accuracy: 0.9086 - loss: 1.1415\n",
      "Epoch 82: val_loss improved from 1.18430 to 1.18401, saving model to /kaggle/working/machine-learning-resource/artifacts/lstm/checkpoints/best_model.keras\n",
      "2025-10-24 04:30:25 - src.training.callbacks - INFO - GPU Memory: 15269/16384 MB (93.2%) | Peak: 15269 MB\n",
      "\u001b[1m895/895\u001b[0m \u001b[32m━━━━━━━━━━━━━━━━━━━━\u001b[0m\u001b[37m\u001b[0m \u001b[1m372s\u001b[0m 416ms/step - accuracy: 0.9086 - loss: 1.1415 - val_accuracy: 0.9056 - val_loss: 1.1840\n",
      "Epoch 83/100\n",
      "\u001b[1m895/895\u001b[0m \u001b[32m━━━━━━━━━━━━━━━━━━━━\u001b[0m\u001b[37m\u001b[0m \u001b[1m0s\u001b[0m 397ms/step - accuracy: 0.9089 - loss: 1.1402\n",
      "Epoch 83: val_loss did not improve from 1.18401\n",
      "2025-10-24 04:36:37 - src.training.callbacks - INFO - GPU Memory: 15269/16384 MB (93.2%) | Peak: 15269 MB\n",
      "\u001b[1m895/895\u001b[0m \u001b[32m━━━━━━━━━━━━━━━━━━━━\u001b[0m\u001b[37m\u001b[0m \u001b[1m372s\u001b[0m 416ms/step - accuracy: 0.9089 - loss: 1.1402 - val_accuracy: 0.9054 - val_loss: 1.1852\n",
      "Epoch 84/100\n",
      "\u001b[1m895/895\u001b[0m \u001b[32m━━━━━━━━━━━━━━━━━━━━\u001b[0m\u001b[37m\u001b[0m \u001b[1m0s\u001b[0m 401ms/step - accuracy: 0.9090 - loss: 1.1398\n",
      "Epoch 84: val_loss did not improve from 1.18401\n",
      "2025-10-24 04:42:51 - src.training.callbacks - INFO - GPU Memory: 15269/16384 MB (93.2%) | Peak: 15269 MB\n",
      "\u001b[1m895/895\u001b[0m \u001b[32m━━━━━━━━━━━━━━━━━━━━\u001b[0m\u001b[37m\u001b[0m \u001b[1m375s\u001b[0m 419ms/step - accuracy: 0.9090 - loss: 1.1398 - val_accuracy: 0.9056 - val_loss: 1.1849\n",
      "Epoch 85/100\n",
      "\u001b[1m895/895\u001b[0m \u001b[32m━━━━━━━━━━━━━━━━━━━━\u001b[0m\u001b[37m\u001b[0m \u001b[1m0s\u001b[0m 400ms/step - accuracy: 0.9091 - loss: 1.1393\n",
      "Epoch 85: val_loss did not improve from 1.18401\n",
      "2025-10-24 04:49:05 - src.training.callbacks - INFO - GPU Memory: 15269/16384 MB (93.2%) | Peak: 15269 MB\n",
      "\u001b[1m895/895\u001b[0m \u001b[32m━━━━━━━━━━━━━━━━━━━━\u001b[0m\u001b[37m\u001b[0m \u001b[1m374s\u001b[0m 418ms/step - accuracy: 0.9091 - loss: 1.1393 - val_accuracy: 0.9057 - val_loss: 1.1852\n",
      "Epoch 86/100\n",
      "\u001b[1m895/895\u001b[0m \u001b[32m━━━━━━━━━━━━━━━━━━━━\u001b[0m\u001b[37m\u001b[0m \u001b[1m0s\u001b[0m 401ms/step - accuracy: 0.9091 - loss: 1.1392\n",
      "Epoch 86: val_loss did not improve from 1.18401\n",
      "2025-10-24 04:55:21 - src.training.callbacks - INFO - GPU Memory: 15269/16384 MB (93.2%) | Peak: 15269 MB\n",
      "\u001b[1m895/895\u001b[0m \u001b[32m━━━━━━━━━━━━━━━━━━━━\u001b[0m\u001b[37m\u001b[0m \u001b[1m375s\u001b[0m 419ms/step - accuracy: 0.9091 - loss: 1.1392 - val_accuracy: 0.9056 - val_loss: 1.1855\n",
      "Epoch 87/100\n",
      "\u001b[1m895/895\u001b[0m \u001b[32m━━━━━━━━━━━━━━━━━━━━\u001b[0m\u001b[37m\u001b[0m \u001b[1m0s\u001b[0m 398ms/step - accuracy: 0.9093 - loss: 1.1385\n",
      "Epoch 87: val_loss did not improve from 1.18401\n",
      "2025-10-24 05:01:33 - src.training.callbacks - INFO - GPU Memory: 15269/16384 MB (93.2%) | Peak: 15269 MB\n",
      "\u001b[1m895/895\u001b[0m \u001b[32m━━━━━━━━━━━━━━━━━━━━\u001b[0m\u001b[37m\u001b[0m \u001b[1m373s\u001b[0m 416ms/step - accuracy: 0.9093 - loss: 1.1385 - val_accuracy: 0.9056 - val_loss: 1.1859\n",
      "Epoch 87: early stopping\n",
      "Restoring model weights from the end of the best epoch: 82.\n",
      "2025-10-24 05:01:33 - lstm_attention - INFO - Training completed in 10.21 hours\n"
     ]
    }
   ],
   "source": [
    "model_name = \"lstm\"\n",
    "\n",
    "lstm_trainer = ModelTrainer(\n",
    "    model=lstm_model,\n",
    "    config=Config,\n",
    "    model_name=model_name,\n",
    "    logger_name=\"lstm_attention\",\n",
    "    logger_file=f\"{Config.LOG_DIR}/lstm_attention.log\"\n",
    ")\n",
    "\n",
    "lstm_history = lstm_trainer.train(\n",
    "    train_data=(en_train, vi_in_train, vi_out_train),\n",
    "    val_data=(en_val, vi_in_val, vi_out_val),\n",
    "    resume=True\n",
    ")"
   ]
  },
  {
   "cell_type": "code",
   "execution_count": 17,
   "id": "926e16eb",
   "metadata": {
    "execution": {
     "iopub.execute_input": "2025-10-24T05:01:41.503850Z",
     "iopub.status.busy": "2025-10-24T05:01:41.503126Z",
     "iopub.status.idle": "2025-10-24T05:01:42.297356Z",
     "shell.execute_reply": "2025-10-24T05:01:42.296604Z"
    },
    "papermill": {
     "duration": 4.749009,
     "end_time": "2025-10-24T05:01:42.298904",
     "exception": false,
     "start_time": "2025-10-24T05:01:37.549895",
     "status": "completed"
    },
    "tags": []
   },
   "outputs": [
    {
     "name": "stdout",
     "output_type": "stream",
     "text": [
      "2025-10-24 05:01:42 - lstm_attention - INFO - Model saved to .../artifacts/lstm/final_lstm_model.keras\n"
     ]
    }
   ],
   "source": [
    "# Save\n",
    "model_path = f\"{Config.ARTIFACT_PATH}/{model_name}\"\n",
    "os.makedirs(model_path, exist_ok=True)\n",
    "lstm_trainer.save_model(f\"{model_path}/final_lstm_model.keras\")"
   ]
  },
  {
   "cell_type": "markdown",
   "id": "85cbff90",
   "metadata": {
    "papermill": {
     "duration": 3.856332,
     "end_time": "2025-10-24T05:01:49.939848",
     "exception": false,
     "start_time": "2025-10-24T05:01:46.083516",
     "status": "completed"
    },
    "tags": []
   },
   "source": [
    "## **8. Compare Results**"
   ]
  },
  {
   "cell_type": "code",
   "execution_count": 18,
   "id": "413125b1",
   "metadata": {
    "execution": {
     "iopub.execute_input": "2025-10-24T05:01:57.525359Z",
     "iopub.status.busy": "2025-10-24T05:01:57.524783Z",
     "iopub.status.idle": "2025-10-24T05:01:58.519402Z",
     "shell.execute_reply": "2025-10-24T05:01:58.518675Z"
    },
    "papermill": {
     "duration": 4.885458,
     "end_time": "2025-10-24T05:01:58.520883",
     "exception": false,
     "start_time": "2025-10-24T05:01:53.635425",
     "status": "completed"
    },
    "tags": []
   },
   "outputs": [
    {
     "data": {
      "image/png": "[encoded data removed]",
      "text/plain": [
       "<Figure size 1400x500 with 2 Axes>"
      ]
     },
     "metadata": {},
     "output_type": "display_data"
    }
   ],
   "source": [
    "fig, axes = plt.subplots(1, 2, figsize=(14, 5))\n",
    "\n",
    "# Loss\n",
    "axes[0].plot(bilstm_history.history['loss'], label='BiLSTM Train')\n",
    "axes[0].plot(bilstm_history.history['val_loss'], label='BiLSTM Val')\n",
    "axes[0].plot(lstm_history.history['loss'], label='LSTM Train', linestyle='--')\n",
    "axes[0].plot(lstm_history.history['val_loss'], label='LSTM Val', linestyle='--')\n",
    "axes[0].set_title('Model Loss Comparison')\n",
    "axes[0].set_xlabel('Epoch')\n",
    "axes[0].set_ylabel('Loss')\n",
    "axes[0].legend()\n",
    "axes[0].grid(True, alpha=0.3)\n",
    "\n",
    "# Accuracy\n",
    "axes[1].plot(bilstm_history.history['accuracy'], label='BiLSTM Train')\n",
    "axes[1].plot(bilstm_history.history['val_accuracy'], label='BiLSTM Val')\n",
    "axes[1].plot(lstm_history.history['accuracy'], label='LSTM Train', linestyle='--')\n",
    "axes[1].plot(lstm_history.history['val_accuracy'], label='LSTM Val', linestyle='--')\n",
    "axes[1].set_title('Model Accuracy Comparison')\n",
    "axes[1].set_xlabel('Epoch')\n",
    "axes[1].set_ylabel('Accuracy')\n",
    "axes[1].legend()\n",
    "axes[1].grid(True, alpha=0.3)\n",
    "\n",
    "plt.tight_layout()\n",
    "\n",
    "# Save figure\n",
    "os.makedirs(Config.ASSETS_PATH, exist_ok=True)\n",
    "plt.savefig(f\"{Config.ASSETS_PATH}/comparison.png\", dpi=300)\n",
    "plt.show()"
   ]
  },
  {
   "cell_type": "code",
   "execution_count": 19,
   "id": "bbe6bd24",
   "metadata": {
    "execution": {
     "iopub.execute_input": "2025-10-24T05:02:06.147300Z",
     "iopub.status.busy": "2025-10-24T05:02:06.146573Z",
     "iopub.status.idle": "2025-10-24T05:02:06.151417Z",
     "shell.execute_reply": "2025-10-24T05:02:06.150738Z"
    },
    "papermill": {
     "duration": 3.907258,
     "end_time": "2025-10-24T05:02:06.152663",
     "exception": false,
     "start_time": "2025-10-24T05:02:02.245405",
     "status": "completed"
    },
    "tags": []
   },
   "outputs": [
    {
     "name": "stdout",
     "output_type": "stream",
     "text": [
      "BiLSTM - Final Val Loss: 1.1470\n",
      "LSTM - Final Val Loss: 1.1859\n"
     ]
    }
   ],
   "source": [
    "print(f\"BiLSTM - Final Val Loss: {bilstm_history.history['val_loss'][-1]:.4f}\")\n",
    "print(f\"LSTM - Final Val Loss: {lstm_history.history['val_loss'][-1]:.4f}\")"
   ]
  }
 ],
 "metadata": {
  "kaggle": {
   "accelerator": "gpu",
   "dataSources": [
    {
     "datasetId": 8552772,
     "sourceId": 13472952,
     "sourceType": "datasetVersion"
    },
    {
     "sourceId": 270157536,
     "sourceType": "kernelVersion"
    }
   ],
   "dockerImageVersionId": 31154,
   "isGpuEnabled": true,
   "isInternetEnabled": true,
   "language": "python",
   "sourceType": "notebook"
  },
  "kernelspec": {
   "display_name": ".venv",
   "language": "python",
   "name": "python3"
  },
  "language_info": {
   "codemirror_mode": {
    "name": "ipython",
    "version": 3
   },
   "file_extension": ".py",
   "mimetype": "text/x-python",
   "name": "python",
   "nbconvert_exporter": "python",
   "pygments_lexer": "ipython3",
   "version": "3.12.3"
  },
  "papermill": {
   "default_parameters": {},
   "duration": 40209.900804,
   "end_time": "2025-10-24T05:02:13.307421",
   "environment_variables": {},
   "exception": null,
   "input_path": "__notebook__.ipynb",
   "output_path": "__notebook__.ipynb",
   "parameters": {},
   "start_time": "2025-10-23T17:52:03.406617",
   "version": "2.6.0"
  }
 },
 "nbformat": 4,
 "nbformat_minor": 5
}
