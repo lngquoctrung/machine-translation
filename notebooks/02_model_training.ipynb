{
 "cells": [
  {
   "cell_type": "code",
   "execution_count": null,
   "id": "11582230",
   "metadata": {
    "execution": {
     "iopub.execute_input": "2025-10-21T19:20:54.753492Z",
     "iopub.status.busy": "2025-10-21T19:20:54.753281Z",
     "iopub.status.idle": "2025-10-21T19:21:00.845467Z",
     "shell.execute_reply": "2025-10-21T19:21:00.844661Z"
    },
    "papermill": {
     "duration": 6.098596,
     "end_time": "2025-10-21T19:21:00.846906",
     "exception": false,
     "start_time": "2025-10-21T19:20:54.748310",
     "status": "completed"
    },
    "tags": []
   },
   "outputs": [],
   "source": [
    "!pip install GPUtil contractions"
   ]
  },
  {
   "cell_type": "code",
   "execution_count": null,
   "id": "a2237ffc",
   "metadata": {
    "execution": {
     "iopub.execute_input": "2025-10-21T19:21:00.855353Z",
     "iopub.status.busy": "2025-10-21T19:21:00.855112Z",
     "iopub.status.idle": "2025-10-21T19:21:01.576385Z",
     "shell.execute_reply": "2025-10-21T19:21:01.575564Z"
    },
    "papermill": {
     "duration": 0.72705,
     "end_time": "2025-10-21T19:21:01.577802",
     "exception": false,
     "start_time": "2025-10-21T19:21:00.850752",
     "status": "completed"
    },
    "tags": []
   },
   "outputs": [],
   "source": [
    "# ===== Set up project ======\n",
    "import os\n",
    "import shutil\n",
    "\n",
    "# Copy source code to working directory\n",
    "src_path = r\"/kaggle/input/machine-translation/\"\n",
    "dst_path = r\"/kaggle/working/machine-translation/\"\n",
    "\n",
    "shutil.copytree(src_path, dst_path, dirs_exist_ok=True)"
   ]
  },
  {
   "cell_type": "code",
   "execution_count": null,
   "id": "2875a57e",
   "metadata": {
    "execution": {
     "iopub.execute_input": "2025-10-21T19:21:01.599812Z",
     "iopub.status.busy": "2025-10-21T19:21:01.599318Z",
     "iopub.status.idle": "2025-10-21T19:21:01.603137Z",
     "shell.execute_reply": "2025-10-21T19:21:01.602562Z"
    },
    "papermill": {
     "duration": 0.013528,
     "end_time": "2025-10-21T19:21:01.604177",
     "exception": false,
     "start_time": "2025-10-21T19:21:01.590649",
     "status": "completed"
    },
    "tags": []
   },
   "outputs": [],
   "source": [
    "# Add root directory to PYTHON path\n",
    "import sys\n",
    "from pathlib import Path\n",
    "\n",
    "# === LOCAL ===\n",
    "# root_dir = str(Path.cwd().parent.parent.absolute())\n",
    "# if not root_dir in sys.path:\n",
    "#     sys.path.insert(0, root_dir)\n",
    "\n",
    "# === KAGGLE ===\n",
    "root_dir = \"/kaggle/working/machine-translation\"\n",
    "if not root_dir in sys.path:\n",
    "    sys.path.insert(0, root_dir)"
   ]
  },
  {
   "cell_type": "markdown",
   "id": "5ff47784",
   "metadata": {
    "papermill": {
     "duration": 0.003214,
     "end_time": "2025-10-21T19:21:01.610840",
     "exception": false,
     "start_time": "2025-10-21T19:21:01.607626",
     "status": "completed"
    },
    "tags": []
   },
   "source": [
    "# **Model Training - LSTM & BiLSTM**"
   ]
  },
  {
   "cell_type": "code",
   "execution_count": null,
   "id": "559f564c",
   "metadata": {
    "execution": {
     "iopub.execute_input": "2025-10-21T19:21:01.618469Z",
     "iopub.status.busy": "2025-10-21T19:21:01.618093Z",
     "iopub.status.idle": "2025-10-21T19:21:17.524311Z",
     "shell.execute_reply": "2025-10-21T19:21:17.523722Z"
    },
    "papermill": {
     "duration": 15.911443,
     "end_time": "2025-10-21T19:21:17.525620",
     "exception": false,
     "start_time": "2025-10-21T19:21:01.614177",
     "status": "completed"
    },
    "tags": []
   },
   "outputs": [],
   "source": [
    "import pandas as pd\n",
    "import matplotlib.pyplot as plt\n",
    "\n",
    "from config import Config\n",
    "from src.utils.gpu_utils import GPUMemoryManager\n",
    "from src.data.preprocessing import DataPreprocessor\n",
    "from src.models.bilstm_attention import BiLSTMAttentionModel\n",
    "from src.models.lstm_attention import LSTMAttentionModel\n",
    "from src.training.trainer import ModelTrainer\n",
    "from src.utils.helpers import save_tokenizer"
   ]
  },
  {
   "cell_type": "code",
   "execution_count": null,
   "id": "d4051b33",
   "metadata": {
    "execution": {
     "iopub.execute_input": "2025-10-21T19:21:17.533882Z",
     "iopub.status.busy": "2025-10-21T19:21:17.533436Z",
     "iopub.status.idle": "2025-10-21T19:21:17.538564Z",
     "shell.execute_reply": "2025-10-21T19:21:17.537965Z"
    },
    "papermill": {
     "duration": 0.010244,
     "end_time": "2025-10-21T19:21:17.539566",
     "exception": false,
     "start_time": "2025-10-21T19:21:17.529322",
     "status": "completed"
    },
    "tags": []
   },
   "outputs": [],
   "source": [
    "# Copy outputs from previous version to working directory \n",
    "# (Used to continue training the model if the allowed session runs out)\n",
    "input_dirs = [\n",
    "    d for d in os.listdir('/kaggle/input/') if 'machine-translation-project' in d\n",
    "]\n",
    "\n",
    "if input_dirs:\n",
    "    input_dir = f\"/kaggle/input/{input_dirs[0]}/machine-translation/\"\n",
    "    work_dir = \"/kaggle/working/machine-translation/\"\n",
    "    \n",
    "    os.makedirs(input_dir, exist_ok=True)\n",
    "    shutil.copytree(\n",
    "        input_dir, \n",
    "        work_dir, \n",
    "        ignore=shutil.ignore_patterns(\"src\"), \n",
    "        dirs_exist_ok=True\n",
    "    )\n",
    "    \n",
    "    print(\"Loaded outputs from previous version\")\n",
    "else:\n",
    "    print(\"No previous outputs found. Starting fresh.\")"
   ]
  },
  {
   "cell_type": "markdown",
   "id": "06901aa2",
   "metadata": {
    "papermill": {
     "duration": 0.003238,
     "end_time": "2025-10-21T19:21:17.546330",
     "exception": false,
     "start_time": "2025-10-21T19:21:17.543092",
     "status": "completed"
    },
    "tags": []
   },
   "source": [
    "## **1. GPU Setup**"
   ]
  },
  {
   "cell_type": "code",
   "execution_count": null,
   "id": "8081717e",
   "metadata": {
    "ExecuteTime": {
     "end_time": "2025-10-19T09:40:54.821626Z",
     "start_time": "2025-10-19T09:40:54.388049Z"
    },
    "execution": {
     "iopub.execute_input": "2025-10-21T19:21:17.554200Z",
     "iopub.status.busy": "2025-10-21T19:21:17.553695Z",
     "iopub.status.idle": "2025-10-21T19:21:18.594108Z",
     "shell.execute_reply": "2025-10-21T19:21:18.593317Z"
    },
    "papermill": {
     "duration": 1.045437,
     "end_time": "2025-10-21T19:21:18.595186",
     "exception": false,
     "start_time": "2025-10-21T19:21:17.549749",
     "status": "completed"
    },
    "tags": []
   },
   "outputs": [],
   "source": [
    "GPUMemoryManager.clear_session()\n",
    "GPUMemoryManager.setup_gpu(\n",
    "    memory_limit_mb=Config.GPU_MEMORY_LIMIT,\n",
    "    allow_growth=Config.GPU_MEMORY_GROWTH\n",
    ")\n",
    "if Config.USE_MIXED_PRECISION:\n",
    "    GPUMemoryManager.enable_mixed_precision()\n",
    "    GPUMemoryManager.get_memory_info()"
   ]
  },
  {
   "cell_type": "markdown",
   "id": "548c520a",
   "metadata": {
    "papermill": {
     "duration": 0.003462,
     "end_time": "2025-10-21T19:21:18.602480",
     "exception": false,
     "start_time": "2025-10-21T19:21:18.599018",
     "status": "completed"
    },
    "tags": []
   },
   "source": [
    "## **2. Configuration**"
   ]
  },
  {
   "cell_type": "code",
   "execution_count": null,
   "id": "2c7a9760",
   "metadata": {
    "ExecuteTime": {
     "end_time": "2025-10-19T09:41:10.849096Z",
     "start_time": "2025-10-19T09:41:10.844406Z"
    },
    "execution": {
     "iopub.execute_input": "2025-10-21T19:21:18.610537Z",
     "iopub.status.busy": "2025-10-21T19:21:18.610315Z",
     "iopub.status.idle": "2025-10-21T19:21:18.615306Z",
     "shell.execute_reply": "2025-10-21T19:21:18.614472Z"
    },
    "papermill": {
     "duration": 0.010384,
     "end_time": "2025-10-21T19:21:18.616383",
     "exception": false,
     "start_time": "2025-10-21T19:21:18.605999",
     "status": "completed"
    },
    "tags": []
   },
   "outputs": [],
   "source": [
    "config = Config.to_dict()\n",
    "\n",
    "print(\"Configuration:\")\n",
    "for key, value in config.items():\n",
    "    print(f\"   {key}: {value}\")\n",
    "\n",
    "print(\"\\nMemory Estimate:\")\n",
    "for key, value in Config.estimate_memory().items():\n",
    "    print(f\"   {key}: {value}\")"
   ]
  },
  {
   "cell_type": "markdown",
   "id": "b8221d64",
   "metadata": {
    "papermill": {
     "duration": 0.003425,
     "end_time": "2025-10-21T19:21:18.623427",
     "exception": false,
     "start_time": "2025-10-21T19:21:18.620002",
     "status": "completed"
    },
    "tags": []
   },
   "source": [
    "## **3. Data Preprocessing**"
   ]
  },
  {
   "cell_type": "code",
   "execution_count": null,
   "id": "7b633187",
   "metadata": {
    "ExecuteTime": {
     "end_time": "2025-10-19T10:22:48.978571Z",
     "start_time": "2025-10-19T10:22:48.408884Z"
    },
    "execution": {
     "iopub.execute_input": "2025-10-21T19:21:18.631361Z",
     "iopub.status.busy": "2025-10-21T19:21:18.631138Z",
     "iopub.status.idle": "2025-10-21T19:21:28.053403Z",
     "shell.execute_reply": "2025-10-21T19:21:28.052559Z"
    },
    "papermill": {
     "duration": 9.427418,
     "end_time": "2025-10-21T19:21:28.054465",
     "exception": false,
     "start_time": "2025-10-21T19:21:18.627047",
     "status": "completed"
    },
    "tags": []
   },
   "outputs": [],
   "source": [
    "# Tokenizer\n",
    "tokenizer_path = f\"{Config.ARTIFACT_PATH}/tokenizers\"\n",
    "processed_data_path = f\"{Config.DATA_PATH}/processed/processed_df.csv\"\n",
    "\n",
    "preprocessor = DataPreprocessor(\n",
    "    max_vocab_src=Config.MAX_VOCAB_SIZE_SRC,\n",
    "    max_vocab_trg=Config.MAX_VOCAB_SIZE_TRG,\n",
    "    min_frequency=Config.MIN_WORD_FREQUENCY,\n",
    "    expand_contractions=True,\n",
    "    remove_punctuation=True,\n",
    "    name_logger='data_preprocessing',\n",
    "    filename_logger=f'{Config.LOG_DIR}/data_preprocessing.log'\n",
    ")\n",
    "\n",
    "if not os.path.exists(processed_data_path):\n",
    "    print(\"Processing data from scratch...\")\n",
    "    \n",
    "    # Load data\n",
    "    df = preprocessor.load_data(\n",
    "        src_path=f\"{Config.DATA_PATH}/raw/en.txt\",\n",
    "        trg_path=f\"{Config.DATA_PATH}/raw/vi.txt\",\n",
    "        max_length_src=Config.MAX_LENGTH_SRC,\n",
    "        max_length_trg=Config.MAX_LENGTH_TRG\n",
    "    )\n",
    "    \n",
    "    # Save processed data\n",
    "    os.makedirs(os.path.dirname(processed_data_path), exist_ok=True)\n",
    "    df.to_csv(processed_data_path, index=False)\n",
    "    print(f\"Saved processed data to {processed_data_path}\")\n",
    "else:\n",
    "    print(\"Loading cached processed data...\")\n",
    "    df = pd.read_csv(processed_data_path, encoding=\"utf-8\")\n",
    "\n",
    "print(f\"Dataset: {df.shape}\")"
   ]
  },
  {
   "cell_type": "code",
   "execution_count": null,
   "id": "70df68d8",
   "metadata": {},
   "outputs": [],
   "source": [
    "# Split\n",
    "train_df, val_df, test_df = preprocessor.split_data(df)\n",
    "print(f\"Train: {len(train_df)}, Val: {len(val_df)}, Test: {len(test_df)}\")\n",
    "\n",
    "tokenizer_en_path = f'{tokenizer_path}/tokenizer_en.pkl'\n",
    "tokenizer_vi_path = f'{tokenizer_path}/tokenizer_vi.pkl'\n",
    "\n",
    "if not os.path.exists(tokenizer_en_path):\n",
    "    print(\"Building tokenizers from scratch...\")\n",
    "    tokenizer_en, tokenizer_vi = preprocessor.build_tokenizers(train_df)\n",
    "    \n",
    "    # Save\n",
    "    os.makedirs(tokenizer_path, exist_ok=True)\n",
    "    save_tokenizer(tokenizer_en, tokenizer_en_path)\n",
    "    save_tokenizer(tokenizer_vi, tokenizer_vi_path)\n",
    "    print(f\"Saved tokenizers to {tokenizer_path}\")\n",
    "else:\n",
    "    print(\"Loading cached tokenizers...\")\n",
    "    from src.utils import load_tokenizer\n",
    "    tokenizer_en = load_tokenizer(tokenizer_en_path)\n",
    "    tokenizer_vi = load_tokenizer(tokenizer_vi_path)\n",
    "\n",
    "print(f\"English vocab size: {len(tokenizer_en.word_index)}\")\n",
    "print(f\"Vietnamese vocab size: {len(tokenizer_vi.word_index)}\")"
   ]
  },
  {
   "cell_type": "code",
   "execution_count": null,
   "id": "48868b08",
   "metadata": {},
   "outputs": [],
   "source": [
    "# Prepare sequences\n",
    "en_train, vi_in_train, vi_out_train = preprocessor.prepare_sequences(\n",
    "    data=train_df,\n",
    "    max_len_src=Config.MAX_LENGTH_SRC,\n",
    "    max_len_trg=Config.MAX_LENGTH_TRG\n",
    ")\n",
    "\n",
    "en_val, vi_in_val, vi_out_val = preprocessor.prepare_sequences(\n",
    "    data=val_df,\n",
    "    max_len_src=Config.MAX_LENGTH_SRC,\n",
    "    max_len_trg=Config.MAX_LENGTH_TRG\n",
    ")\n",
    "\n",
    "print(f\"Training sequences: {en_train.shape}\")"
   ]
  },
  {
   "cell_type": "markdown",
   "id": "c23dfc28",
   "metadata": {
    "papermill": {
     "duration": 0.004157,
     "end_time": "2025-10-21T19:21:28.063039",
     "exception": false,
     "start_time": "2025-10-21T19:21:28.058882",
     "status": "completed"
    },
    "tags": []
   },
   "source": [
    "## **4. Build BiLSTM Model**"
   ]
  },
  {
   "cell_type": "code",
   "execution_count": null,
   "id": "e22c7f9c",
   "metadata": {
    "ExecuteTime": {
     "end_time": "2025-10-19T10:29:23.793210Z",
     "start_time": "2025-10-19T10:29:22.497815Z"
    },
    "execution": {
     "iopub.execute_input": "2025-10-21T19:21:28.072362Z",
     "iopub.status.busy": "2025-10-21T19:21:28.071924Z",
     "iopub.status.idle": "2025-10-21T19:21:29.639847Z",
     "shell.execute_reply": "2025-10-21T19:21:29.639141Z"
    },
    "papermill": {
     "duration": 1.573663,
     "end_time": "2025-10-21T19:21:29.640921",
     "exception": false,
     "start_time": "2025-10-21T19:21:28.067258",
     "status": "completed"
    },
    "tags": []
   },
   "outputs": [],
   "source": [
    "model_builder = BiLSTMAttentionModel(\n",
    "    config=Config,\n",
    "    name_logger=\"bilstm_attention\",\n",
    "    filename_logger=f\"{Config.LOG_DIR}/bilstm_attention.log\"\n",
    ")\n",
    "bilstm_model = model_builder.build(\n",
    "    vocab_size_src=Config.MAX_VOCAB_SIZE_SRC,\n",
    "    vocab_size_trg=Config.MAX_VOCAB_SIZE_TRG,\n",
    "    max_len_src=Config.MAX_LENGTH_SRC,\n",
    "    max_len_trg=Config.MAX_LENGTH_TRG\n",
    ")\n",
    "\n",
    "bilstm_model.summary()"
   ]
  },
  {
   "cell_type": "code",
   "execution_count": null,
   "id": "5fcdddf7",
   "metadata": {
    "execution": {
     "iopub.execute_input": "2025-10-21T19:21:29.652364Z",
     "iopub.status.busy": "2025-10-21T19:21:29.652054Z",
     "iopub.status.idle": "2025-10-21T19:21:29.656041Z",
     "shell.execute_reply": "2025-10-21T19:21:29.655311Z"
    },
    "papermill": {
     "duration": 0.01093,
     "end_time": "2025-10-21T19:21:29.657142",
     "exception": false,
     "start_time": "2025-10-21T19:21:29.646212",
     "status": "completed"
    },
    "tags": []
   },
   "outputs": [],
   "source": [
    "for layer in bilstm_model.layers[:5]:\n",
    "    print(f\"{layer.name}: dtype={layer.dtype}, compute_dtype={layer.compute_dtype}\")"
   ]
  },
  {
   "cell_type": "markdown",
   "id": "83d11c87",
   "metadata": {
    "papermill": {
     "duration": 0.004741,
     "end_time": "2025-10-21T19:21:29.666812",
     "exception": false,
     "start_time": "2025-10-21T19:21:29.662071",
     "status": "completed"
    },
    "tags": []
   },
   "source": [
    "## **5. Train BiLSTM**"
   ]
  },
  {
   "cell_type": "code",
   "execution_count": null,
   "id": "11acd3f6",
   "metadata": {
    "execution": {
     "iopub.execute_input": "2025-10-21T19:21:29.677979Z",
     "iopub.status.busy": "2025-10-21T19:21:29.677399Z",
     "iopub.status.idle": "2025-10-21T23:53:11.874170Z",
     "shell.execute_reply": "2025-10-21T23:53:11.873419Z"
    },
    "papermill": {
     "duration": 16302.20345,
     "end_time": "2025-10-21T23:53:11.875380",
     "exception": false,
     "start_time": "2025-10-21T19:21:29.671930",
     "status": "completed"
    },
    "tags": []
   },
   "outputs": [],
   "source": [
    "steps_per_epoch = len(en_train) // Config.BATCH_SIZE\n",
    "Config.TOTAL_STEPS = steps_per_epoch * Config.EPOCHS\n",
    "model_name = \"bilstm\"\n",
    "\n",
    "print(f\"Total training steps: {Config.TOTAL_STEPS}\")\n",
    "print(f\"Steps per epoch: {steps_per_epoch}\")\n",
    "print(f\"Batch size (global): {Config.BATCH_SIZE}\")\n",
    "\n",
    "trainer = ModelTrainer(\n",
    "    model=bilstm_model, \n",
    "    config=Config, \n",
    "    model_name=model_name,\n",
    "    logger_name=\"bilstm_attention\",\n",
    "    logger_file=f\"{Config.LOG_DIR}/bilstm_attention.log\"\n",
    ")\n",
    "\n",
    "bilstm_history = trainer.train(\n",
    "    train_data=(en_train, vi_in_train, vi_out_train),\n",
    "    val_data=(en_val, vi_in_val, vi_out_val),\n",
    "    resume=True\n",
    ")"
   ]
  },
  {
   "cell_type": "code",
   "execution_count": null,
   "id": "d4dce64a",
   "metadata": {
    "execution": {
     "iopub.execute_input": "2025-10-21T23:53:14.219327Z",
     "iopub.status.busy": "2025-10-21T23:53:14.218780Z",
     "iopub.status.idle": "2025-10-21T23:53:15.731142Z",
     "shell.execute_reply": "2025-10-21T23:53:15.730318Z"
    },
    "papermill": {
     "duration": 2.633702,
     "end_time": "2025-10-21T23:53:15.732372",
     "exception": false,
     "start_time": "2025-10-21T23:53:13.098670",
     "status": "completed"
    },
    "tags": []
   },
   "outputs": [],
   "source": [
    "# Save model\n",
    "model_path = f\"{Config.ARTIFACT_PATH}/{model_name}\"\n",
    "os.makedirs(model_path, exist_ok=True)\n",
    "trainer.save_model(f\"{model_path}/final_bilstm_model.keras\")"
   ]
  },
  {
   "cell_type": "markdown",
   "id": "8ac1676e",
   "metadata": {
    "papermill": {
     "duration": 1.15397,
     "end_time": "2025-10-21T23:53:18.092049",
     "exception": false,
     "start_time": "2025-10-21T23:53:16.938079",
     "status": "completed"
    },
    "tags": []
   },
   "source": [
    "## **6. Build LSTM Model**"
   ]
  },
  {
   "cell_type": "code",
   "execution_count": null,
   "id": "2956d684",
   "metadata": {
    "ExecuteTime": {
     "end_time": "2025-10-19T10:32:10.150869Z",
     "start_time": "2025-10-19T10:32:09.774285Z"
    },
    "execution": {
     "iopub.execute_input": "2025-10-21T23:53:20.412437Z",
     "iopub.status.busy": "2025-10-21T23:53:20.412167Z",
     "iopub.status.idle": "2025-10-21T23:53:21.112544Z",
     "shell.execute_reply": "2025-10-21T23:53:21.111903Z"
    },
    "papermill": {
     "duration": 1.807798,
     "end_time": "2025-10-21T23:53:21.113619",
     "exception": false,
     "start_time": "2025-10-21T23:53:19.305821",
     "status": "completed"
    },
    "tags": []
   },
   "outputs": [],
   "source": [
    "GPUMemoryManager.clear_session()\n",
    "\n",
    "lstm_builder = LSTMAttentionModel(\n",
    "    config=Config,\n",
    "    name_logger=\"lstm_attention\",\n",
    "    filename_logger=f\"{Config.LOG_DIR}/lstm_attention.log\"\n",
    ")\n",
    "lstm_model = lstm_builder.build(\n",
    "    vocab_size_src=Config.MAX_VOCAB_SIZE_SRC,\n",
    "    vocab_size_trg=Config.MAX_VOCAB_SIZE_TRG,\n",
    "    max_len_src=Config.MAX_LENGTH_SRC,\n",
    "    max_len_trg=Config.MAX_LENGTH_TRG\n",
    ")\n",
    "\n",
    "lstm_model.summary()"
   ]
  },
  {
   "cell_type": "markdown",
   "id": "fcefd58c",
   "metadata": {
    "papermill": {
     "duration": 1.210871,
     "end_time": "2025-10-21T23:53:23.523584",
     "exception": false,
     "start_time": "2025-10-21T23:53:22.312713",
     "status": "completed"
    },
    "tags": []
   },
   "source": [
    "## **7. Train LSTM**"
   ]
  },
  {
   "cell_type": "code",
   "execution_count": null,
   "id": "937b229b",
   "metadata": {
    "execution": {
     "iopub.execute_input": "2025-10-21T23:53:25.846911Z",
     "iopub.status.busy": "2025-10-21T23:53:25.846618Z",
     "iopub.status.idle": "2025-10-22T04:35:02.654126Z",
     "shell.execute_reply": "2025-10-22T04:35:02.653499Z"
    },
    "papermill": {
     "duration": 16897.916343,
     "end_time": "2025-10-22T04:35:02.655245",
     "exception": false,
     "start_time": "2025-10-21T23:53:24.738902",
     "status": "completed"
    },
    "tags": []
   },
   "outputs": [],
   "source": [
    "model_name = \"lstm\"\n",
    "\n",
    "lstm_trainer = ModelTrainer(\n",
    "    model=lstm_model,\n",
    "    config=Config,\n",
    "    model_name=model_name,\n",
    "    logger_name=\"lstm_attention\",\n",
    "    logger_file=f\"{Config.LOG_DIR}/lstm_attention.log\"\n",
    ")\n",
    "\n",
    "lstm_history = lstm_trainer.train(\n",
    "    train_data=(en_train, vi_in_train, vi_out_train),\n",
    "    val_data=(en_val, vi_in_val, vi_out_val),\n",
    "    resume=True\n",
    ")"
   ]
  },
  {
   "cell_type": "code",
   "execution_count": null,
   "id": "fddebd7c",
   "metadata": {
    "execution": {
     "iopub.execute_input": "2025-10-22T04:35:08.707617Z",
     "iopub.status.busy": "2025-10-22T04:35:08.707003Z",
     "iopub.status.idle": "2025-10-22T04:35:09.495059Z",
     "shell.execute_reply": "2025-10-22T04:35:09.494260Z"
    },
    "papermill": {
     "duration": 3.837681,
     "end_time": "2025-10-22T04:35:09.496288",
     "exception": false,
     "start_time": "2025-10-22T04:35:05.658607",
     "status": "completed"
    },
    "tags": []
   },
   "outputs": [],
   "source": [
    "# Save\n",
    "model_path = f\"{Config.ARTIFACT_PATH}/{model_name}\"\n",
    "os.makedirs(model_path, exist_ok=True)\n",
    "lstm_trainer.save_model(f\"{model_path}/final_lstm_model.keras\")"
   ]
  },
  {
   "cell_type": "markdown",
   "id": "9f3d56f7",
   "metadata": {
    "papermill": {
     "duration": 3.169999,
     "end_time": "2025-10-22T04:35:15.664704",
     "exception": false,
     "start_time": "2025-10-22T04:35:12.494705",
     "status": "completed"
    },
    "tags": []
   },
   "source": [
    "## **8. Compare Results**"
   ]
  },
  {
   "cell_type": "code",
   "execution_count": null,
   "id": "a9e55b87",
   "metadata": {
    "execution": {
     "iopub.execute_input": "2025-10-22T04:35:21.763089Z",
     "iopub.status.busy": "2025-10-22T04:35:21.762480Z",
     "iopub.status.idle": "2025-10-22T04:35:22.612967Z",
     "shell.execute_reply": "2025-10-22T04:35:22.611961Z"
    },
    "papermill": {
     "duration": 3.883373,
     "end_time": "2025-10-22T04:35:22.614125",
     "exception": true,
     "start_time": "2025-10-22T04:35:18.730752",
     "status": "failed"
    },
    "tags": []
   },
   "outputs": [],
   "source": [
    "fig, axes = plt.subplots(1, 2, figsize=(14, 5))\n",
    "\n",
    "# Loss\n",
    "axes[0].plot(bilstm_history.history['loss'], label='BiLSTM Train')\n",
    "axes[0].plot(bilstm_history.history['val_loss'], label='BiLSTM Val')\n",
    "axes[0].plot(lstm_history.history['loss'], label='LSTM Train', linestyle='--')\n",
    "axes[0].plot(lstm_history.history['val_loss'], label='LSTM Val', linestyle='--')\n",
    "axes[0].set_title('Model Loss Comparison')\n",
    "axes[0].set_xlabel('Epoch')\n",
    "axes[0].set_ylabel('Loss')\n",
    "axes[0].legend()\n",
    "axes[0].grid(True, alpha=0.3)\n",
    "\n",
    "# Accuracy\n",
    "axes[1].plot(bilstm_history.history['accuracy'], label='BiLSTM Train')\n",
    "axes[1].plot(bilstm_history.history['val_accuracy'], label='BiLSTM Val')\n",
    "axes[1].plot(lstm_history.history['accuracy'], label='LSTM Train', linestyle='--')\n",
    "axes[1].plot(lstm_history.history['val_accuracy'], label='LSTM Val', linestyle='--')\n",
    "axes[1].set_title('Model Accuracy Comparison')\n",
    "axes[1].set_xlabel('Epoch')\n",
    "axes[1].set_ylabel('Accuracy')\n",
    "axes[1].legend()\n",
    "axes[1].grid(True, alpha=0.3)\n",
    "\n",
    "plt.tight_layout()\n",
    "\n",
    "# Save figure\n",
    "os.makedirs(Config.ASSETS_PATH, exist_ok=True)\n",
    "plt.savefig(f\"{Config.ASSETS_PATH}/comparison.png\", dpi=300)\n",
    "plt.show()"
   ]
  },
  {
   "cell_type": "code",
   "execution_count": null,
   "id": "31aba289",
   "metadata": {
    "papermill": {
     "duration": null,
     "end_time": null,
     "exception": null,
     "start_time": null,
     "status": "pending"
    },
    "tags": []
   },
   "outputs": [],
   "source": [
    "print(f\"BiLSTM - Final Val Loss: {bilstm_history.history['val_loss'][-1]:.4f}\")\n",
    "print(f\"LSTM - Final Val Loss: {lstm_history.history['val_loss'][-1]:.4f}\")"
   ]
  }
 ],
 "metadata": {
  "kaggle": {
   "accelerator": "gpu",
   "dataSources": [
    {
     "datasetId": 8542611,
     "sourceId": 13457858,
     "sourceType": "datasetVersion"
    }
   ],
   "isGpuEnabled": true,
   "isInternetEnabled": true,
   "language": "python",
   "sourceType": "notebook"
  },
  "kernelspec": {
   "display_name": ".venv",
   "language": "python",
   "name": "python3"
  },
  "language_info": {
   "codemirror_mode": {
    "name": "ipython",
    "version": 3
   },
   "file_extension": ".py",
   "mimetype": "text/x-python",
   "name": "python",
   "nbconvert_exporter": "python",
   "pygments_lexer": "ipython3",
   "version": "3.12.3"
  },
  "papermill": {
   "default_parameters": {},
   "duration": 33277.878999,
   "end_time": "2025-10-22T04:35:29.122850",
   "environment_variables": {},
   "exception": true,
   "input_path": "__notebook__.ipynb",
   "output_path": "__notebook__.ipynb",
   "parameters": {},
   "start_time": "2025-10-21T19:20:51.243851",
   "version": "2.6.0"
  }
 },
 "nbformat": 4,
 "nbformat_minor": 5
}
